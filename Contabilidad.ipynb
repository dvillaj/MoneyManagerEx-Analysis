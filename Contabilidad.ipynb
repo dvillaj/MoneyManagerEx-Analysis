{
 "cells": [
  {
   "cell_type": "code",
   "execution_count": 105,
   "id": "dac040da-f0c1-4f04-84a4-83d7e980bfec",
   "metadata": {},
   "outputs": [],
   "source": [
    "from utils import *\n",
    "import pandas as pd"
   ]
  },
  {
   "cell_type": "code",
   "execution_count": 106,
   "id": "f5156ae7-e761-454b-ad9d-ebd1dad77c90",
   "metadata": {},
   "outputs": [],
   "source": [
    "df_mme = pd.read_csv(\"data/M.csv\")"
   ]
  },
  {
   "cell_type": "code",
   "execution_count": 107,
   "id": "ff98bedd-9066-4d5a-8ac2-a5ed05be434a",
   "metadata": {
    "tags": []
   },
   "outputs": [],
   "source": [
    "df = df_mme.pipe(clean_data).query(\"Fecha >= '2022-01-01'\")\n",
    "df_despacho = df.pipe(return_despacho_movements)\n",
    "df_hogar = df.pipe(return_hogar_movements)"
   ]
  },
  {
   "cell_type": "code",
   "execution_count": 108,
   "id": "d65744ef-c01f-417b-a37f-339369a218aa",
   "metadata": {},
   "outputs": [
    {
     "data": {
      "text/html": [
       "<div>\n",
       "<style scoped>\n",
       "    .dataframe tbody tr th:only-of-type {\n",
       "        vertical-align: middle;\n",
       "    }\n",
       "\n",
       "    .dataframe tbody tr th {\n",
       "        vertical-align: top;\n",
       "    }\n",
       "\n",
       "    .dataframe thead th {\n",
       "        text-align: right;\n",
       "    }\n",
       "</style>\n",
       "<table border=\"1\" class=\"dataframe\">\n",
       "  <thead>\n",
       "    <tr style=\"text-align: right;\">\n",
       "      <th></th>\n",
       "      <th>Identificador</th>\n",
       "      <th>Fecha</th>\n",
       "      <th>Estado</th>\n",
       "      <th>Tipo</th>\n",
       "      <th>Cuenta</th>\n",
       "      <th>Beneficiario</th>\n",
       "      <th>Categoría</th>\n",
       "      <th>Importe</th>\n",
       "      <th>Divisa</th>\n",
       "      <th>Número</th>\n",
       "      <th>Notas</th>\n",
       "    </tr>\n",
       "  </thead>\n",
       "  <tbody>\n",
       "  </tbody>\n",
       "</table>\n",
       "</div>"
      ],
      "text/plain": [
       "Empty DataFrame\n",
       "Columns: [Identificador, Fecha, Estado, Tipo, Cuenta, Beneficiario, Categoría, Importe, Divisa, Número, Notas]\n",
       "Index: []"
      ]
     },
     "execution_count": 108,
     "metadata": {},
     "output_type": "execute_result"
    }
   ],
   "source": [
    "df_mme.query(\"Estado != 'R'\")"
   ]
  },
  {
   "cell_type": "code",
   "execution_count": 109,
   "id": "e1604316-9b24-4b24-a0b7-978811dab2cb",
   "metadata": {},
   "outputs": [
    {
     "data": {
      "text/html": [
       "<div>\n",
       "<style scoped>\n",
       "    .dataframe tbody tr th:only-of-type {\n",
       "        vertical-align: middle;\n",
       "    }\n",
       "\n",
       "    .dataframe tbody tr th {\n",
       "        vertical-align: top;\n",
       "    }\n",
       "\n",
       "    .dataframe thead th {\n",
       "        text-align: right;\n",
       "    }\n",
       "</style>\n",
       "<table border=\"1\" class=\"dataframe\">\n",
       "  <thead>\n",
       "    <tr style=\"text-align: right;\">\n",
       "      <th></th>\n",
       "      <th>Tipo</th>\n",
       "      <th>Categoria</th>\n",
       "      <th>Subcategoria</th>\n",
       "      <th>Beneficiario</th>\n",
       "      <th>Diciembre 2022</th>\n",
       "      <th>Noviembre 2022</th>\n",
       "      <th>Octubre 2022</th>\n",
       "      <th>Septiembre 2022</th>\n",
       "      <th>Agosto 2022</th>\n",
       "      <th>Julio 2022</th>\n",
       "      <th>Junio 2022</th>\n",
       "      <th>Mayo 2022</th>\n",
       "      <th>Abril 2022</th>\n",
       "      <th>Marzo 2022</th>\n",
       "      <th>Febrero 2022</th>\n",
       "      <th>Enero 2022</th>\n",
       "      <th>Media</th>\n",
       "      <th>Total</th>\n",
       "      <th>Enero 2023</th>\n",
       "    </tr>\n",
       "  </thead>\n",
       "  <tbody>\n",
       "  </tbody>\n",
       "</table>\n",
       "</div>"
      ],
      "text/plain": [
       "Empty DataFrame\n",
       "Columns: [Tipo, Categoria, Subcategoria, Beneficiario, Diciembre 2022, Noviembre 2022, Octubre 2022, Septiembre 2022, Agosto 2022, Julio 2022, Junio 2022, Mayo 2022, Abril 2022, Marzo 2022, Febrero 2022, Enero 2022, Media, Total, Enero 2023]\n",
       "Index: []"
      ]
     },
     "execution_count": 109,
     "metadata": {},
     "output_type": "execute_result"
    }
   ],
   "source": [
    "pd.concat([\n",
    "    (df_despacho\n",
    "     .pipe(pivot_by_category, [\"Tipo\", \"Categoria\", \"Subcategoria\", \"Beneficiario\"])\n",
    "     .query(\"Tipo == 'Gastos' and Total > 0\")\n",
    "    ),\n",
    "    (df_hogar\n",
    "     .pipe(pivot_by_category, [\"Tipo\", \"Categoria\", \"Subcategoria\", \"Beneficiario\"])\n",
    "     .query(\"Tipo == 'Gastos' and Total > 0\")\n",
    "    )\n",
    "])"
   ]
  },
  {
   "cell_type": "code",
   "execution_count": 110,
   "id": "0ec7ca07-4036-49dd-a2e2-8442e61f4d2e",
   "metadata": {},
   "outputs": [
    {
     "data": {
      "text/html": [
       "<div>\n",
       "<style scoped>\n",
       "    .dataframe tbody tr th:only-of-type {\n",
       "        vertical-align: middle;\n",
       "    }\n",
       "\n",
       "    .dataframe tbody tr th {\n",
       "        vertical-align: top;\n",
       "    }\n",
       "\n",
       "    .dataframe thead th {\n",
       "        text-align: right;\n",
       "    }\n",
       "</style>\n",
       "<table border=\"1\" class=\"dataframe\">\n",
       "  <thead>\n",
       "    <tr style=\"text-align: right;\">\n",
       "      <th></th>\n",
       "      <th>Fecha</th>\n",
       "      <th>Tipo</th>\n",
       "      <th>Categoria</th>\n",
       "      <th>Subcategoria</th>\n",
       "      <th>Beneficiario</th>\n",
       "      <th>Transaccion</th>\n",
       "      <th>Importe</th>\n",
       "    </tr>\n",
       "  </thead>\n",
       "  <tbody>\n",
       "    <tr>\n",
       "      <th>198</th>\n",
       "      <td>2022-05-03</td>\n",
       "      <td>Ingresos</td>\n",
       "      <td>Ingresos</td>\n",
       "      <td>Intereses Bancarios</td>\n",
       "      <td>OPENBANK</td>\n",
       "      <td>Abono</td>\n",
       "      <td>1.72</td>\n",
       "    </tr>\n",
       "    <tr>\n",
       "      <th>306</th>\n",
       "      <td>2022-07-03</td>\n",
       "      <td>Gastos</td>\n",
       "      <td>Préstamo</td>\n",
       "      <td>&lt;NA&gt;</td>\n",
       "      <td>TIA MARICARMEN</td>\n",
       "      <td>Cargo</td>\n",
       "      <td>-50.0</td>\n",
       "    </tr>\n",
       "    <tr>\n",
       "      <th>1642</th>\n",
       "      <td>2022-03-21</td>\n",
       "      <td>Gastos</td>\n",
       "      <td>Despacho - Ocio</td>\n",
       "      <td>Restaurantes</td>\n",
       "      <td>MCDONALDS</td>\n",
       "      <td>Cargo</td>\n",
       "      <td>-22.75</td>\n",
       "    </tr>\n",
       "    <tr>\n",
       "      <th>1652</th>\n",
       "      <td>2022-03-25</td>\n",
       "      <td>Ingresos</td>\n",
       "      <td>Despacho - Ingresos</td>\n",
       "      <td>Ana</td>\n",
       "      <td>JUAN LUIS DE MIGUEL GUTIERREZ</td>\n",
       "      <td>Abono</td>\n",
       "      <td>242.0</td>\n",
       "    </tr>\n",
       "    <tr>\n",
       "      <th>790</th>\n",
       "      <td>2022-05-03</td>\n",
       "      <td>Gastos</td>\n",
       "      <td>Cultura</td>\n",
       "      <td>Libros</td>\n",
       "      <td>AMAZON</td>\n",
       "      <td>Cargo</td>\n",
       "      <td>-22.75</td>\n",
       "    </tr>\n",
       "  </tbody>\n",
       "</table>\n",
       "</div>"
      ],
      "text/plain": [
       "          Fecha      Tipo            Categoria         Subcategoria  \\\n",
       "198  2022-05-03  Ingresos             Ingresos  Intereses Bancarios   \n",
       "306  2022-07-03    Gastos             Préstamo                 <NA>   \n",
       "1642 2022-03-21    Gastos      Despacho - Ocio         Restaurantes   \n",
       "1652 2022-03-25  Ingresos  Despacho - Ingresos                  Ana   \n",
       "790  2022-05-03    Gastos              Cultura               Libros   \n",
       "\n",
       "                       Beneficiario Transaccion  Importe  \n",
       "198                        OPENBANK       Abono     1.72  \n",
       "306                  TIA MARICARMEN       Cargo    -50.0  \n",
       "1642                      MCDONALDS       Cargo   -22.75  \n",
       "1652  JUAN LUIS DE MIGUEL GUTIERREZ       Abono    242.0  \n",
       "790                          AMAZON       Cargo   -22.75  "
      ]
     },
     "execution_count": 110,
     "metadata": {},
     "output_type": "execute_result"
    }
   ],
   "source": [
    "df.sample(5)"
   ]
  },
  {
   "cell_type": "code",
   "execution_count": 111,
   "id": "2943a388-696f-4da0-ae24-bce861afe397",
   "metadata": {},
   "outputs": [
    {
     "data": {
      "text/html": [
       "<style type=\"text/css\">\n",
       "</style>\n",
       "<table id=\"T_88d62_\">\n",
       "  <thead>\n",
       "    <tr>\n",
       "      <th class=\"blank level0\" >&nbsp;</th>\n",
       "      <th class=\"col_heading level0 col0\" >Tipo</th>\n",
       "      <th class=\"col_heading level0 col1\" >Enero 2023</th>\n",
       "      <th class=\"col_heading level0 col2\" >Media</th>\n",
       "      <th class=\"col_heading level0 col3\" >Total</th>\n",
       "    </tr>\n",
       "  </thead>\n",
       "  <tbody>\n",
       "    <tr>\n",
       "      <th id=\"T_88d62_level0_row0\" class=\"row_heading level0 row0\" >0</th>\n",
       "      <td id=\"T_88d62_row0_col0\" class=\"data row0 col0\" >Gastos</td>\n",
       "      <td id=\"T_88d62_row0_col1\" class=\"data row0 col1\" >-2.664,84</td>\n",
       "      <td id=\"T_88d62_row0_col2\" class=\"data row0 col2\" >-2.664,84</td>\n",
       "      <td id=\"T_88d62_row0_col3\" class=\"data row0 col3\" >-2.664,84</td>\n",
       "    </tr>\n",
       "    <tr>\n",
       "      <th id=\"T_88d62_level0_row1\" class=\"row_heading level0 row1\" >1</th>\n",
       "      <td id=\"T_88d62_row1_col0\" class=\"data row1 col0\" >Ingresos</td>\n",
       "      <td id=\"T_88d62_row1_col1\" class=\"data row1 col1\" >0,38</td>\n",
       "      <td id=\"T_88d62_row1_col2\" class=\"data row1 col2\" >0,38</td>\n",
       "      <td id=\"T_88d62_row1_col3\" class=\"data row1 col3\" >0,38</td>\n",
       "    </tr>\n",
       "    <tr>\n",
       "      <th id=\"T_88d62_level0_row2\" class=\"row_heading level0 row2\" >2</th>\n",
       "      <td id=\"T_88d62_row2_col0\" class=\"data row2 col0\" >Total</td>\n",
       "      <td id=\"T_88d62_row2_col1\" class=\"data row2 col1\" >-2.664,46</td>\n",
       "      <td id=\"T_88d62_row2_col2\" class=\"data row2 col2\" >-2.664,46</td>\n",
       "      <td id=\"T_88d62_row2_col3\" class=\"data row2 col3\" >-2.664,46</td>\n",
       "    </tr>\n",
       "  </tbody>\n",
       "</table>\n"
      ],
      "text/plain": [
       "<pandas.io.formats.style.Styler at 0x2a89aad6070>"
      ]
     },
     "execution_count": 111,
     "metadata": {},
     "output_type": "execute_result"
    }
   ],
   "source": [
    "(df_hogar\n",
    "    .query(\"Fecha.dt.year == 2023\")\n",
    "    .pipe(pivot_by_category_totals, [\"Tipo\"])\n",
    "       .pipe(style_locale_es)\n",
    " )"
   ]
  },
  {
   "cell_type": "code",
   "execution_count": 112,
   "id": "5cfaad81-464c-49df-a748-66b6bd4a992e",
   "metadata": {},
   "outputs": [
    {
     "data": {
      "text/html": [
       "<style type=\"text/css\">\n",
       "</style>\n",
       "<table id=\"T_19d9f_\">\n",
       "  <thead>\n",
       "    <tr>\n",
       "      <th class=\"blank level0\" >&nbsp;</th>\n",
       "      <th class=\"col_heading level0 col0\" >Tipo</th>\n",
       "      <th class=\"col_heading level0 col1\" >Media</th>\n",
       "      <th class=\"col_heading level0 col2\" >Total</th>\n",
       "    </tr>\n",
       "  </thead>\n",
       "  <tbody>\n",
       "    <tr>\n",
       "      <th id=\"T_19d9f_level0_row0\" class=\"row_heading level0 row0\" >0</th>\n",
       "      <td id=\"T_19d9f_row0_col0\" class=\"data row0 col0\" >Total</td>\n",
       "      <td id=\"T_19d9f_row0_col1\" class=\"data row0 col1\" >0,00</td>\n",
       "      <td id=\"T_19d9f_row0_col2\" class=\"data row0 col2\" >0,00</td>\n",
       "    </tr>\n",
       "  </tbody>\n",
       "</table>\n"
      ],
      "text/plain": [
       "<pandas.io.formats.style.Styler at 0x2a89a786fa0>"
      ]
     },
     "execution_count": 112,
     "metadata": {},
     "output_type": "execute_result"
    }
   ],
   "source": [
    "(df_despacho\n",
    "    .query(\"Fecha.dt.year == 2023\")\n",
    "    .pipe(pivot_by_category_totals, [\"Tipo\"])\n",
    "    .pipe(style_locale_es)\n",
    " )"
   ]
  },
  {
   "cell_type": "code",
   "execution_count": null,
   "id": "4cd48686-3884-4a9d-9c59-c27d7b38636d",
   "metadata": {},
   "outputs": [],
   "source": []
  },
  {
   "cell_type": "code",
   "execution_count": null,
   "id": "369ef490-3df4-4e47-84f6-6dd5c60ef74f",
   "metadata": {},
   "outputs": [],
   "source": []
  }
 ],
 "metadata": {
  "kernelspec": {
   "display_name": "Python 3 (ipykernel)",
   "language": "python",
   "name": "python3"
  },
  "language_info": {
   "codemirror_mode": {
    "name": "ipython",
    "version": 3
   },
   "file_extension": ".py",
   "mimetype": "text/x-python",
   "name": "python",
   "nbconvert_exporter": "python",
   "pygments_lexer": "ipython3",
   "version": "3.9.12"
  },
  "vscode": {
   "interpreter": {
    "hash": "f07f7923d67306705c5f911839e9107bec05892de5ee18ac03791d9482f7e494"
   }
  }
 },
 "nbformat": 4,
 "nbformat_minor": 5
}
