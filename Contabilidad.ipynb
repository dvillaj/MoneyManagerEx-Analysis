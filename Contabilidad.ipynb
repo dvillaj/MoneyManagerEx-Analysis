{
 "cells": [
  {
   "cell_type": "code",
   "execution_count": 8,
   "id": "dac040da-f0c1-4f04-84a4-83d7e980bfec",
   "metadata": {},
   "outputs": [],
   "source": [
    "from utils import *\n",
    "import pandas as pd\n",
    "import warnings\n",
    "warnings.simplefilter(action='ignore', category=FutureWarning)"
   ]
  },
  {
   "cell_type": "code",
   "execution_count": 9,
   "id": "f5156ae7-e761-454b-ad9d-ebd1dad77c90",
   "metadata": {},
   "outputs": [],
   "source": [
    "df = pd.read_csv(\"M.csv\") \\\n",
    "                .pipe(clean_data) "
   ]
  },
  {
   "cell_type": "code",
   "execution_count": 10,
   "id": "ff98bedd-9066-4d5a-8ac2-a5ed05be434a",
   "metadata": {
    "tags": []
   },
   "outputs": [],
   "source": [
    "df_despacho = df.pipe(return_despacho_movements)\n",
    "df_hogar = df.pipe(return_hogar_movements)"
   ]
  },
  {
   "cell_type": "code",
   "execution_count": 11,
   "id": "1a95d953-eb73-4546-a6fd-2d02e52ec6a2",
   "metadata": {},
   "outputs": [],
   "source": [
    "#write_raw_to_excel(df_despacho, \"Raw Despacho.xlsx\")\n",
    "#write_raw_to_excel(df_hogar, \"Raw Hogar.xlsx\")"
   ]
  },
  {
   "cell_type": "code",
   "execution_count": 12,
   "id": "5cfaad81-464c-49df-a748-66b6bd4a992e",
   "metadata": {},
   "outputs": [
    {
     "data": {
      "text/html": [
       "<div>\n",
       "<style scoped>\n",
       "    .dataframe tbody tr th:only-of-type {\n",
       "        vertical-align: middle;\n",
       "    }\n",
       "\n",
       "    .dataframe tbody tr th {\n",
       "        vertical-align: top;\n",
       "    }\n",
       "\n",
       "    .dataframe thead th {\n",
       "        text-align: right;\n",
       "    }\n",
       "</style>\n",
       "<table border=\"1\" class=\"dataframe\">\n",
       "  <thead>\n",
       "    <tr style=\"text-align: right;\">\n",
       "      <th></th>\n",
       "      <th>Tipo</th>\n",
       "      <th>Enero</th>\n",
       "      <th>Febrero</th>\n",
       "      <th>Marzo</th>\n",
       "      <th>Abril</th>\n",
       "      <th>Mayo</th>\n",
       "      <th>Junio</th>\n",
       "      <th>Julio</th>\n",
       "      <th>Agosto</th>\n",
       "      <th>Septiembre</th>\n",
       "      <th>Octubre</th>\n",
       "      <th>Noviembre</th>\n",
       "      <th>Diciembre</th>\n",
       "      <th>Media</th>\n",
       "      <th>Total</th>\n",
       "    </tr>\n",
       "  </thead>\n",
       "  <tbody>\n",
       "    <tr>\n",
       "      <th>0</th>\n",
       "      <td>Gastos</td>\n",
       "      <td>-627.95</td>\n",
       "      <td>-655.18</td>\n",
       "      <td>-638.43</td>\n",
       "      <td>-1782.86</td>\n",
       "      <td>-593.03</td>\n",
       "      <td>-431.15</td>\n",
       "      <td>-1430.33</td>\n",
       "      <td>-283.38</td>\n",
       "      <td>-440.76</td>\n",
       "      <td>-2310.61</td>\n",
       "      <td>-490.46</td>\n",
       "      <td>-263.54</td>\n",
       "      <td>-880.38</td>\n",
       "      <td>-9947.68</td>\n",
       "    </tr>\n",
       "    <tr>\n",
       "      <th>1</th>\n",
       "      <td>Ingresos</td>\n",
       "      <td>410.00</td>\n",
       "      <td>3290.60</td>\n",
       "      <td>5334.69</td>\n",
       "      <td>4578.71</td>\n",
       "      <td>3413.30</td>\n",
       "      <td>3670.00</td>\n",
       "      <td>3903.71</td>\n",
       "      <td>50.00</td>\n",
       "      <td>242.00</td>\n",
       "      <td>8752.27</td>\n",
       "      <td>4446.89</td>\n",
       "      <td>1938.61</td>\n",
       "      <td>3462.92</td>\n",
       "      <td>40030.78</td>\n",
       "    </tr>\n",
       "    <tr>\n",
       "      <th>2</th>\n",
       "      <td>Total</td>\n",
       "      <td>-217.95</td>\n",
       "      <td>2635.42</td>\n",
       "      <td>4696.26</td>\n",
       "      <td>2795.85</td>\n",
       "      <td>2820.27</td>\n",
       "      <td>3238.85</td>\n",
       "      <td>2473.38</td>\n",
       "      <td>-233.38</td>\n",
       "      <td>-198.76</td>\n",
       "      <td>6441.66</td>\n",
       "      <td>3956.43</td>\n",
       "      <td>1675.07</td>\n",
       "      <td>2582.54</td>\n",
       "      <td>30083.10</td>\n",
       "    </tr>\n",
       "  </tbody>\n",
       "</table>\n",
       "</div>"
      ],
      "text/plain": [
       "       Tipo   Enero  Febrero    Marzo    Abril     Mayo    Junio    Julio  \\\n",
       "0    Gastos -627.95  -655.18  -638.43 -1782.86  -593.03  -431.15 -1430.33   \n",
       "1  Ingresos  410.00  3290.60  5334.69  4578.71  3413.30  3670.00  3903.71   \n",
       "2     Total -217.95  2635.42  4696.26  2795.85  2820.27  3238.85  2473.38   \n",
       "\n",
       "   Agosto  Septiembre  Octubre  Noviembre  Diciembre    Media     Total  \n",
       "0 -283.38     -440.76 -2310.61    -490.46    -263.54  -880.38  -9947.68  \n",
       "1   50.00      242.00  8752.27    4446.89    1938.61  3462.92  40030.78  \n",
       "2 -233.38     -198.76  6441.66    3956.43    1675.07  2582.54  30083.10  "
      ]
     },
     "execution_count": 12,
     "metadata": {},
     "output_type": "execute_result"
    }
   ],
   "source": [
    "df_despacho.pipe(pivot_by_category_totals, [\"Tipo\"])"
   ]
  },
  {
   "cell_type": "code",
   "execution_count": 13,
   "id": "2943a388-696f-4da0-ae24-bce861afe397",
   "metadata": {},
   "outputs": [
    {
     "data": {
      "text/html": [
       "<div>\n",
       "<style scoped>\n",
       "    .dataframe tbody tr th:only-of-type {\n",
       "        vertical-align: middle;\n",
       "    }\n",
       "\n",
       "    .dataframe tbody tr th {\n",
       "        vertical-align: top;\n",
       "    }\n",
       "\n",
       "    .dataframe thead th {\n",
       "        text-align: right;\n",
       "    }\n",
       "</style>\n",
       "<table border=\"1\" class=\"dataframe\">\n",
       "  <thead>\n",
       "    <tr style=\"text-align: right;\">\n",
       "      <th></th>\n",
       "      <th>Tipo</th>\n",
       "      <th>Enero</th>\n",
       "      <th>Febrero</th>\n",
       "      <th>Marzo</th>\n",
       "      <th>Abril</th>\n",
       "      <th>Mayo</th>\n",
       "      <th>Junio</th>\n",
       "      <th>Julio</th>\n",
       "      <th>Agosto</th>\n",
       "      <th>Septiembre</th>\n",
       "      <th>Octubre</th>\n",
       "      <th>Noviembre</th>\n",
       "      <th>Diciembre</th>\n",
       "      <th>Media</th>\n",
       "      <th>Total</th>\n",
       "    </tr>\n",
       "  </thead>\n",
       "  <tbody>\n",
       "    <tr>\n",
       "      <th>0</th>\n",
       "      <td>Gastos</td>\n",
       "      <td>-4858.84</td>\n",
       "      <td>-4370.48</td>\n",
       "      <td>-5208.63</td>\n",
       "      <td>-5062.51</td>\n",
       "      <td>-5210.00</td>\n",
       "      <td>-8112.99</td>\n",
       "      <td>-8256.59</td>\n",
       "      <td>-3461.10</td>\n",
       "      <td>-5234.44</td>\n",
       "      <td>-12485.53</td>\n",
       "      <td>-8507.20</td>\n",
       "      <td>-8541.50</td>\n",
       "      <td>-6433.48</td>\n",
       "      <td>-79309.81</td>\n",
       "    </tr>\n",
       "    <tr>\n",
       "      <th>1</th>\n",
       "      <td>Ingresos</td>\n",
       "      <td>2642.34</td>\n",
       "      <td>9696.62</td>\n",
       "      <td>7735.52</td>\n",
       "      <td>5602.14</td>\n",
       "      <td>5627.59</td>\n",
       "      <td>9110.07</td>\n",
       "      <td>5291.84</td>\n",
       "      <td>2587.06</td>\n",
       "      <td>2727.39</td>\n",
       "      <td>9266.42</td>\n",
       "      <td>10296.45</td>\n",
       "      <td>11082.86</td>\n",
       "      <td>6416.68</td>\n",
       "      <td>81666.30</td>\n",
       "    </tr>\n",
       "    <tr>\n",
       "      <th>2</th>\n",
       "      <td>Total</td>\n",
       "      <td>-2216.50</td>\n",
       "      <td>5326.14</td>\n",
       "      <td>2526.89</td>\n",
       "      <td>539.63</td>\n",
       "      <td>417.59</td>\n",
       "      <td>997.08</td>\n",
       "      <td>-2964.75</td>\n",
       "      <td>-874.04</td>\n",
       "      <td>-2507.05</td>\n",
       "      <td>-3219.11</td>\n",
       "      <td>1789.25</td>\n",
       "      <td>2541.36</td>\n",
       "      <td>-16.80</td>\n",
       "      <td>2356.49</td>\n",
       "    </tr>\n",
       "  </tbody>\n",
       "</table>\n",
       "</div>"
      ],
      "text/plain": [
       "       Tipo    Enero  Febrero    Marzo    Abril     Mayo    Junio    Julio  \\\n",
       "0    Gastos -4858.84 -4370.48 -5208.63 -5062.51 -5210.00 -8112.99 -8256.59   \n",
       "1  Ingresos  2642.34  9696.62  7735.52  5602.14  5627.59  9110.07  5291.84   \n",
       "2     Total -2216.50  5326.14  2526.89   539.63   417.59   997.08 -2964.75   \n",
       "\n",
       "    Agosto  Septiembre   Octubre  Noviembre  Diciembre    Media     Total  \n",
       "0 -3461.10    -5234.44 -12485.53   -8507.20   -8541.50 -6433.48 -79309.81  \n",
       "1  2587.06     2727.39   9266.42   10296.45   11082.86  6416.68  81666.30  \n",
       "2  -874.04    -2507.05  -3219.11    1789.25    2541.36   -16.80   2356.49  "
      ]
     },
     "execution_count": 13,
     "metadata": {},
     "output_type": "execute_result"
    }
   ],
   "source": [
    "df_hogar.pipe(pivot_by_category_totals, [\"Tipo\"])"
   ]
  },
  {
   "cell_type": "code",
   "execution_count": 14,
   "id": "7062d6a7-9b14-4343-96e2-dc499a8252a5",
   "metadata": {},
   "outputs": [],
   "source": [
    "write_to_excel(df_hogar, 'Hogar.xlsx')\n",
    "write_to_excel(df_despacho, 'Despacho.xlsx')"
   ]
  },
  {
   "cell_type": "code",
   "execution_count": null,
   "id": "26a7ac25-44fd-4437-ba0e-02e6679a8537",
   "metadata": {},
   "outputs": [],
   "source": []
  }
 ],
 "metadata": {
  "kernelspec": {
   "display_name": "Python 3 (ipykernel)",
   "language": "python",
   "name": "python3"
  },
  "language_info": {
   "codemirror_mode": {
    "name": "ipython",
    "version": 3
   },
   "file_extension": ".py",
   "mimetype": "text/x-python",
   "name": "python",
   "nbconvert_exporter": "python",
   "pygments_lexer": "ipython3",
   "version": "3.9.12"
  },
  "vscode": {
   "interpreter": {
    "hash": "dd1d98e7a10dc4d7a76dbe9a54b4e15fd5f698cf1f912f57cec23eb74ebef15e"
   }
  }
 },
 "nbformat": 4,
 "nbformat_minor": 5
}
