{
 "cells": [
  {
   "cell_type": "code",
   "execution_count": 8,
   "id": "dac040da-f0c1-4f04-84a4-83d7e980bfec",
   "metadata": {},
   "outputs": [],
   "source": [
    "from utils import *\n",
    "import pandas as pd\n",
    "import warnings\n",
    "warnings.simplefilter(action='ignore', category=FutureWarning)"
   ]
  },
  {
   "cell_type": "code",
   "execution_count": 9,
   "id": "f5156ae7-e761-454b-ad9d-ebd1dad77c90",
   "metadata": {},
   "outputs": [],
   "source": [
    "df = pd.read_csv(\"data/M.csv\") \\\n",
    "                .pipe(clean_data) "
   ]
  },
  {
   "cell_type": "code",
   "execution_count": 10,
   "id": "ff98bedd-9066-4d5a-8ac2-a5ed05be434a",
   "metadata": {
    "tags": []
   },
   "outputs": [],
   "source": [
    "df_despacho = df.pipe(return_despacho_movements)\n",
    "df_hogar = df.pipe(return_hogar_movements)"
   ]
  },
  {
   "cell_type": "code",
   "execution_count": 11,
   "id": "5cfaad81-464c-49df-a748-66b6bd4a992e",
   "metadata": {},
   "outputs": [
    {
     "data": {
      "text/html": [
       "<style type=\"text/css\">\n",
       "</style>\n",
       "<table id=\"T_cee4b_\">\n",
       "  <thead>\n",
       "    <tr>\n",
       "      <th class=\"blank level0\" >&nbsp;</th>\n",
       "      <th class=\"col_heading level0 col0\" >Tipo</th>\n",
       "      <th class=\"col_heading level0 col1\" >Enero</th>\n",
       "      <th class=\"col_heading level0 col2\" >Febrero</th>\n",
       "      <th class=\"col_heading level0 col3\" >Marzo</th>\n",
       "      <th class=\"col_heading level0 col4\" >Abril</th>\n",
       "      <th class=\"col_heading level0 col5\" >Mayo</th>\n",
       "      <th class=\"col_heading level0 col6\" >Junio</th>\n",
       "      <th class=\"col_heading level0 col7\" >Julio</th>\n",
       "      <th class=\"col_heading level0 col8\" >Agosto</th>\n",
       "      <th class=\"col_heading level0 col9\" >Septiembre</th>\n",
       "      <th class=\"col_heading level0 col10\" >Octubre</th>\n",
       "      <th class=\"col_heading level0 col11\" >Noviembre</th>\n",
       "      <th class=\"col_heading level0 col12\" >Diciembre</th>\n",
       "      <th class=\"col_heading level0 col13\" >Media</th>\n",
       "      <th class=\"col_heading level0 col14\" >Total</th>\n",
       "    </tr>\n",
       "  </thead>\n",
       "  <tbody>\n",
       "    <tr>\n",
       "      <th id=\"T_cee4b_level0_row0\" class=\"row_heading level0 row0\" >0</th>\n",
       "      <td id=\"T_cee4b_row0_col0\" class=\"data row0 col0\" >Gastos</td>\n",
       "      <td id=\"T_cee4b_row0_col1\" class=\"data row0 col1\" >-627,95</td>\n",
       "      <td id=\"T_cee4b_row0_col2\" class=\"data row0 col2\" >-655,18</td>\n",
       "      <td id=\"T_cee4b_row0_col3\" class=\"data row0 col3\" >-638,43</td>\n",
       "      <td id=\"T_cee4b_row0_col4\" class=\"data row0 col4\" >-1.782,86</td>\n",
       "      <td id=\"T_cee4b_row0_col5\" class=\"data row0 col5\" >-593,03</td>\n",
       "      <td id=\"T_cee4b_row0_col6\" class=\"data row0 col6\" >-431,15</td>\n",
       "      <td id=\"T_cee4b_row0_col7\" class=\"data row0 col7\" >-1.430,33</td>\n",
       "      <td id=\"T_cee4b_row0_col8\" class=\"data row0 col8\" >-283,38</td>\n",
       "      <td id=\"T_cee4b_row0_col9\" class=\"data row0 col9\" >-440,76</td>\n",
       "      <td id=\"T_cee4b_row0_col10\" class=\"data row0 col10\" >-2.310,61</td>\n",
       "      <td id=\"T_cee4b_row0_col11\" class=\"data row0 col11\" >-490,46</td>\n",
       "      <td id=\"T_cee4b_row0_col12\" class=\"data row0 col12\" >-263,54</td>\n",
       "      <td id=\"T_cee4b_row0_col13\" class=\"data row0 col13\" >-828,97</td>\n",
       "      <td id=\"T_cee4b_row0_col14\" class=\"data row0 col14\" >-9.947,68</td>\n",
       "    </tr>\n",
       "    <tr>\n",
       "      <th id=\"T_cee4b_level0_row1\" class=\"row_heading level0 row1\" >1</th>\n",
       "      <td id=\"T_cee4b_row1_col0\" class=\"data row1 col0\" >Ingresos</td>\n",
       "      <td id=\"T_cee4b_row1_col1\" class=\"data row1 col1\" >410,00</td>\n",
       "      <td id=\"T_cee4b_row1_col2\" class=\"data row1 col2\" >3.290,60</td>\n",
       "      <td id=\"T_cee4b_row1_col3\" class=\"data row1 col3\" >5.334,69</td>\n",
       "      <td id=\"T_cee4b_row1_col4\" class=\"data row1 col4\" >4.578,71</td>\n",
       "      <td id=\"T_cee4b_row1_col5\" class=\"data row1 col5\" >3.413,30</td>\n",
       "      <td id=\"T_cee4b_row1_col6\" class=\"data row1 col6\" >3.670,00</td>\n",
       "      <td id=\"T_cee4b_row1_col7\" class=\"data row1 col7\" >3.903,71</td>\n",
       "      <td id=\"T_cee4b_row1_col8\" class=\"data row1 col8\" >50,00</td>\n",
       "      <td id=\"T_cee4b_row1_col9\" class=\"data row1 col9\" >242,00</td>\n",
       "      <td id=\"T_cee4b_row1_col10\" class=\"data row1 col10\" >8.752,27</td>\n",
       "      <td id=\"T_cee4b_row1_col11\" class=\"data row1 col11\" >4.446,89</td>\n",
       "      <td id=\"T_cee4b_row1_col12\" class=\"data row1 col12\" >1.938,61</td>\n",
       "      <td id=\"T_cee4b_row1_col13\" class=\"data row1 col13\" >3.335,90</td>\n",
       "      <td id=\"T_cee4b_row1_col14\" class=\"data row1 col14\" >40.030,78</td>\n",
       "    </tr>\n",
       "    <tr>\n",
       "      <th id=\"T_cee4b_level0_row2\" class=\"row_heading level0 row2\" >2</th>\n",
       "      <td id=\"T_cee4b_row2_col0\" class=\"data row2 col0\" >Total</td>\n",
       "      <td id=\"T_cee4b_row2_col1\" class=\"data row2 col1\" >-217,95</td>\n",
       "      <td id=\"T_cee4b_row2_col2\" class=\"data row2 col2\" >2.635,42</td>\n",
       "      <td id=\"T_cee4b_row2_col3\" class=\"data row2 col3\" >4.696,26</td>\n",
       "      <td id=\"T_cee4b_row2_col4\" class=\"data row2 col4\" >2.795,85</td>\n",
       "      <td id=\"T_cee4b_row2_col5\" class=\"data row2 col5\" >2.820,27</td>\n",
       "      <td id=\"T_cee4b_row2_col6\" class=\"data row2 col6\" >3.238,85</td>\n",
       "      <td id=\"T_cee4b_row2_col7\" class=\"data row2 col7\" >2.473,38</td>\n",
       "      <td id=\"T_cee4b_row2_col8\" class=\"data row2 col8\" >-233,38</td>\n",
       "      <td id=\"T_cee4b_row2_col9\" class=\"data row2 col9\" >-198,76</td>\n",
       "      <td id=\"T_cee4b_row2_col10\" class=\"data row2 col10\" >6.441,66</td>\n",
       "      <td id=\"T_cee4b_row2_col11\" class=\"data row2 col11\" >3.956,43</td>\n",
       "      <td id=\"T_cee4b_row2_col12\" class=\"data row2 col12\" >1.675,07</td>\n",
       "      <td id=\"T_cee4b_row2_col13\" class=\"data row2 col13\" >2.506,93</td>\n",
       "      <td id=\"T_cee4b_row2_col14\" class=\"data row2 col14\" >30.083,10</td>\n",
       "    </tr>\n",
       "  </tbody>\n",
       "</table>\n"
      ],
      "text/plain": [
       "<pandas.io.formats.style.Styler at 0x1b5d4e887c0>"
      ]
     },
     "execution_count": 11,
     "metadata": {},
     "output_type": "execute_result"
    }
   ],
   "source": [
    "(df_despacho\n",
    "     .pipe(pivot_by_category_totals, [\"Tipo\"])\n",
    "     .pipe(style_locale_es)\n",
    " )"
   ]
  },
  {
   "cell_type": "code",
   "execution_count": 12,
   "id": "2943a388-696f-4da0-ae24-bce861afe397",
   "metadata": {},
   "outputs": [
    {
     "data": {
      "text/html": [
       "<style type=\"text/css\">\n",
       "</style>\n",
       "<table id=\"T_a0a28_\">\n",
       "  <thead>\n",
       "    <tr>\n",
       "      <th class=\"blank level0\" >&nbsp;</th>\n",
       "      <th class=\"col_heading level0 col0\" >Tipo</th>\n",
       "      <th class=\"col_heading level0 col1\" >Enero</th>\n",
       "      <th class=\"col_heading level0 col2\" >Febrero</th>\n",
       "      <th class=\"col_heading level0 col3\" >Marzo</th>\n",
       "      <th class=\"col_heading level0 col4\" >Abril</th>\n",
       "      <th class=\"col_heading level0 col5\" >Mayo</th>\n",
       "      <th class=\"col_heading level0 col6\" >Junio</th>\n",
       "      <th class=\"col_heading level0 col7\" >Julio</th>\n",
       "      <th class=\"col_heading level0 col8\" >Agosto</th>\n",
       "      <th class=\"col_heading level0 col9\" >Septiembre</th>\n",
       "      <th class=\"col_heading level0 col10\" >Octubre</th>\n",
       "      <th class=\"col_heading level0 col11\" >Noviembre</th>\n",
       "      <th class=\"col_heading level0 col12\" >Diciembre</th>\n",
       "      <th class=\"col_heading level0 col13\" >Media</th>\n",
       "      <th class=\"col_heading level0 col14\" >Total</th>\n",
       "    </tr>\n",
       "  </thead>\n",
       "  <tbody>\n",
       "    <tr>\n",
       "      <th id=\"T_a0a28_level0_row0\" class=\"row_heading level0 row0\" >0</th>\n",
       "      <td id=\"T_a0a28_row0_col0\" class=\"data row0 col0\" >Gastos</td>\n",
       "      <td id=\"T_a0a28_row0_col1\" class=\"data row0 col1\" >-4.858,84</td>\n",
       "      <td id=\"T_a0a28_row0_col2\" class=\"data row0 col2\" >-4.370,48</td>\n",
       "      <td id=\"T_a0a28_row0_col3\" class=\"data row0 col3\" >-5.208,63</td>\n",
       "      <td id=\"T_a0a28_row0_col4\" class=\"data row0 col4\" >-5.062,51</td>\n",
       "      <td id=\"T_a0a28_row0_col5\" class=\"data row0 col5\" >-5.210,00</td>\n",
       "      <td id=\"T_a0a28_row0_col6\" class=\"data row0 col6\" >-8.112,99</td>\n",
       "      <td id=\"T_a0a28_row0_col7\" class=\"data row0 col7\" >-8.256,59</td>\n",
       "      <td id=\"T_a0a28_row0_col8\" class=\"data row0 col8\" >-3.461,10</td>\n",
       "      <td id=\"T_a0a28_row0_col9\" class=\"data row0 col9\" >-5.234,44</td>\n",
       "      <td id=\"T_a0a28_row0_col10\" class=\"data row0 col10\" >-12.485,53</td>\n",
       "      <td id=\"T_a0a28_row0_col11\" class=\"data row0 col11\" >-8.507,20</td>\n",
       "      <td id=\"T_a0a28_row0_col12\" class=\"data row0 col12\" >-8.541,50</td>\n",
       "      <td id=\"T_a0a28_row0_col13\" class=\"data row0 col13\" >-6.609,15</td>\n",
       "      <td id=\"T_a0a28_row0_col14\" class=\"data row0 col14\" >-79.309,81</td>\n",
       "    </tr>\n",
       "    <tr>\n",
       "      <th id=\"T_a0a28_level0_row1\" class=\"row_heading level0 row1\" >1</th>\n",
       "      <td id=\"T_a0a28_row1_col0\" class=\"data row1 col0\" >Ingresos</td>\n",
       "      <td id=\"T_a0a28_row1_col1\" class=\"data row1 col1\" >2.642,34</td>\n",
       "      <td id=\"T_a0a28_row1_col2\" class=\"data row1 col2\" >9.696,62</td>\n",
       "      <td id=\"T_a0a28_row1_col3\" class=\"data row1 col3\" >7.735,52</td>\n",
       "      <td id=\"T_a0a28_row1_col4\" class=\"data row1 col4\" >5.602,14</td>\n",
       "      <td id=\"T_a0a28_row1_col5\" class=\"data row1 col5\" >5.627,59</td>\n",
       "      <td id=\"T_a0a28_row1_col6\" class=\"data row1 col6\" >9.110,07</td>\n",
       "      <td id=\"T_a0a28_row1_col7\" class=\"data row1 col7\" >5.291,84</td>\n",
       "      <td id=\"T_a0a28_row1_col8\" class=\"data row1 col8\" >2.587,06</td>\n",
       "      <td id=\"T_a0a28_row1_col9\" class=\"data row1 col9\" >2.727,39</td>\n",
       "      <td id=\"T_a0a28_row1_col10\" class=\"data row1 col10\" >9.266,42</td>\n",
       "      <td id=\"T_a0a28_row1_col11\" class=\"data row1 col11\" >10.296,45</td>\n",
       "      <td id=\"T_a0a28_row1_col12\" class=\"data row1 col12\" >11.082,86</td>\n",
       "      <td id=\"T_a0a28_row1_col13\" class=\"data row1 col13\" >6.805,52</td>\n",
       "      <td id=\"T_a0a28_row1_col14\" class=\"data row1 col14\" >81.666,30</td>\n",
       "    </tr>\n",
       "    <tr>\n",
       "      <th id=\"T_a0a28_level0_row2\" class=\"row_heading level0 row2\" >2</th>\n",
       "      <td id=\"T_a0a28_row2_col0\" class=\"data row2 col0\" >Total</td>\n",
       "      <td id=\"T_a0a28_row2_col1\" class=\"data row2 col1\" >-2.216,50</td>\n",
       "      <td id=\"T_a0a28_row2_col2\" class=\"data row2 col2\" >5.326,14</td>\n",
       "      <td id=\"T_a0a28_row2_col3\" class=\"data row2 col3\" >2.526,89</td>\n",
       "      <td id=\"T_a0a28_row2_col4\" class=\"data row2 col4\" >539,63</td>\n",
       "      <td id=\"T_a0a28_row2_col5\" class=\"data row2 col5\" >417,59</td>\n",
       "      <td id=\"T_a0a28_row2_col6\" class=\"data row2 col6\" >997,08</td>\n",
       "      <td id=\"T_a0a28_row2_col7\" class=\"data row2 col7\" >-2.964,75</td>\n",
       "      <td id=\"T_a0a28_row2_col8\" class=\"data row2 col8\" >-874,04</td>\n",
       "      <td id=\"T_a0a28_row2_col9\" class=\"data row2 col9\" >-2.507,05</td>\n",
       "      <td id=\"T_a0a28_row2_col10\" class=\"data row2 col10\" >-3.219,11</td>\n",
       "      <td id=\"T_a0a28_row2_col11\" class=\"data row2 col11\" >1.789,25</td>\n",
       "      <td id=\"T_a0a28_row2_col12\" class=\"data row2 col12\" >2.541,36</td>\n",
       "      <td id=\"T_a0a28_row2_col13\" class=\"data row2 col13\" >196,37</td>\n",
       "      <td id=\"T_a0a28_row2_col14\" class=\"data row2 col14\" >2.356,49</td>\n",
       "    </tr>\n",
       "  </tbody>\n",
       "</table>\n"
      ],
      "text/plain": [
       "<pandas.io.formats.style.Styler at 0x1b5ee7614c0>"
      ]
     },
     "execution_count": 12,
     "metadata": {},
     "output_type": "execute_result"
    }
   ],
   "source": [
    "(df_hogar\n",
    "     .pipe(pivot_by_category_totals, [\"Tipo\"])\n",
    "     .pipe(style_locale_es)\n",
    " )"
   ]
  },
  {
   "cell_type": "code",
   "execution_count": null,
   "id": "d8bdb6c6-7db7-46e5-9893-67521d9b84bb",
   "metadata": {},
   "outputs": [],
   "source": []
  }
 ],
 "metadata": {
  "kernelspec": {
   "display_name": "Python 3 (ipykernel)",
   "language": "python",
   "name": "python3"
  },
  "language_info": {
   "codemirror_mode": {
    "name": "ipython",
    "version": 3
   },
   "file_extension": ".py",
   "mimetype": "text/x-python",
   "name": "python",
   "nbconvert_exporter": "python",
   "pygments_lexer": "ipython3",
   "version": "3.9.12"
  },
  "vscode": {
   "interpreter": {
    "hash": "dd1d98e7a10dc4d7a76dbe9a54b4e15fd5f698cf1f912f57cec23eb74ebef15e"
   }
  }
 },
 "nbformat": 4,
 "nbformat_minor": 5
}
