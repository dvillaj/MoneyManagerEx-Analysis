from utils import *
import pandas as pd
import warnings
warnings.simplefilter(action='ignore', category=FutureWarning)


df = pd.read_csv("M.csv") \
                .pipe(clean_data) 


df_despacho = df.pipe(return_despacho_movements)
df_hogar = df.pipe(return_hogar_movements)


#write_raw_to_excel(df_despacho, "Raw Despacho.xlsx")
#write_raw_to_excel(df_hogar, "Raw Hogar.xlsx")


df_despacho.pipe(pivot_by_category_totals, ["Tipo"])


df_hogar.pipe(pivot_by_category_totals, ["Tipo"])


write_to_excel(df_hogar, 'Hogar.xlsx')
write_to_excel(df_despacho, 'Despacho.xlsx')



