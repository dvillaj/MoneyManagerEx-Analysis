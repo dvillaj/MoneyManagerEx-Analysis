{
 "cells": [
  {
   "cell_type": "code",
   "execution_count": 1,
   "id": "dac040da-f0c1-4f04-84a4-83d7e980bfec",
   "metadata": {},
   "outputs": [],
   "source": [
    "from utils import *\n",
    "import pandas as pd\n",
    "import warnings\n",
    "warnings.simplefilter(action='ignore', category=FutureWarning)"
   ]
  },
  {
   "cell_type": "code",
   "execution_count": 2,
   "id": "f5156ae7-e761-454b-ad9d-ebd1dad77c90",
   "metadata": {},
   "outputs": [],
   "source": [
    "df = pd.read_csv(\"M.csv\") \\\n",
    "                .pipe(clean_data) "
   ]
  },
  {
   "cell_type": "code",
   "execution_count": 3,
   "id": "ff98bedd-9066-4d5a-8ac2-a5ed05be434a",
   "metadata": {
    "tags": []
   },
   "outputs": [],
   "source": [
    "df_despacho = df.pipe(return_despacho_movements)\n",
    "df_hogar = df.pipe(return_hogar_movements)"
   ]
  },
  {
   "cell_type": "code",
   "execution_count": 4,
   "id": "1a95d953-eb73-4546-a6fd-2d02e52ec6a2",
   "metadata": {},
   "outputs": [],
   "source": [
    "write_raw_to_excel(df_despacho, \"Raw Despacho.xlsx\")\n",
    "write_raw_to_excel(df_hogar, \"Raw Hogar.xlsx\")"
   ]
  },
  {
   "cell_type": "code",
   "execution_count": 5,
   "id": "5cfaad81-464c-49df-a748-66b6bd4a992e",
   "metadata": {},
   "outputs": [
    {
     "data": {
      "text/html": [
       "<div>\n",
       "<style scoped>\n",
       "    .dataframe tbody tr th:only-of-type {\n",
       "        vertical-align: middle;\n",
       "    }\n",
       "\n",
       "    .dataframe tbody tr th {\n",
       "        vertical-align: top;\n",
       "    }\n",
       "\n",
       "    .dataframe thead th {\n",
       "        text-align: right;\n",
       "    }\n",
       "</style>\n",
       "<table border=\"1\" class=\"dataframe\">\n",
       "  <thead>\n",
       "    <tr style=\"text-align: right;\">\n",
       "      <th></th>\n",
       "      <th>Tipo</th>\n",
       "      <th>Enero</th>\n",
       "      <th>Febrero</th>\n",
       "      <th>Marzo</th>\n",
       "      <th>Abril</th>\n",
       "      <th>Mayo</th>\n",
       "      <th>Junio</th>\n",
       "      <th>Julio</th>\n",
       "      <th>Agosto</th>\n",
       "      <th>Septiembre</th>\n",
       "      <th>Octubre</th>\n",
       "      <th>Noviembre</th>\n",
       "      <th>Media</th>\n",
       "      <th>Total</th>\n",
       "    </tr>\n",
       "  </thead>\n",
       "  <tbody>\n",
       "    <tr>\n",
       "      <th>0</th>\n",
       "      <td>Gastos</td>\n",
       "      <td>-627.95</td>\n",
       "      <td>-655.18</td>\n",
       "      <td>-638.43</td>\n",
       "      <td>-1782.86</td>\n",
       "      <td>-593.03</td>\n",
       "      <td>-431.15</td>\n",
       "      <td>-1430.33</td>\n",
       "      <td>-283.38</td>\n",
       "      <td>-440.76</td>\n",
       "      <td>-2310.61</td>\n",
       "      <td>-31.8</td>\n",
       "      <td>-919.37</td>\n",
       "      <td>-9225.48</td>\n",
       "    </tr>\n",
       "    <tr>\n",
       "      <th>1</th>\n",
       "      <td>Ingresos</td>\n",
       "      <td>410.00</td>\n",
       "      <td>3290.60</td>\n",
       "      <td>5334.69</td>\n",
       "      <td>4578.71</td>\n",
       "      <td>3413.30</td>\n",
       "      <td>3670.00</td>\n",
       "      <td>3903.71</td>\n",
       "      <td>50.00</td>\n",
       "      <td>242.00</td>\n",
       "      <td>8602.27</td>\n",
       "      <td>-13.9</td>\n",
       "      <td>3349.53</td>\n",
       "      <td>33481.38</td>\n",
       "    </tr>\n",
       "    <tr>\n",
       "      <th>2</th>\n",
       "      <td>Total</td>\n",
       "      <td>-217.95</td>\n",
       "      <td>2635.42</td>\n",
       "      <td>4696.26</td>\n",
       "      <td>2795.85</td>\n",
       "      <td>2820.27</td>\n",
       "      <td>3238.85</td>\n",
       "      <td>2473.38</td>\n",
       "      <td>-233.38</td>\n",
       "      <td>-198.76</td>\n",
       "      <td>6291.66</td>\n",
       "      <td>-45.7</td>\n",
       "      <td>2430.16</td>\n",
       "      <td>24255.90</td>\n",
       "    </tr>\n",
       "  </tbody>\n",
       "</table>\n",
       "</div>"
      ],
      "text/plain": [
       "       Tipo   Enero  Febrero    Marzo    Abril     Mayo    Junio    Julio  \\\n",
       "0    Gastos -627.95  -655.18  -638.43 -1782.86  -593.03  -431.15 -1430.33   \n",
       "1  Ingresos  410.00  3290.60  5334.69  4578.71  3413.30  3670.00  3903.71   \n",
       "2     Total -217.95  2635.42  4696.26  2795.85  2820.27  3238.85  2473.38   \n",
       "\n",
       "   Agosto  Septiembre  Octubre  Noviembre    Media     Total  \n",
       "0 -283.38     -440.76 -2310.61      -31.8  -919.37  -9225.48  \n",
       "1   50.00      242.00  8602.27      -13.9  3349.53  33481.38  \n",
       "2 -233.38     -198.76  6291.66      -45.7  2430.16  24255.90  "
      ]
     },
     "execution_count": 5,
     "metadata": {},
     "output_type": "execute_result"
    }
   ],
   "source": [
    "df_despacho.pipe(pivot_by_category_totals, [\"Tipo\"])"
   ]
  },
  {
   "cell_type": "code",
   "execution_count": 6,
   "id": "2943a388-696f-4da0-ae24-bce861afe397",
   "metadata": {},
   "outputs": [
    {
     "data": {
      "text/html": [
       "<div>\n",
       "<style scoped>\n",
       "    .dataframe tbody tr th:only-of-type {\n",
       "        vertical-align: middle;\n",
       "    }\n",
       "\n",
       "    .dataframe tbody tr th {\n",
       "        vertical-align: top;\n",
       "    }\n",
       "\n",
       "    .dataframe thead th {\n",
       "        text-align: right;\n",
       "    }\n",
       "</style>\n",
       "<table border=\"1\" class=\"dataframe\">\n",
       "  <thead>\n",
       "    <tr style=\"text-align: right;\">\n",
       "      <th></th>\n",
       "      <th>Tipo</th>\n",
       "      <th>Enero</th>\n",
       "      <th>Febrero</th>\n",
       "      <th>Marzo</th>\n",
       "      <th>Abril</th>\n",
       "      <th>Mayo</th>\n",
       "      <th>Junio</th>\n",
       "      <th>Julio</th>\n",
       "      <th>Agosto</th>\n",
       "      <th>Septiembre</th>\n",
       "      <th>Octubre</th>\n",
       "      <th>Noviembre</th>\n",
       "      <th>Media</th>\n",
       "      <th>Total</th>\n",
       "    </tr>\n",
       "  </thead>\n",
       "  <tbody>\n",
       "    <tr>\n",
       "      <th>0</th>\n",
       "      <td>Gastos</td>\n",
       "      <td>-4858.84</td>\n",
       "      <td>-4370.48</td>\n",
       "      <td>-5208.63</td>\n",
       "      <td>-5062.51</td>\n",
       "      <td>-5158.00</td>\n",
       "      <td>-8112.99</td>\n",
       "      <td>-8256.59</td>\n",
       "      <td>-3461.10</td>\n",
       "      <td>-5234.44</td>\n",
       "      <td>-12485.53</td>\n",
       "      <td>-1659.49</td>\n",
       "      <td>-6220.91</td>\n",
       "      <td>-63868.60</td>\n",
       "    </tr>\n",
       "    <tr>\n",
       "      <th>1</th>\n",
       "      <td>Ingresos</td>\n",
       "      <td>2642.34</td>\n",
       "      <td>9696.62</td>\n",
       "      <td>7734.90</td>\n",
       "      <td>5601.45</td>\n",
       "      <td>5626.93</td>\n",
       "      <td>9109.38</td>\n",
       "      <td>5291.18</td>\n",
       "      <td>2586.37</td>\n",
       "      <td>2726.70</td>\n",
       "      <td>9115.35</td>\n",
       "      <td>-45.03</td>\n",
       "      <td>6013.12</td>\n",
       "      <td>60086.19</td>\n",
       "    </tr>\n",
       "    <tr>\n",
       "      <th>2</th>\n",
       "      <td>Total</td>\n",
       "      <td>-2216.50</td>\n",
       "      <td>5326.14</td>\n",
       "      <td>2526.27</td>\n",
       "      <td>538.94</td>\n",
       "      <td>468.93</td>\n",
       "      <td>996.39</td>\n",
       "      <td>-2965.41</td>\n",
       "      <td>-874.73</td>\n",
       "      <td>-2507.74</td>\n",
       "      <td>-3370.18</td>\n",
       "      <td>-1704.52</td>\n",
       "      <td>-207.79</td>\n",
       "      <td>-3782.41</td>\n",
       "    </tr>\n",
       "  </tbody>\n",
       "</table>\n",
       "</div>"
      ],
      "text/plain": [
       "       Tipo    Enero  Febrero    Marzo    Abril     Mayo    Junio    Julio  \\\n",
       "0    Gastos -4858.84 -4370.48 -5208.63 -5062.51 -5158.00 -8112.99 -8256.59   \n",
       "1  Ingresos  2642.34  9696.62  7734.90  5601.45  5626.93  9109.38  5291.18   \n",
       "2     Total -2216.50  5326.14  2526.27   538.94   468.93   996.39 -2965.41   \n",
       "\n",
       "    Agosto  Septiembre   Octubre  Noviembre    Media     Total  \n",
       "0 -3461.10    -5234.44 -12485.53   -1659.49 -6220.91 -63868.60  \n",
       "1  2586.37     2726.70   9115.35     -45.03  6013.12  60086.19  \n",
       "2  -874.73    -2507.74  -3370.18   -1704.52  -207.79  -3782.41  "
      ]
     },
     "execution_count": 6,
     "metadata": {},
     "output_type": "execute_result"
    }
   ],
   "source": [
    "df_hogar.pipe(pivot_by_category_totals, [\"Tipo\"])"
   ]
  },
  {
   "cell_type": "code",
   "execution_count": 7,
   "id": "7062d6a7-9b14-4343-96e2-dc499a8252a5",
   "metadata": {},
   "outputs": [],
   "source": [
    "write_to_excel(df_hogar, 'Contablidad.xlsx')\n",
    "write_to_excel(df_despacho, 'Despacho.xlsx')"
   ]
  },
  {
   "cell_type": "code",
   "execution_count": null,
   "id": "4d373c42-cdc9-43df-81a5-a583f24351e4",
   "metadata": {},
   "outputs": [],
   "source": []
  }
 ],
 "metadata": {
  "kernelspec": {
   "display_name": "Python 3 (ipykernel)",
   "language": "python",
   "name": "python3"
  },
  "language_info": {
   "codemirror_mode": {
    "name": "ipython",
    "version": 3
   },
   "file_extension": ".py",
   "mimetype": "text/x-python",
   "name": "python",
   "nbconvert_exporter": "python",
   "pygments_lexer": "ipython3",
   "version": "3.9.12"
  },
  "vscode": {
   "interpreter": {
    "hash": "dd1d98e7a10dc4d7a76dbe9a54b4e15fd5f698cf1f912f57cec23eb74ebef15e"
   }
  }
 },
 "nbformat": 4,
 "nbformat_minor": 5
}
