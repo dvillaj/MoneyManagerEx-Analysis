{
 "cells": [
  {
   "cell_type": "code",
   "execution_count": 53,
   "id": "229cbfcb-abd0-4dc2-8119-715ba04f8195",
   "metadata": {},
   "outputs": [],
   "source": [
    "import pandas as pd\n",
    "from utils import *\n",
    "import plotly.express as px\n",
    "import plotly"
   ]
  },
  {
   "cell_type": "code",
   "execution_count": 54,
   "id": "645e7645-de9c-40b9-8e83-91a54cfcd539",
   "metadata": {},
   "outputs": [],
   "source": [
    "df = pd.read_csv(\"M.csv\") \\\n",
    "    .pipe(clean_data)  \\\n",
    "    .pipe(return_casa_movements) \\\n",
    "    .assign(MaxDate = lambda df: pd.to_datetime((df.Date.max() - datetime.timedelta(days=0)).date()),\n",
    "            MinDate = lambda df: pd.to_datetime((df.Date.min() - datetime.timedelta(days=0)).date())) \\\n",
    "    .query(\"Date.between(MinDate, MaxDate)\") \\\n",
    "    .assign(MaxDate = lambda df: pd.to_datetime((df.Date.max() - datetime.timedelta(days=0)).date())) \\\n",
    "    .groupby([\"Tipo\", \"Categoria\", \"Subcategoria\", \"Beneficiario\"], as_index = False).Importe.sum() \\\n",
    "    .assign(AbsoluteImporte = lambda df: df.Importe.abs()) \\\n",
    "    .query(\"not (Tipo == 'Gastos' and Importe > 0)\")"
   ]
  },
  {
   "cell_type": "code",
   "execution_count": 55,
   "id": "79347f70-3cd4-4dd6-aa6f-da35914ba9ed",
   "metadata": {},
   "outputs": [
    {
     "data": {
      "text/html": [
       "<div>\n",
       "<style scoped>\n",
       "    .dataframe tbody tr th:only-of-type {\n",
       "        vertical-align: middle;\n",
       "    }\n",
       "\n",
       "    .dataframe tbody tr th {\n",
       "        vertical-align: top;\n",
       "    }\n",
       "\n",
       "    .dataframe thead th {\n",
       "        text-align: right;\n",
       "    }\n",
       "</style>\n",
       "<table border=\"1\" class=\"dataframe\">\n",
       "  <thead>\n",
       "    <tr style=\"text-align: right;\">\n",
       "      <th></th>\n",
       "      <th>Tipo</th>\n",
       "      <th>Categoria</th>\n",
       "      <th>Subcategoria</th>\n",
       "      <th>Beneficiario</th>\n",
       "      <th>Importe</th>\n",
       "      <th>AbsoluteImporte</th>\n",
       "    </tr>\n",
       "  </thead>\n",
       "  <tbody>\n",
       "  </tbody>\n",
       "</table>\n",
       "</div>"
      ],
      "text/plain": [
       "Empty DataFrame\n",
       "Columns: [Tipo, Categoria, Subcategoria, Beneficiario, Importe, AbsoluteImporte]\n",
       "Index: []"
      ]
     },
     "execution_count": 55,
     "metadata": {},
     "output_type": "execute_result"
    }
   ],
   "source": [
    "df.query(\"Categoria.isnull() or Subcategoria.isnull() or Beneficiario.isnull()\")"
   ]
  },
  {
   "cell_type": "code",
   "execution_count": 56,
   "id": "c0bdce6b-7735-458a-aae1-e4ef1b0a3c06",
   "metadata": {},
   "outputs": [
    {
     "data": {
      "text/html": [
       "<div>\n",
       "<style scoped>\n",
       "    .dataframe tbody tr th:only-of-type {\n",
       "        vertical-align: middle;\n",
       "    }\n",
       "\n",
       "    .dataframe tbody tr th {\n",
       "        vertical-align: top;\n",
       "    }\n",
       "\n",
       "    .dataframe thead th {\n",
       "        text-align: right;\n",
       "    }\n",
       "</style>\n",
       "<table border=\"1\" class=\"dataframe\">\n",
       "  <thead>\n",
       "    <tr style=\"text-align: right;\">\n",
       "      <th></th>\n",
       "      <th>Tipo</th>\n",
       "      <th>Categoria</th>\n",
       "      <th>Subcategoria</th>\n",
       "      <th>Beneficiario</th>\n",
       "      <th>Importe</th>\n",
       "      <th>AbsoluteImporte</th>\n",
       "    </tr>\n",
       "  </thead>\n",
       "  <tbody>\n",
       "  </tbody>\n",
       "</table>\n",
       "</div>"
      ],
      "text/plain": [
       "Empty DataFrame\n",
       "Columns: [Tipo, Categoria, Subcategoria, Beneficiario, Importe, AbsoluteImporte]\n",
       "Index: []"
      ]
     },
     "execution_count": 56,
     "metadata": {},
     "output_type": "execute_result"
    }
   ],
   "source": [
    "df.query(\"(Tipo == 'Ingresos' and Importe <0) or (Tipo == 'Gastos' and Importe > 0)\")"
   ]
  },
  {
   "cell_type": "code",
   "execution_count": 57,
   "id": "8f10b229-6f18-45ad-9ffa-45469e38e51f",
   "metadata": {},
   "outputs": [
    {
     "data": {
      "application/vnd.plotly.v1+json": {
       "config": {
        "plotlyServerURL": "https://plot.ly"
       },
       "data": [
        {
         "branchvalues": "total",
         "customdata": [
          [
           "Ocio"
          ],
          [
           "Gastos Fijos"
          ],
          [
           "Extras"
          ],
          [
           "Extras"
          ],
          [
           "Supervivencia"
          ],
          [
           "Supervivencia"
          ],
          [
           "Supervivencia"
          ],
          [
           "Extras"
          ],
          [
           "Extras"
          ],
          [
           "Extras"
          ],
          [
           "Supervivencia"
          ],
          [
           "Extras"
          ],
          [
           "Ocio"
          ],
          [
           "Gastos Fijos"
          ],
          [
           "Extras"
          ],
          [
           "Cultura"
          ],
          [
           "Ocio"
          ],
          [
           "Extras"
          ],
          [
           "Extras"
          ],
          [
           "Extras"
          ],
          [
           "Extras"
          ],
          [
           "Gastos Fijos"
          ],
          [
           "Ocio"
          ],
          [
           "Extras"
          ],
          [
           "Gastos Fijos"
          ],
          [
           "Supervivencia"
          ],
          [
           "Cultura"
          ],
          [
           "Ocio"
          ],
          [
           "Extras"
          ],
          [
           "Extras"
          ],
          [
           "Extras"
          ],
          [
           "Gastos Fijos"
          ],
          [
           "Gastos Fijos"
          ],
          [
           "Supervivencia"
          ],
          [
           "Extras"
          ],
          [
           "Ingresos"
          ],
          [
           "Gastos Fijos"
          ],
          [
           "Extras"
          ],
          [
           "Supervivencia"
          ],
          [
           "Ocio"
          ],
          [
           "Supervivencia"
          ],
          [
           "Ocio"
          ],
          [
           "Extras"
          ],
          [
           "Ocio"
          ],
          [
           "Supervivencia"
          ],
          [
           "Extras"
          ],
          [
           "Extras"
          ],
          [
           "Gastos Fijos"
          ],
          [
           "Ocio"
          ],
          [
           "Gastos Fijos"
          ],
          [
           "Gastos Fijos"
          ],
          [
           "Cultura"
          ],
          [
           "Ocio"
          ],
          [
           "Ocio"
          ],
          [
           "Supervivencia"
          ],
          [
           "Extras"
          ],
          [
           "Extras"
          ],
          [
           "Extras"
          ],
          [
           "Extras"
          ],
          [
           "Extras"
          ],
          [
           "Extras"
          ],
          [
           "Ocio"
          ],
          [
           "Supervivencia"
          ],
          [
           "Extras"
          ],
          [
           "Extras"
          ],
          [
           "Extras"
          ],
          [
           "Extras"
          ],
          [
           "Extras"
          ],
          [
           "Supervivencia"
          ],
          [
           "Supervivencia"
          ],
          [
           "Supervivencia"
          ],
          [
           "Supervivencia"
          ],
          [
           "Ocio"
          ],
          [
           "Extras"
          ],
          [
           "Extras"
          ],
          [
           "Supervivencia"
          ],
          [
           "Supervivencia"
          ],
          [
           "Gastos Fijos"
          ],
          [
           "Extras"
          ],
          [
           "Ocio"
          ],
          [
           "Ocio"
          ],
          [
           "Extras"
          ],
          [
           "Ocio"
          ],
          [
           "Gastos Fijos"
          ],
          [
           "Gastos Fijos"
          ],
          [
           "Extras"
          ],
          [
           "Gastos Fijos"
          ],
          [
           "Gastos Fijos"
          ],
          [
           "Supervivencia"
          ],
          [
           "Extras"
          ],
          [
           "Gastos Fijos"
          ],
          [
           "Extras"
          ],
          [
           "Extras"
          ],
          [
           "Gastos Fijos"
          ],
          [
           "Supervivencia"
          ],
          [
           "Extras"
          ],
          [
           "Gastos Fijos"
          ],
          [
           "Extras"
          ],
          [
           "Extras"
          ],
          [
           "Extras"
          ],
          [
           "Cultura"
          ],
          [
           "Supervivencia"
          ],
          [
           "Extras"
          ],
          [
           "Extras"
          ],
          [
           "Extras"
          ],
          [
           "Extras"
          ],
          [
           "Ocio"
          ],
          [
           "Extras"
          ],
          [
           "Supervivencia"
          ],
          [
           "Gastos Fijos"
          ],
          [
           "Ocio"
          ],
          [
           "Extras"
          ],
          [
           "Supervivencia"
          ],
          [
           "Supervivencia"
          ],
          [
           "Ocio"
          ],
          [
           "Extras"
          ],
          [
           "Ocio"
          ],
          [
           "Ocio"
          ],
          [
           "Extras"
          ],
          [
           "Supervivencia"
          ],
          [
           "Ocio"
          ],
          [
           "Extras"
          ],
          [
           "Supervivencia"
          ],
          [
           "Supervivencia"
          ],
          [
           "Extras"
          ],
          [
           "Ocio"
          ],
          [
           "Ocio"
          ],
          [
           "Ocio"
          ],
          [
           "Extras"
          ],
          [
           "Extras"
          ],
          [
           "Extras"
          ],
          [
           "Extras"
          ],
          [
           "Gastos Fijos"
          ],
          [
           "Extras"
          ],
          [
           "Extras"
          ],
          [
           "Extras"
          ],
          [
           "Extras"
          ],
          [
           "Ocio"
          ],
          [
           "Gastos Fijos"
          ],
          [
           "Gastos Fijos"
          ],
          [
           "Supervivencia"
          ],
          [
           "Extras"
          ],
          [
           "Extras"
          ],
          [
           "Extras"
          ],
          [
           "Ocio"
          ],
          [
           "Gastos Fijos"
          ],
          [
           "Ocio"
          ],
          [
           "Gastos Fijos"
          ],
          [
           "Cultura"
          ],
          [
           "Ocio"
          ],
          [
           "Extras"
          ],
          [
           "Extras"
          ],
          [
           "Ocio"
          ],
          [
           "Supervivencia"
          ],
          [
           "Extras"
          ],
          [
           "Supervivencia"
          ],
          [
           "Ocio"
          ],
          [
           "Gastos Fijos"
          ],
          [
           "Supervivencia"
          ],
          [
           "Ocio"
          ],
          [
           "Ocio"
          ],
          [
           "Ocio"
          ],
          [
           "Ocio"
          ],
          [
           "Extras"
          ],
          [
           "Gastos Fijos"
          ],
          [
           "Extras"
          ],
          [
           "Supervivencia"
          ],
          [
           "Supervivencia"
          ],
          [
           "Extras"
          ],
          [
           "Extras"
          ],
          [
           "Gastos Fijos"
          ],
          [
           "Extras"
          ],
          [
           "Extras"
          ],
          [
           "Extras"
          ],
          [
           "Extras"
          ],
          [
           "Extras"
          ],
          [
           "Supervivencia"
          ],
          [
           "Supervivencia"
          ],
          [
           "Gastos Fijos"
          ],
          [
           "Ocio"
          ],
          [
           "Ocio"
          ],
          [
           "Ocio"
          ],
          [
           "Ocio"
          ],
          [
           "Supervivencia"
          ],
          [
           "Supervivencia"
          ],
          [
           "Extras"
          ],
          [
           "Ocio"
          ],
          [
           "Extras"
          ],
          [
           "Ocio"
          ],
          [
           "Ocio"
          ],
          [
           "Extras"
          ],
          [
           "Ocio"
          ],
          [
           "Extras"
          ],
          [
           "Extras"
          ],
          [
           "Ocio"
          ],
          [
           "Extras"
          ],
          [
           "Extras"
          ],
          [
           "Gastos Fijos"
          ],
          [
           "Ocio"
          ],
          [
           "Extras"
          ],
          [
           "Ocio"
          ],
          [
           "Supervivencia"
          ],
          [
           "Extras"
          ],
          [
           "Gastos Fijos"
          ],
          [
           "Ocio"
          ],
          [
           "Extras"
          ],
          [
           "Gastos Fijos"
          ],
          [
           "Gastos Fijos"
          ],
          [
           "Extras"
          ],
          [
           "Extras"
          ],
          [
           "Extras"
          ],
          [
           "Gastos Fijos"
          ],
          [
           "Ocio"
          ],
          [
           "Gastos Fijos"
          ],
          [
           "Supervivencia"
          ],
          [
           "Ocio"
          ],
          [
           "Ocio"
          ],
          [
           "Ocio"
          ],
          [
           "Ingresos"
          ],
          [
           "Ocio"
          ],
          [
           "Extras"
          ],
          [
           "Cultura"
          ],
          [
           "Extras"
          ],
          [
           "Extras"
          ],
          [
           "Ocio"
          ],
          [
           "Ocio"
          ],
          [
           "Extras"
          ],
          [
           "Gastos Fijos"
          ],
          [
           "Supervivencia"
          ],
          [
           "Ocio"
          ],
          [
           "Extras"
          ],
          [
           "Supervivencia"
          ],
          [
           "Gastos Fijos"
          ],
          [
           "Ocio"
          ],
          [
           "Gastos Fijos"
          ],
          [
           "Extras"
          ],
          [
           "Gastos Fijos"
          ],
          [
           "Gastos Fijos"
          ],
          [
           "Gastos Fijos"
          ],
          [
           "Extras"
          ],
          [
           "Ingresos"
          ],
          [
           "Extras"
          ],
          [
           "Gastos Fijos"
          ],
          [
           "Extras"
          ],
          [
           "Extras"
          ],
          [
           "Supervivencia"
          ],
          [
           "Ocio"
          ],
          [
           "Supervivencia"
          ],
          [
           "Extras"
          ],
          [
           "Ocio"
          ],
          [
           "Extras"
          ],
          [
           "Ocio"
          ],
          [
           "Ocio"
          ],
          [
           "Ocio"
          ],
          [
           "Extras"
          ],
          [
           "Ocio"
          ],
          [
           "Extras"
          ],
          [
           "Cultura"
          ],
          [
           "Supervivencia"
          ],
          [
           "Extras"
          ],
          [
           "Supervivencia"
          ],
          [
           "Extras"
          ],
          [
           "Extras"
          ],
          [
           "Ingresos"
          ],
          [
           "Extras"
          ],
          [
           "Extras"
          ],
          [
           "Gastos Fijos"
          ],
          [
           "Extras"
          ],
          [
           "Extras"
          ],
          [
           "Ocio"
          ],
          [
           "Extras"
          ],
          [
           "Ocio"
          ],
          [
           "Ocio"
          ],
          [
           "Supervivencia"
          ],
          [
           "Gastos Fijos"
          ],
          [
           "Cultura"
          ],
          [
           "Ocio"
          ],
          [
           "Extras"
          ],
          [
           "Extras"
          ],
          [
           "Extras"
          ],
          [
           "Extras"
          ],
          [
           "Ocio"
          ],
          [
           "Gastos Fijos"
          ],
          [
           "Gastos Fijos"
          ],
          [
           "Extras"
          ],
          [
           "Extras"
          ],
          [
           "Extras"
          ],
          [
           "Ocio"
          ],
          [
           "Ingresos"
          ],
          [
           "Ingresos"
          ],
          [
           "Extras"
          ],
          [
           "Gastos Fijos"
          ],
          [
           "Gastos Fijos"
          ],
          [
           "Extras"
          ],
          [
           "Extras"
          ],
          [
           "Extras"
          ],
          [
           "Extras"
          ],
          [
           "Ocio"
          ],
          [
           "Extras"
          ],
          [
           "Gastos Fijos"
          ],
          [
           "Supervivencia"
          ],
          [
           "Gastos Fijos"
          ],
          [
           "Extras"
          ],
          [
           "Extras"
          ],
          [
           "Gastos Fijos"
          ],
          [
           "Ocio"
          ],
          [
           "Extras"
          ],
          [
           "Supervivencia"
          ],
          [
           "Ocio"
          ],
          [
           "Cultura"
          ],
          [
           "Ocio"
          ],
          [
           "Extras"
          ],
          [
           "Gastos Fijos"
          ],
          [
           "Gastos Fijos"
          ],
          [
           "Gastos Fijos"
          ],
          [
           "Extras"
          ],
          [
           "Gastos Fijos"
          ],
          [
           "Supervivencia"
          ],
          [
           "Ocio"
          ],
          [
           "Ingresos"
          ],
          [
           "Ingresos"
          ],
          [
           "Extras"
          ],
          [
           "Extras"
          ],
          [
           "Extras"
          ],
          [
           "Extras"
          ],
          [
           "Extras"
          ],
          [
           "Cultura"
          ],
          [
           "Gastos Fijos"
          ],
          [
           "Extras"
          ],
          [
           "Gastos Fijos"
          ],
          [
           "Gastos Fijos"
          ],
          [
           "Cultura"
          ],
          [
           "Extras"
          ],
          [
           "Supervivencia"
          ],
          [
           "Ingresos"
          ],
          [
           "Extras"
          ],
          [
           "Gastos Fijos"
          ],
          [
           "Extras"
          ],
          [
           "Gastos Fijos"
          ],
          [
           "Extras"
          ],
          [
           "Extras"
          ],
          [
           "Supervivencia"
          ],
          [
           "Extras"
          ],
          [
           "Supervivencia"
          ],
          [
           "Ocio"
          ],
          [
           "Gastos Fijos"
          ],
          [
           "Extras"
          ],
          [
           "Supervivencia"
          ],
          [
           "Supervivencia"
          ],
          [
           "Gastos Fijos"
          ],
          [
           "Gastos Fijos"
          ],
          [
           "Gastos Fijos"
          ],
          [
           "Ingresos"
          ],
          [
           "Extras"
          ],
          [
           "Cultura"
          ],
          [
           "Gastos Fijos"
          ],
          [
           "Gastos Fijos"
          ],
          [
           "Extras"
          ],
          [
           "Extras"
          ],
          [
           "Extras"
          ],
          [
           "Extras"
          ],
          [
           "Cultura"
          ],
          [
           "Gastos Fijos"
          ],
          [
           "Ingresos"
          ],
          [
           "Gastos Fijos"
          ],
          [
           "Ingresos"
          ],
          [
           "Cultura"
          ],
          [
           "Gastos Fijos"
          ],
          [
           "Gastos Fijos"
          ],
          [
           "Ocio"
          ],
          [
           "Extras"
          ],
          [
           "Gastos Fijos"
          ],
          [
           "Gastos Fijos"
          ],
          [
           "Gastos Fijos"
          ],
          [
           "Extras"
          ],
          [
           "Extras"
          ],
          [
           "Ocio"
          ],
          [
           "Ocio"
          ],
          [
           "Gastos Fijos"
          ],
          [
           "Gastos Fijos"
          ],
          [
           "Gastos Fijos"
          ],
          [
           "Ocio"
          ],
          [
           "Extras"
          ],
          [
           "Gastos Fijos"
          ],
          [
           "Gastos Fijos"
          ],
          [
           "Ocio"
          ],
          [
           "Cultura"
          ],
          [
           "Gastos Fijos"
          ],
          [
           "Gastos Fijos"
          ],
          [
           "Gastos Fijos"
          ],
          [
           "Supervivencia"
          ],
          [
           "Gastos Fijos"
          ],
          [
           "Extras"
          ],
          [
           "Extras"
          ],
          [
           "Extras"
          ],
          [
           "Cultura"
          ],
          [
           "Extras"
          ],
          [
           "Gastos Fijos"
          ],
          [
           "Ingresos"
          ],
          [
           "Ocio"
          ],
          [
           "Supervivencia"
          ],
          [
           "(?)"
          ],
          [
           "Ingresos"
          ],
          [
           "(?)"
          ]
         ],
         "domain": {
          "x": [
           0,
           1
          ],
          "y": [
           0,
           1
          ]
         },
         "hovertemplate": "labels=%{label}<br>AbsoluteImporte=%{value}<br>parent=%{parent}<br>id=%{id}<br>Categoria=%{customdata[0]}<extra></extra>",
         "ids": [
          "All/Gastos/Ocio/Restaurantes/5 DE TIRSO",
          "All/Gastos/Gastos Fijos/Paga/AIMAR",
          "All/Gastos/Extras/Varios/AIMAR",
          "All/Gastos/Extras/Regalos/ALADINIA NETWORKS",
          "All/Gastos/Supervivencia/Alimentación/ALCAMPO",
          "All/Gastos/Supervivencia/Alimentación/ALDI",
          "All/Gastos/Supervivencia/Alimentación/ALIMENTACION BAZAR",
          "All/Gastos/Extras/Casa/AMAZON",
          "All/Gastos/Extras/Casa Torrevieja/AMAZON",
          "All/Gastos/Extras/Carnet de Conducir/DRIVO",
          "All/Gastos/Supervivencia/Alimentación/EL CORTE INGLÉS",
          "All/Gastos/Extras/Regalos/EL CORTE INGLÉS",
          "All/Gastos/Ocio/Ropa/EL CORTE INGLÉS",
          "All/Gastos/Gastos Fijos/Publicaciones/EL MUNDO",
          "All/Gastos/Extras/Servicios Online/EL MUNDO",
          "All/Gastos/Cultura/Libros/ESPASA CALPE",
          "All/Gastos/Ocio/Restaurantes/EL RINCON DEL TAPEO",
          "All/Gastos/Extras/Casa/ELECTRO DEPOT",
          "All/Gastos/Extras/Regalos/DOSFARMA",
          "All/Gastos/Extras/Estética/ESTÉTICA ARROYO CULEBRO",
          "All/Gastos/Extras/Viajes/EXCURSION NIEVE",
          "All/Gastos/Gastos Fijos/Publicaciones/EL PAIS",
          "All/Gastos/Ocio/Restaurantes/DOMINOS PIZZA",
          "All/Gastos/Extras/Varios/DECLATHON",
          "All/Gastos/Gastos Fijos/Impuestos/DIPUTACION CIUDAD REAL",
          "All/Gastos/Supervivencia/Alimentación/DIA",
          "All/Gastos/Cultura/Libros/FABULA",
          "All/Gastos/Ocio/Ropa/DECLATHON",
          "All/Gastos/Extras/Regalos/DECLATHON",
          "All/Gastos/Extras/Material Deportivo/DECLATHON",
          "All/Gastos/Extras/Varios/DEALZ",
          "All/Gastos/Gastos Fijos/Televisión/DAZN",
          "All/Gastos/Gastos Fijos/Supermercados/COSTCO",
          "All/Gastos/Supervivencia/Alimentación/COSTCO",
          "All/Gastos/Extras/Material Escolar/CORTE INGLES",
          "All/Ingresos/Ingresos/Olivas/COOPERATIVA SAN BARTOLOME APOSTOL",
          "All/Gastos/Gastos Fijos/Olivas/COOPERATIVA SAN BARTOLOME APOSTOL",
          "All/Gastos/Extras/Varios/DISCAM",
          "All/Gastos/Supervivencia/Farmacia/FARMACIA ALCORCON",
          "All/Gastos/Ocio/Restaurantes/FENG",
          "All/Gastos/Supervivencia/Farmacia/FARMACIA PUERTA DEL SUR",
          "All/Gastos/Ocio/Restaurantes/HAMBURGUESA NOSTRA",
          "All/Gastos/Extras/Irpf/HACIENDA",
          "All/Gastos/Ocio/Ropa/H&M",
          "All/Gastos/Supervivencia/Holden/GUAO&CAT",
          "All/Gastos/Extras/Regalos/GRUPOS MEDIA",
          "All/Gastos/Extras/Viajes/GRANADA",
          "All/Gastos/Gastos Fijos/Servicios Online/GOOGLE",
          "All/Gastos/Ocio/Restaurantes/GLOVO",
          "All/Gastos/Gastos Fijos/Entrega a Domicilio/GLOVO",
          "All/Gastos/Gastos Fijos/Servicios Online/GITKRAKEN",
          "All/Gastos/Cultura/Conciertos/GIGSBERG",
          "All/Gastos/Ocio/Ropa/GENERACIÓN 40",
          "All/Gastos/Ocio/Ropa/FUENCARRAL 70",
          "All/Gastos/Supervivencia/Alimentación/FRUTERIA ALCORCON",
          "All/Gastos/Extras/Varios/FOTOPREDIS",
          "All/Gastos/Extras/Varios/FNAC",
          "All/Gastos/Extras/Regalos/FNAC",
          "All/Gastos/Extras/Material Escolar/FNAC",
          "All/Gastos/Extras/Regalos/FLORISTERIA LEGANES",
          "All/Gastos/Extras/Peluquería/FLAVIA GASTON PELUQUEROS",
          "All/Gastos/Ocio/Restaurantes/FIVE GUYS",
          "All/Gastos/Supervivencia/Fisio/FISIO ALCORCON",
          "All/Gastos/Extras/Coche/FEU VERT",
          "All/Gastos/Extras/Varios/FERRETERIA LEGANORTE",
          "All/Gastos/Extras/Casa/FERRETERIA LEGANORTE",
          "All/Gastos/Extras/Reparaciones/FERRETERIA LAS MURALLAS",
          "All/Gastos/Extras/Regalos/CONVERSE",
          "All/Gastos/Supervivencia/Farmacia/FARMACIA TORREVIEJA",
          "All/Gastos/Supervivencia/Farmacia/FARMACIA REYES",
          "All/Gastos/Supervivencia/Farmacia/FARMACIA LEGANES",
          "All/Gastos/Supervivencia/Alimentación/CONSERVERA CASTREÑA",
          "All/Gastos/Ocio/Ropa/DAMA DE COPAS",
          "All/Gastos/Extras/Varios/COMUNIDAD MADRID",
          "All/Gastos/Extras/Casa/BRICOMART",
          "All/Gastos/Supervivencia/Alimentación/BOFROST ",
          "All/Gastos/Supervivencia/Alimentación/BOFROST",
          "All/Gastos/Gastos Fijos/Servicios Online/BITWARDEN",
          "All/Gastos/Extras/Varios/BAZAR PLAZA NUEVA",
          "All/Gastos/Ocio/Restaurantes/BAR BERNABEU",
          "All/Gastos/Ocio/Restaurantes/BAR AVENIDA",
          "All/Gastos/Extras/Peluquería/BAMBINA",
          "All/Gastos/Ocio/Restaurantes/BAHIANA CLUB",
          "All/Gastos/Gastos Fijos/Comunidad Propietarios/COMUNIDAD PROPIETARIOS GOYA ZURBARAN",
          "All/Gastos/Gastos Fijos/Impuesto Vehiculos/AYUNTAMIENTO DE MADRID",
          "All/Gastos/Extras/Varios/AYUNTAMIENTO DE LEGANES",
          "All/Gastos/Gastos Fijos/Impuesto Bienes Inmuebles (IBI)/AYUNTAMIENTO DE LEGANES",
          "All/Gastos/Gastos Fijos/Impuesto Vehiculos/AYUNTAMIENTO DE ALCOCON",
          "All/Gastos/Supervivencia/Transporte/AUTOBUSES",
          "All/Gastos/Extras/Coche/AUTO-LAVADO",
          "All/Gastos/Gastos Fijos/Salud/ASISA DENTAL",
          "All/Gastos/Extras/Varios/APPLE",
          "All/Gastos/Extras/Varios/APARCAMIENTO ESTACION SUR",
          "All/Gastos/Gastos Fijos/Plan Salud Veterinario/ANIMAL KINGDOM",
          "All/Gastos/Supervivencia/Holden/ANIMAL KINGDOM",
          "All/Gastos/Extras/Estudios/AMPA IES LOS CASTILLOS",
          "All/Gastos/Gastos Fijos/Servicios Online/AMAZON MUSIC",
          "All/Gastos/Extras/Varios/AMAZON",
          "All/Gastos/Extras/Regalos/AMAZON",
          "All/Gastos/Extras/Menaje Hogar/AMAZON",
          "All/Gastos/Cultura/Libros/AMAZON",
          "All/Gastos/Supervivencia/Holden/AMAZON",
          "All/Gastos/Extras/Electrónica/AMAZON",
          "All/Gastos/Extras/Regalos/BRICOMART",
          "All/Gastos/Extras/Reparaciones/BRICOMART",
          "All/Gastos/Extras/Multas Circulación/AYUNTAMIENTO DE MADRID",
          "All/Gastos/Ocio/Restaurantes/BRUTAL BURRITO",
          "All/Gastos/Extras/Estudios/COMUNIDAD MADRID",
          "All/Gastos/Supervivencia/Dentista/CLINICA HERNADENT",
          "All/Gastos/Gastos Fijos/Paga/CLAUDIA",
          "All/Gastos/Ocio/Restaurantes/BRINDIS MIRAFLORES",
          "All/Gastos/Extras/Gastos Escuela/CIRCULO CONSULTOR",
          "All/Gastos/Supervivencia/Alimentación/CHURRERIA ALCORCON",
          "All/Gastos/Supervivencia/Alimentación/CHINO",
          "All/Gastos/Ocio/Restaurantes/CHANGO",
          "All/Gastos/Extras/Viajes/CASTRO URDIALES",
          "All/Gastos/Ocio/Senderismo/CASA TORERO",
          "All/Gastos/Ocio/Restaurantes/CASA ANGEL",
          "All/Gastos/Extras/Regalos/CARREFOUR",
          "All/Gastos/Supervivencia/Alimentación/CARREFOUR",
          "All/Gastos/Ocio/Restaurantes/CARPE DIEM",
          "All/Gastos/Extras/Viajes/CIUDAD REAL",
          "All/Gastos/Supervivencia/Alimentación/CARNICERIA ASTURIAS",
          "All/Gastos/Supervivencia/Alimentación/CARNICERIA CRISTIAN",
          "All/Gastos/Extras/Viajes/BUDAPEST",
          "All/Gastos/Ocio/Restaurantes/BULEVAR 45",
          "All/Gastos/Ocio/Senderismo/CAFETERIA PARQUE POLVORNCA",
          "All/Gastos/Ocio/Ropa/CALCEDONIA",
          "All/Gastos/Extras/Reparaciones/CALZADOS NACHO",
          "All/Gastos/Extras/Viajes/CADIZ",
          "All/Gastos/Extras/Viajes/CAMINO SANTIAGO FRANCES",
          "All/Gastos/Extras/Viajes/CAMINO SANTIAGO OURENSE",
          "All/Gastos/Gastos Fijos/Agua/CANAL ISABEL II",
          "All/Gastos/Extras/Coche/CAR WASH ALCORCON",
          "All/Gastos/Extras/Material Escolar/CARLIN",
          "All/Gastos/Extras/Varios/CALZADOS NACHO",
          "All/Gastos/Extras/Casa/CARLOS ORTIZ DEL GALLO",
          "All/Gastos/Ocio/Restaurantes/LATERAL CASTELLANA",
          "All/Gastos/Gastos Fijos/Teléfono Móvil/LOWI",
          "All/Gastos/Gastos Fijos/Adsl/LOWI",
          "All/Gastos/Supervivencia/Alimentación/LIDL",
          "All/Gastos/Extras/Donaciones/LIBREOFFICE",
          "All/Gastos/Extras/Casa/LEROY MERLIN",
          "All/Gastos/Extras/Casa Torrevieja/LEROY MERLIN",
          "All/Gastos/Ocio/Futbol/LEGANES",
          "All/Gastos/Gastos Fijos/Electricidad/LUCERA",
          "All/Gastos/Ocio/Restaurantes/LIBANES",
          "All/Gastos/Gastos Fijos/Gas Natural/LUCERA",
          "All/Gastos/Cultura/Teatro/MARQUITE SL",
          "All/Gastos/Ocio/Restaurantes/MADRID ROOFT",
          "All/Gastos/Extras/Viajes/MALAGA",
          "All/Gastos/Extras/Viajes/MALLORCA",
          "All/Gastos/Ocio/Ropa/MANGO",
          "All/Gastos/Supervivencia/Dentista/MARIA DEL CARMEN BENITO",
          "All/Gastos/Extras/Varios/MARMAR PLAZA NUEVA",
          "All/Gastos/Supervivencia/Alimentación/MAS Y MENOS",
          "All/Gastos/Ocio/Restaurantes/MCDONALDS",
          "All/Gastos/Gastos Fijos/Publicaciones/MEDIUM",
          "All/Gastos/Supervivencia/Alimentación/MERCADONA",
          "All/Gastos/Ocio/Restaurantes/LA CHOPERA",
          "All/Gastos/Ocio/Ropa/LUSH",
          "All/Gastos/Ocio/Restaurantes/LA CASONA DE LUIS",
          "All/Gastos/Ocio/Restaurantes/KECHUA",
          "All/Gastos/Extras/Varios/KIWOKO",
          "All/Gastos/Gastos Fijos/Televisión/HBO",
          "All/Gastos/Extras/Varios/HEMA",
          "All/Gastos/Supervivencia/Alimentación/HIBER",
          "All/Gastos/Supervivencia/Alimentación/HIPER PLUS",
          "All/Gastos/Extras/Regalos/HOTEL RICH",
          "All/Gastos/Extras/Cosmética/HUGUET",
          "All/Gastos/Gastos Fijos/Comisiones Bancarias/IBERCAJA",
          "All/Gastos/Extras/Estudios/IES LOS CASTILLOS",
          "All/Gastos/Extras/Casa/IKEA",
          "All/Gastos/Extras/Electrónica/IKEA",
          "All/Gastos/Extras/Varios/IKEA",
          "All/Gastos/Extras/Menaje Hogar/IKEA",
          "All/Gastos/Supervivencia/Holden/IVAN GARCIA - ETOLOGO",
          "All/Gastos/Supervivencia/Holden/JADOG",
          "All/Gastos/Gastos Fijos/Clases Inglés/JOE",
          "All/Gastos/Ocio/Restaurantes/KEBAB HUT",
          "All/Gastos/Ocio/Restaurantes/KEBAB LEGANES",
          "All/Gastos/Ocio/Restaurantes/KFC",
          "All/Gastos/Ocio/Bares/KIOSKO KAURA",
          "All/Gastos/Supervivencia/Holden/KIOSKO KAURA",
          "All/Gastos/Supervivencia/Holden/KIWOKO",
          "All/Gastos/Extras/Coche/ITV ALCORCON",
          "All/Gastos/Ocio/Ropa/KLASSE",
          "All/Gastos/Extras/Casa/VYSUAL MARKETING",
          "All/Gastos/Ocio/Ropa/ZAPSHOP",
          "All/Gastos/Ocio/Restaurantes/YAREY",
          "All/Gastos/Extras/Varios/XURI HAOMAI",
          "All/Gastos/Ocio/Ropa/ZARA",
          "All/Gastos/Extras/Regalos/ZARA",
          "All/Gastos/Extras/Varios/MONTIEL",
          "All/Gastos/Ocio/Ropa/PRIMARK",
          "All/Gastos/Extras/Casa/PRADA A TOPE",
          "All/Gastos/Extras/Menaje Hogar/PLAZA FORTUNA",
          "All/Gastos/Gastos Fijos/Planes de Pensiones/PLAN RENTA FIJA EUROPEA",
          "All/Gastos/Ocio/Restaurantes/PIZZERIA COR&COR",
          "All/Gastos/Extras/Menaje Hogar/PINTURAS VALDERAS",
          "All/Gastos/Ocio/Ropa/MICHAEL KARS",
          "All/Gastos/Supervivencia/Alimentación/PASTELERIA",
          "All/Gastos/Extras/Varios/PARFOIS",
          "All/Gastos/Gastos Fijos/Pan/PAN Y MAS",
          "All/Gastos/Ocio/Restaurantes/PAES BAKERY",
          "All/Gastos/Extras/Varios/ORANGE",
          "All/Gastos/Gastos Fijos/Teléfono Móvil/ORANGE",
          "All/Gastos/Gastos Fijos/Adsl/ORANGE",
          "All/Gastos/Extras/Cosmética/PRIMOR",
          "All/Gastos/Extras/Estética/PRIMOR",
          "All/Gastos/Extras/Peluquería/PRIMOR",
          "All/Gastos/Gastos Fijos/Alarma/PROSEGUR ALARMAS",
          "All/Gastos/Ocio/Restaurantes/MESON O RIO MINO",
          "All/Gastos/Gastos Fijos/Abono Transportes/METRO",
          "All/Gastos/Supervivencia/Transporte/METRO",
          "All/Gastos/Ocio/Ropa/ROJA'S",
          "All/Gastos/Ocio/Restaurantes/RODILLA",
          "All/Gastos/Ocio/Restaurantes/RESTAURANTE RIO MIÑO",
          "All/Ingresos/Ingresos/Intereses Bancarios/OPENBANK",
          "All/Gastos/Ocio/Restaurantes/RESTAURANTE EL CORTE INGLÉS",
          "All/Gastos/Extras/Butano/REPSOL",
          "All/Gastos/Cultura/Cine/RENOIR",
          "All/Gastos/Extras/Varios/MIMIUS LOVISS",
          "All/Gastos/Extras/Regalos/REAL MADRID",
          "All/Gastos/Ocio/Futbol/REAL MADRID",
          "All/Gastos/Ocio/Ropa/PULL AND BEAR",
          "All/Gastos/Extras/Coche/REPSOL",
          "All/Gastos/Gastos Fijos/Comisiones Bancarias/OPENBANK",
          "All/Gastos/Supervivencia/Transporte/RENFE",
          "All/Gastos/Ocio/Restaurantes/O PULPIÑO",
          "All/Gastos/Extras/Ajustes/No Definido",
          "All/Gastos/Supervivencia/Holden/NORIV",
          "All/Gastos/Gastos Fijos/Limpieza/NICO",
          "All/Gastos/Ocio/Restaurantes/NEW YORK BURGER",
          "All/Gastos/Gastos Fijos/Televisión/NETFLIX",
          "All/Gastos/Extras/Varios/NAMECHEAP",
          "All/Gastos/Gastos Fijos/Planes de Pensiones/MUTUALIDAD ABOGACIA",
          "All/Gastos/Gastos Fijos/Seguro coche/MUTUAL MADRILEÑA",
          "All/Gastos/Gastos Fijos/Seguro Hogar/MUTUAL MADRILEÑA",
          "All/Gastos/Extras/Casa/MUTUAL MADRILEÑA",
          "All/Ingresos/Ingresos/Bonificaciones/OPENBANK",
          "All/Gastos/Extras/Óptica/MULTIOPTICAS ALCORCON",
          "All/Gastos/Gastos Fijos/Televisión/MOVISTAR",
          "All/Gastos/Extras/Coche/MOTOR LOS CASTILLOS",
          "All/Gastos/Extras/Viajes/MONTIEL",
          "All/Gastos/Supervivencia/Alimentación/No Definido",
          "All/Gastos/Ocio/Bares/No Definido",
          "All/Gastos/Supervivencia/Alimentación/PESCADERIA ALCORCON",
          "All/Gastos/Extras/Coche/No Definido",
          "All/Gastos/Ocio/Restaurantes/No Definido",
          "All/Gastos/Extras/Celebraciones/No Definido",
          "All/Gastos/Ocio/Ropa/No Definido",
          "All/Gastos/Ocio/Taxi/No Definido",
          "All/Gastos/Ocio/Restaurantes/O CASTELLO",
          "All/Gastos/Extras/Regalos/No Definido",
          "All/Gastos/Ocio/Parking/No Definido",
          "All/Gastos/Extras/Varios/No Definido",
          "All/Gastos/Cultura/Libros/No Definido",
          "All/Gastos/Supervivencia/Hijos/No Definido",
          "All/Gastos/Extras/Fiesta Cumpleaños/No Definido",
          "All/Gastos/Supervivencia/Farmacia/No Definido",
          "All/Gastos/Extras/Estética/No Definido",
          "All/Gastos/Extras/Estudios/No Definido",
          "All/Ingresos/Ingresos/Despacho/No Definido",
          "All/Gastos/Extras/Menaje Hogar/No Definido",
          "All/Gastos/Extras/Reparaciones/TRAVIESO BIKE",
          "All/Gastos/Gastos Fijos/Servicios Online/TICKTICK",
          "All/Gastos/Extras/Casa/TIGER",
          "All/Gastos/Extras/Varios/TIGER",
          "All/Gastos/Ocio/Restaurantes/TOPKAPI",
          "All/Gastos/Extras/Viajes/TORREVIEJA",
          "All/Gastos/Ocio/Restaurantes/TOTAL BURRITO",
          "All/Gastos/Ocio/Restaurantes/TRIPLEXY MADRIDX",
          "All/Gastos/Supervivencia/Holden/VERDECORA",
          "All/Gastos/Gastos Fijos/Universidad/UNIVERSIDAD EUROPEA",
          "All/Gastos/Cultura/Museos/UTE MADRID MERCHANDANSING",
          "All/Gastos/Ocio/Restaurantes/VAGALUME",
          "All/Gastos/Extras/Regalos/VANS",
          "All/Gastos/Extras/Casa/VERDECORA",
          "All/Gastos/Extras/Varios/THE PURE WINERY",
          "All/Gastos/Extras/Varios/VERDECORA",
          "All/Gastos/Ocio/Restaurantes/VIPS",
          "All/Gastos/Gastos Fijos/Thermomix/VORWERK",
          "All/Gastos/Gastos Fijos/Publicaciones/UN PERRO EN LA CIUDAD",
          "All/Gastos/Extras/Gastos Escuela/TGSS",
          "All/Gastos/Extras/Regalos/STRADIVARIOUS",
          "All/Gastos/Extras/Regalos/TEATRO REAL",
          "All/Gastos/Ocio/Restaurantes/SANTANDER ABELIAS",
          "All/Ingresos/Ingresos/Bono/SANTANDER TECNOLOGIA",
          "All/Ingresos/Ingresos/Nómina/SANTANDER TECNOLOGIA",
          "All/Gastos/Extras/Casa/SATEC",
          "All/Gastos/Gastos Fijos/Mantenimiento Caldera/SATEC",
          "All/Gastos/Gastos Fijos/Alarma/SECURITAS DIRECT",
          "All/Gastos/Extras/Electrónica/SECURITAS DIRECT",
          "All/Gastos/Extras/Viajes/SEGOVIA",
          "All/Gastos/Extras/Coche/SEITT",
          "All/Gastos/Extras/Fiesta Cumpleaños/SHEIN.COM",
          "All/Gastos/Ocio/Ropa/SHEIN.COM",
          "All/Gastos/Extras/Varios/SHELL",
          "All/Gastos/Gastos Fijos/Clases Inglés/SHIRA COHEN",
          "All/Gastos/Supervivencia/Alimentación/SIMPLY",
          "All/Gastos/Gastos Fijos/Teléfono Móvil/SIMYO",
          "All/Gastos/Extras/Regalos/SKLUM",
          "All/Gastos/Extras/Coche/SOLNER",
          "All/Gastos/Gastos Fijos/Música/SPOTIFY",
          "All/Gastos/Ocio/Restaurantes/STARBUCKS",
          "All/Gastos/Extras/Varios/STYLE FOREVER",
          "All/Gastos/Supervivencia/Alimentación/SUPECO",
          "All/Gastos/Ocio/Restaurantes/TACO BELL",
          "All/Gastos/Cultura/Opera/TEATRO REAL",
          "All/Gastos/Ocio/Ropa/TEZENIS",
          "All/Gastos/Extras/Varios/SHEIN.COM",
          "All/Gastos/Gastos Fijos/Abono Transportes",
          "All/Gastos/Gastos Fijos/Adsl",
          "All/Gastos/Gastos Fijos/Agua",
          "All/Gastos/Extras/Ajustes",
          "All/Gastos/Gastos Fijos/Alarma",
          "All/Gastos/Supervivencia/Alimentación",
          "All/Gastos/Ocio/Bares",
          "All/Ingresos/Ingresos/Bonificaciones",
          "All/Ingresos/Ingresos/Bono",
          "All/Gastos/Extras/Butano",
          "All/Gastos/Extras/Carnet de Conducir",
          "All/Gastos/Extras/Casa",
          "All/Gastos/Extras/Casa Torrevieja",
          "All/Gastos/Extras/Celebraciones",
          "All/Gastos/Cultura/Cine",
          "All/Gastos/Gastos Fijos/Clases Inglés",
          "All/Gastos/Extras/Coche",
          "All/Gastos/Gastos Fijos/Comisiones Bancarias",
          "All/Gastos/Gastos Fijos/Comunidad Propietarios",
          "All/Gastos/Cultura/Conciertos",
          "All/Gastos/Extras/Cosmética",
          "All/Gastos/Supervivencia/Dentista",
          "All/Ingresos/Ingresos/Despacho",
          "All/Gastos/Extras/Donaciones",
          "All/Gastos/Gastos Fijos/Electricidad",
          "All/Gastos/Extras/Electrónica",
          "All/Gastos/Gastos Fijos/Entrega a Domicilio",
          "All/Gastos/Extras/Estudios",
          "All/Gastos/Extras/Estética",
          "All/Gastos/Supervivencia/Farmacia",
          "All/Gastos/Extras/Fiesta Cumpleaños",
          "All/Gastos/Supervivencia/Fisio",
          "All/Gastos/Ocio/Futbol",
          "All/Gastos/Gastos Fijos/Gas Natural",
          "All/Gastos/Extras/Gastos Escuela",
          "All/Gastos/Supervivencia/Hijos",
          "All/Gastos/Supervivencia/Holden",
          "All/Gastos/Gastos Fijos/Impuesto Bienes Inmuebles (IBI)",
          "All/Gastos/Gastos Fijos/Impuesto Vehiculos",
          "All/Gastos/Gastos Fijos/Impuestos",
          "All/Ingresos/Ingresos/Intereses Bancarios",
          "All/Gastos/Extras/Irpf",
          "All/Gastos/Cultura/Libros",
          "All/Gastos/Gastos Fijos/Limpieza",
          "All/Gastos/Gastos Fijos/Mantenimiento Caldera",
          "All/Gastos/Extras/Material Deportivo",
          "All/Gastos/Extras/Material Escolar",
          "All/Gastos/Extras/Menaje Hogar",
          "All/Gastos/Extras/Multas Circulación",
          "All/Gastos/Cultura/Museos",
          "All/Gastos/Gastos Fijos/Música",
          "All/Ingresos/Ingresos/Nómina",
          "All/Gastos/Gastos Fijos/Olivas",
          "All/Ingresos/Ingresos/Olivas",
          "All/Gastos/Cultura/Opera",
          "All/Gastos/Gastos Fijos/Paga",
          "All/Gastos/Gastos Fijos/Pan",
          "All/Gastos/Ocio/Parking",
          "All/Gastos/Extras/Peluquería",
          "All/Gastos/Gastos Fijos/Plan Salud Veterinario",
          "All/Gastos/Gastos Fijos/Planes de Pensiones",
          "All/Gastos/Gastos Fijos/Publicaciones",
          "All/Gastos/Extras/Regalos",
          "All/Gastos/Extras/Reparaciones",
          "All/Gastos/Ocio/Restaurantes",
          "All/Gastos/Ocio/Ropa",
          "All/Gastos/Gastos Fijos/Salud",
          "All/Gastos/Gastos Fijos/Seguro Hogar",
          "All/Gastos/Gastos Fijos/Seguro coche",
          "All/Gastos/Ocio/Senderismo",
          "All/Gastos/Extras/Servicios Online",
          "All/Gastos/Gastos Fijos/Servicios Online",
          "All/Gastos/Gastos Fijos/Supermercados",
          "All/Gastos/Ocio/Taxi",
          "All/Gastos/Cultura/Teatro",
          "All/Gastos/Gastos Fijos/Televisión",
          "All/Gastos/Gastos Fijos/Teléfono Móvil",
          "All/Gastos/Gastos Fijos/Thermomix",
          "All/Gastos/Supervivencia/Transporte",
          "All/Gastos/Gastos Fijos/Universidad",
          "All/Gastos/Extras/Varios",
          "All/Gastos/Extras/Viajes",
          "All/Gastos/Extras/Óptica",
          "All/Gastos/Cultura",
          "All/Gastos/Extras",
          "All/Gastos/Gastos Fijos",
          "All/Ingresos/Ingresos",
          "All/Gastos/Ocio",
          "All/Gastos/Supervivencia",
          "All/Gastos",
          "All/Ingresos",
          "All"
         ],
         "labels": [
          "5 DE TIRSO",
          "AIMAR",
          "AIMAR",
          "ALADINIA NETWORKS",
          "ALCAMPO",
          "ALDI",
          "ALIMENTACION BAZAR",
          "AMAZON",
          "AMAZON",
          "DRIVO",
          "EL CORTE INGLÉS",
          "EL CORTE INGLÉS",
          "EL CORTE INGLÉS",
          "EL MUNDO",
          "EL MUNDO",
          "ESPASA CALPE",
          "EL RINCON DEL TAPEO",
          "ELECTRO DEPOT",
          "DOSFARMA",
          "ESTÉTICA ARROYO CULEBRO",
          "EXCURSION NIEVE",
          "EL PAIS",
          "DOMINOS PIZZA",
          "DECLATHON",
          "DIPUTACION CIUDAD REAL",
          "DIA",
          "FABULA",
          "DECLATHON",
          "DECLATHON",
          "DECLATHON",
          "DEALZ",
          "DAZN",
          "COSTCO",
          "COSTCO",
          "CORTE INGLES",
          "COOPERATIVA SAN BARTOLOME APOSTOL",
          "COOPERATIVA SAN BARTOLOME APOSTOL",
          "DISCAM",
          "FARMACIA ALCORCON",
          "FENG",
          "FARMACIA PUERTA DEL SUR",
          "HAMBURGUESA NOSTRA",
          "HACIENDA",
          "H&M",
          "GUAO&CAT",
          "GRUPOS MEDIA",
          "GRANADA",
          "GOOGLE",
          "GLOVO",
          "GLOVO",
          "GITKRAKEN",
          "GIGSBERG",
          "GENERACIÓN 40",
          "FUENCARRAL 70",
          "FRUTERIA ALCORCON",
          "FOTOPREDIS",
          "FNAC",
          "FNAC",
          "FNAC",
          "FLORISTERIA LEGANES",
          "FLAVIA GASTON PELUQUEROS",
          "FIVE GUYS",
          "FISIO ALCORCON",
          "FEU VERT",
          "FERRETERIA LEGANORTE",
          "FERRETERIA LEGANORTE",
          "FERRETERIA LAS MURALLAS",
          "CONVERSE",
          "FARMACIA TORREVIEJA",
          "FARMACIA REYES",
          "FARMACIA LEGANES",
          "CONSERVERA CASTREÑA",
          "DAMA DE COPAS",
          "COMUNIDAD MADRID",
          "BRICOMART",
          "BOFROST ",
          "BOFROST",
          "BITWARDEN",
          "BAZAR PLAZA NUEVA",
          "BAR BERNABEU",
          "BAR AVENIDA",
          "BAMBINA",
          "BAHIANA CLUB",
          "COMUNIDAD PROPIETARIOS GOYA ZURBARAN",
          "AYUNTAMIENTO DE MADRID",
          "AYUNTAMIENTO DE LEGANES",
          "AYUNTAMIENTO DE LEGANES",
          "AYUNTAMIENTO DE ALCOCON",
          "AUTOBUSES",
          "AUTO-LAVADO",
          "ASISA DENTAL",
          "APPLE",
          "APARCAMIENTO ESTACION SUR",
          "ANIMAL KINGDOM",
          "ANIMAL KINGDOM",
          "AMPA IES LOS CASTILLOS",
          "AMAZON MUSIC",
          "AMAZON",
          "AMAZON",
          "AMAZON",
          "AMAZON",
          "AMAZON",
          "AMAZON",
          "BRICOMART",
          "BRICOMART",
          "AYUNTAMIENTO DE MADRID",
          "BRUTAL BURRITO",
          "COMUNIDAD MADRID",
          "CLINICA HERNADENT",
          "CLAUDIA",
          "BRINDIS MIRAFLORES",
          "CIRCULO CONSULTOR",
          "CHURRERIA ALCORCON",
          "CHINO",
          "CHANGO",
          "CASTRO URDIALES",
          "CASA TORERO",
          "CASA ANGEL",
          "CARREFOUR",
          "CARREFOUR",
          "CARPE DIEM",
          "CIUDAD REAL",
          "CARNICERIA ASTURIAS",
          "CARNICERIA CRISTIAN",
          "BUDAPEST",
          "BULEVAR 45",
          "CAFETERIA PARQUE POLVORNCA",
          "CALCEDONIA",
          "CALZADOS NACHO",
          "CADIZ",
          "CAMINO SANTIAGO FRANCES",
          "CAMINO SANTIAGO OURENSE",
          "CANAL ISABEL II",
          "CAR WASH ALCORCON",
          "CARLIN",
          "CALZADOS NACHO",
          "CARLOS ORTIZ DEL GALLO",
          "LATERAL CASTELLANA",
          "LOWI",
          "LOWI",
          "LIDL",
          "LIBREOFFICE",
          "LEROY MERLIN",
          "LEROY MERLIN",
          "LEGANES",
          "LUCERA",
          "LIBANES",
          "LUCERA",
          "MARQUITE SL",
          "MADRID ROOFT",
          "MALAGA",
          "MALLORCA",
          "MANGO",
          "MARIA DEL CARMEN BENITO",
          "MARMAR PLAZA NUEVA",
          "MAS Y MENOS",
          "MCDONALDS",
          "MEDIUM",
          "MERCADONA",
          "LA CHOPERA",
          "LUSH",
          "LA CASONA DE LUIS",
          "KECHUA",
          "KIWOKO",
          "HBO",
          "HEMA",
          "HIBER",
          "HIPER PLUS",
          "HOTEL RICH",
          "HUGUET",
          "IBERCAJA",
          "IES LOS CASTILLOS",
          "IKEA",
          "IKEA",
          "IKEA",
          "IKEA",
          "IVAN GARCIA - ETOLOGO",
          "JADOG",
          "JOE",
          "KEBAB HUT",
          "KEBAB LEGANES",
          "KFC",
          "KIOSKO KAURA",
          "KIOSKO KAURA",
          "KIWOKO",
          "ITV ALCORCON",
          "KLASSE",
          "VYSUAL MARKETING",
          "ZAPSHOP",
          "YAREY",
          "XURI HAOMAI",
          "ZARA",
          "ZARA",
          "MONTIEL",
          "PRIMARK",
          "PRADA A TOPE",
          "PLAZA FORTUNA",
          "PLAN RENTA FIJA EUROPEA",
          "PIZZERIA COR&COR",
          "PINTURAS VALDERAS",
          "MICHAEL KARS",
          "PASTELERIA",
          "PARFOIS",
          "PAN Y MAS",
          "PAES BAKERY",
          "ORANGE",
          "ORANGE",
          "ORANGE",
          "PRIMOR",
          "PRIMOR",
          "PRIMOR",
          "PROSEGUR ALARMAS",
          "MESON O RIO MINO",
          "METRO",
          "METRO",
          "ROJA'S",
          "RODILLA",
          "RESTAURANTE RIO MIÑO",
          "OPENBANK",
          "RESTAURANTE EL CORTE INGLÉS",
          "REPSOL",
          "RENOIR",
          "MIMIUS LOVISS",
          "REAL MADRID",
          "REAL MADRID",
          "PULL AND BEAR",
          "REPSOL",
          "OPENBANK",
          "RENFE",
          "O PULPIÑO",
          "No Definido",
          "NORIV",
          "NICO",
          "NEW YORK BURGER",
          "NETFLIX",
          "NAMECHEAP",
          "MUTUALIDAD ABOGACIA",
          "MUTUAL MADRILEÑA",
          "MUTUAL MADRILEÑA",
          "MUTUAL MADRILEÑA",
          "OPENBANK",
          "MULTIOPTICAS ALCORCON",
          "MOVISTAR",
          "MOTOR LOS CASTILLOS",
          "MONTIEL",
          "No Definido",
          "No Definido",
          "PESCADERIA ALCORCON",
          "No Definido",
          "No Definido",
          "No Definido",
          "No Definido",
          "No Definido",
          "O CASTELLO",
          "No Definido",
          "No Definido",
          "No Definido",
          "No Definido",
          "No Definido",
          "No Definido",
          "No Definido",
          "No Definido",
          "No Definido",
          "No Definido",
          "No Definido",
          "TRAVIESO BIKE",
          "TICKTICK",
          "TIGER",
          "TIGER",
          "TOPKAPI",
          "TORREVIEJA",
          "TOTAL BURRITO",
          "TRIPLEXY MADRIDX",
          "VERDECORA",
          "UNIVERSIDAD EUROPEA",
          "UTE MADRID MERCHANDANSING",
          "VAGALUME",
          "VANS",
          "VERDECORA",
          "THE PURE WINERY",
          "VERDECORA",
          "VIPS",
          "VORWERK",
          "UN PERRO EN LA CIUDAD",
          "TGSS",
          "STRADIVARIOUS",
          "TEATRO REAL",
          "SANTANDER ABELIAS",
          "SANTANDER TECNOLOGIA",
          "SANTANDER TECNOLOGIA",
          "SATEC",
          "SATEC",
          "SECURITAS DIRECT",
          "SECURITAS DIRECT",
          "SEGOVIA",
          "SEITT",
          "SHEIN.COM",
          "SHEIN.COM",
          "SHELL",
          "SHIRA COHEN",
          "SIMPLY",
          "SIMYO",
          "SKLUM",
          "SOLNER",
          "SPOTIFY",
          "STARBUCKS",
          "STYLE FOREVER",
          "SUPECO",
          "TACO BELL",
          "TEATRO REAL",
          "TEZENIS",
          "SHEIN.COM",
          "Abono Transportes",
          "Adsl",
          "Agua",
          "Ajustes",
          "Alarma",
          "Alimentación",
          "Bares",
          "Bonificaciones",
          "Bono",
          "Butano",
          "Carnet de Conducir",
          "Casa",
          "Casa Torrevieja",
          "Celebraciones",
          "Cine",
          "Clases Inglés",
          "Coche",
          "Comisiones Bancarias",
          "Comunidad Propietarios",
          "Conciertos",
          "Cosmética",
          "Dentista",
          "Despacho",
          "Donaciones",
          "Electricidad",
          "Electrónica",
          "Entrega a Domicilio",
          "Estudios",
          "Estética",
          "Farmacia",
          "Fiesta Cumpleaños",
          "Fisio",
          "Futbol",
          "Gas Natural",
          "Gastos Escuela",
          "Hijos",
          "Holden",
          "Impuesto Bienes Inmuebles (IBI)",
          "Impuesto Vehiculos",
          "Impuestos",
          "Intereses Bancarios",
          "Irpf",
          "Libros",
          "Limpieza",
          "Mantenimiento Caldera",
          "Material Deportivo",
          "Material Escolar",
          "Menaje Hogar",
          "Multas Circulación",
          "Museos",
          "Música",
          "Nómina",
          "Olivas",
          "Olivas",
          "Opera",
          "Paga",
          "Pan",
          "Parking",
          "Peluquería",
          "Plan Salud Veterinario",
          "Planes de Pensiones",
          "Publicaciones",
          "Regalos",
          "Reparaciones",
          "Restaurantes",
          "Ropa",
          "Salud",
          "Seguro Hogar",
          "Seguro coche",
          "Senderismo",
          "Servicios Online",
          "Servicios Online",
          "Supermercados",
          "Taxi",
          "Teatro",
          "Televisión",
          "Teléfono Móvil",
          "Thermomix",
          "Transporte",
          "Universidad",
          "Varios",
          "Viajes",
          "Óptica",
          "Cultura",
          "Extras",
          "Gastos Fijos",
          "Ingresos",
          "Ocio",
          "Supervivencia",
          "Gastos",
          "Ingresos",
          "All"
         ],
         "marker": {
          "colors": [
           "#636efa",
           "#EF553B",
           "#00cc96",
           "#00cc96",
           "#ab63fa",
           "#ab63fa",
           "#ab63fa",
           "#00cc96",
           "#00cc96",
           "#00cc96",
           "#ab63fa",
           "#00cc96",
           "#636efa",
           "#EF553B",
           "#00cc96",
           "#FFA15A",
           "#636efa",
           "#00cc96",
           "#00cc96",
           "#00cc96",
           "#00cc96",
           "#EF553B",
           "#636efa",
           "#00cc96",
           "#EF553B",
           "#ab63fa",
           "#FFA15A",
           "#636efa",
           "#00cc96",
           "#00cc96",
           "#00cc96",
           "#EF553B",
           "#EF553B",
           "#ab63fa",
           "#00cc96",
           "#19d3f3",
           "#EF553B",
           "#00cc96",
           "#ab63fa",
           "#636efa",
           "#ab63fa",
           "#636efa",
           "#00cc96",
           "#636efa",
           "#ab63fa",
           "#00cc96",
           "#00cc96",
           "#EF553B",
           "#636efa",
           "#EF553B",
           "#EF553B",
           "#FFA15A",
           "#636efa",
           "#636efa",
           "#ab63fa",
           "#00cc96",
           "#00cc96",
           "#00cc96",
           "#00cc96",
           "#00cc96",
           "#00cc96",
           "#636efa",
           "#ab63fa",
           "#00cc96",
           "#00cc96",
           "#00cc96",
           "#00cc96",
           "#00cc96",
           "#ab63fa",
           "#ab63fa",
           "#ab63fa",
           "#ab63fa",
           "#636efa",
           "#00cc96",
           "#00cc96",
           "#ab63fa",
           "#ab63fa",
           "#EF553B",
           "#00cc96",
           "#636efa",
           "#636efa",
           "#00cc96",
           "#636efa",
           "#EF553B",
           "#EF553B",
           "#00cc96",
           "#EF553B",
           "#EF553B",
           "#ab63fa",
           "#00cc96",
           "#EF553B",
           "#00cc96",
           "#00cc96",
           "#EF553B",
           "#ab63fa",
           "#00cc96",
           "#EF553B",
           "#00cc96",
           "#00cc96",
           "#00cc96",
           "#FFA15A",
           "#ab63fa",
           "#00cc96",
           "#00cc96",
           "#00cc96",
           "#00cc96",
           "#636efa",
           "#00cc96",
           "#ab63fa",
           "#EF553B",
           "#636efa",
           "#00cc96",
           "#ab63fa",
           "#ab63fa",
           "#636efa",
           "#00cc96",
           "#636efa",
           "#636efa",
           "#00cc96",
           "#ab63fa",
           "#636efa",
           "#00cc96",
           "#ab63fa",
           "#ab63fa",
           "#00cc96",
           "#636efa",
           "#636efa",
           "#636efa",
           "#00cc96",
           "#00cc96",
           "#00cc96",
           "#00cc96",
           "#EF553B",
           "#00cc96",
           "#00cc96",
           "#00cc96",
           "#00cc96",
           "#636efa",
           "#EF553B",
           "#EF553B",
           "#ab63fa",
           "#00cc96",
           "#00cc96",
           "#00cc96",
           "#636efa",
           "#EF553B",
           "#636efa",
           "#EF553B",
           "#FFA15A",
           "#636efa",
           "#00cc96",
           "#00cc96",
           "#636efa",
           "#ab63fa",
           "#00cc96",
           "#ab63fa",
           "#636efa",
           "#EF553B",
           "#ab63fa",
           "#636efa",
           "#636efa",
           "#636efa",
           "#636efa",
           "#00cc96",
           "#EF553B",
           "#00cc96",
           "#ab63fa",
           "#ab63fa",
           "#00cc96",
           "#00cc96",
           "#EF553B",
           "#00cc96",
           "#00cc96",
           "#00cc96",
           "#00cc96",
           "#00cc96",
           "#ab63fa",
           "#ab63fa",
           "#EF553B",
           "#636efa",
           "#636efa",
           "#636efa",
           "#636efa",
           "#ab63fa",
           "#ab63fa",
           "#00cc96",
           "#636efa",
           "#00cc96",
           "#636efa",
           "#636efa",
           "#00cc96",
           "#636efa",
           "#00cc96",
           "#00cc96",
           "#636efa",
           "#00cc96",
           "#00cc96",
           "#EF553B",
           "#636efa",
           "#00cc96",
           "#636efa",
           "#ab63fa",
           "#00cc96",
           "#EF553B",
           "#636efa",
           "#00cc96",
           "#EF553B",
           "#EF553B",
           "#00cc96",
           "#00cc96",
           "#00cc96",
           "#EF553B",
           "#636efa",
           "#EF553B",
           "#ab63fa",
           "#636efa",
           "#636efa",
           "#636efa",
           "#19d3f3",
           "#636efa",
           "#00cc96",
           "#FFA15A",
           "#00cc96",
           "#00cc96",
           "#636efa",
           "#636efa",
           "#00cc96",
           "#EF553B",
           "#ab63fa",
           "#636efa",
           "#00cc96",
           "#ab63fa",
           "#EF553B",
           "#636efa",
           "#EF553B",
           "#00cc96",
           "#EF553B",
           "#EF553B",
           "#EF553B",
           "#00cc96",
           "#19d3f3",
           "#00cc96",
           "#EF553B",
           "#00cc96",
           "#00cc96",
           "#ab63fa",
           "#636efa",
           "#ab63fa",
           "#00cc96",
           "#636efa",
           "#00cc96",
           "#636efa",
           "#636efa",
           "#636efa",
           "#00cc96",
           "#636efa",
           "#00cc96",
           "#FFA15A",
           "#ab63fa",
           "#00cc96",
           "#ab63fa",
           "#00cc96",
           "#00cc96",
           "#19d3f3",
           "#00cc96",
           "#00cc96",
           "#EF553B",
           "#00cc96",
           "#00cc96",
           "#636efa",
           "#00cc96",
           "#636efa",
           "#636efa",
           "#ab63fa",
           "#EF553B",
           "#FFA15A",
           "#636efa",
           "#00cc96",
           "#00cc96",
           "#00cc96",
           "#00cc96",
           "#636efa",
           "#EF553B",
           "#EF553B",
           "#00cc96",
           "#00cc96",
           "#00cc96",
           "#636efa",
           "#19d3f3",
           "#19d3f3",
           "#00cc96",
           "#EF553B",
           "#EF553B",
           "#00cc96",
           "#00cc96",
           "#00cc96",
           "#00cc96",
           "#636efa",
           "#00cc96",
           "#EF553B",
           "#ab63fa",
           "#EF553B",
           "#00cc96",
           "#00cc96",
           "#EF553B",
           "#636efa",
           "#00cc96",
           "#ab63fa",
           "#636efa",
           "#FFA15A",
           "#636efa",
           "#00cc96",
           "#EF553B",
           "#EF553B",
           "#EF553B",
           "#00cc96",
           "#EF553B",
           "#ab63fa",
           "#636efa",
           "#19d3f3",
           "#19d3f3",
           "#00cc96",
           "#00cc96",
           "#00cc96",
           "#00cc96",
           "#00cc96",
           "#FFA15A",
           "#EF553B",
           "#00cc96",
           "#EF553B",
           "#EF553B",
           "#FFA15A",
           "#00cc96",
           "#ab63fa",
           "#19d3f3",
           "#00cc96",
           "#EF553B",
           "#00cc96",
           "#EF553B",
           "#00cc96",
           "#00cc96",
           "#ab63fa",
           "#00cc96",
           "#ab63fa",
           "#636efa",
           "#EF553B",
           "#00cc96",
           "#ab63fa",
           "#ab63fa",
           "#EF553B",
           "#EF553B",
           "#EF553B",
           "#19d3f3",
           "#00cc96",
           "#FFA15A",
           "#EF553B",
           "#EF553B",
           "#00cc96",
           "#00cc96",
           "#00cc96",
           "#00cc96",
           "#FFA15A",
           "#EF553B",
           "#19d3f3",
           "#EF553B",
           "#19d3f3",
           "#FFA15A",
           "#EF553B",
           "#EF553B",
           "#636efa",
           "#00cc96",
           "#EF553B",
           "#EF553B",
           "#EF553B",
           "#00cc96",
           "#00cc96",
           "#636efa",
           "#636efa",
           "#EF553B",
           "#EF553B",
           "#EF553B",
           "#636efa",
           "#00cc96",
           "#EF553B",
           "#EF553B",
           "#636efa",
           "#FFA15A",
           "#EF553B",
           "#EF553B",
           "#EF553B",
           "#ab63fa",
           "#EF553B",
           "#00cc96",
           "#00cc96",
           "#00cc96",
           "#FFA15A",
           "#00cc96",
           "#EF553B",
           "#19d3f3",
           "#636efa",
           "#ab63fa",
           "#FF6692",
           "#19d3f3",
           "#FF6692"
          ]
         },
         "name": "",
         "parents": [
          "All/Gastos/Ocio/Restaurantes",
          "All/Gastos/Gastos Fijos/Paga",
          "All/Gastos/Extras/Varios",
          "All/Gastos/Extras/Regalos",
          "All/Gastos/Supervivencia/Alimentación",
          "All/Gastos/Supervivencia/Alimentación",
          "All/Gastos/Supervivencia/Alimentación",
          "All/Gastos/Extras/Casa",
          "All/Gastos/Extras/Casa Torrevieja",
          "All/Gastos/Extras/Carnet de Conducir",
          "All/Gastos/Supervivencia/Alimentación",
          "All/Gastos/Extras/Regalos",
          "All/Gastos/Ocio/Ropa",
          "All/Gastos/Gastos Fijos/Publicaciones",
          "All/Gastos/Extras/Servicios Online",
          "All/Gastos/Cultura/Libros",
          "All/Gastos/Ocio/Restaurantes",
          "All/Gastos/Extras/Casa",
          "All/Gastos/Extras/Regalos",
          "All/Gastos/Extras/Estética",
          "All/Gastos/Extras/Viajes",
          "All/Gastos/Gastos Fijos/Publicaciones",
          "All/Gastos/Ocio/Restaurantes",
          "All/Gastos/Extras/Varios",
          "All/Gastos/Gastos Fijos/Impuestos",
          "All/Gastos/Supervivencia/Alimentación",
          "All/Gastos/Cultura/Libros",
          "All/Gastos/Ocio/Ropa",
          "All/Gastos/Extras/Regalos",
          "All/Gastos/Extras/Material Deportivo",
          "All/Gastos/Extras/Varios",
          "All/Gastos/Gastos Fijos/Televisión",
          "All/Gastos/Gastos Fijos/Supermercados",
          "All/Gastos/Supervivencia/Alimentación",
          "All/Gastos/Extras/Material Escolar",
          "All/Ingresos/Ingresos/Olivas",
          "All/Gastos/Gastos Fijos/Olivas",
          "All/Gastos/Extras/Varios",
          "All/Gastos/Supervivencia/Farmacia",
          "All/Gastos/Ocio/Restaurantes",
          "All/Gastos/Supervivencia/Farmacia",
          "All/Gastos/Ocio/Restaurantes",
          "All/Gastos/Extras/Irpf",
          "All/Gastos/Ocio/Ropa",
          "All/Gastos/Supervivencia/Holden",
          "All/Gastos/Extras/Regalos",
          "All/Gastos/Extras/Viajes",
          "All/Gastos/Gastos Fijos/Servicios Online",
          "All/Gastos/Ocio/Restaurantes",
          "All/Gastos/Gastos Fijos/Entrega a Domicilio",
          "All/Gastos/Gastos Fijos/Servicios Online",
          "All/Gastos/Cultura/Conciertos",
          "All/Gastos/Ocio/Ropa",
          "All/Gastos/Ocio/Ropa",
          "All/Gastos/Supervivencia/Alimentación",
          "All/Gastos/Extras/Varios",
          "All/Gastos/Extras/Varios",
          "All/Gastos/Extras/Regalos",
          "All/Gastos/Extras/Material Escolar",
          "All/Gastos/Extras/Regalos",
          "All/Gastos/Extras/Peluquería",
          "All/Gastos/Ocio/Restaurantes",
          "All/Gastos/Supervivencia/Fisio",
          "All/Gastos/Extras/Coche",
          "All/Gastos/Extras/Varios",
          "All/Gastos/Extras/Casa",
          "All/Gastos/Extras/Reparaciones",
          "All/Gastos/Extras/Regalos",
          "All/Gastos/Supervivencia/Farmacia",
          "All/Gastos/Supervivencia/Farmacia",
          "All/Gastos/Supervivencia/Farmacia",
          "All/Gastos/Supervivencia/Alimentación",
          "All/Gastos/Ocio/Ropa",
          "All/Gastos/Extras/Varios",
          "All/Gastos/Extras/Casa",
          "All/Gastos/Supervivencia/Alimentación",
          "All/Gastos/Supervivencia/Alimentación",
          "All/Gastos/Gastos Fijos/Servicios Online",
          "All/Gastos/Extras/Varios",
          "All/Gastos/Ocio/Restaurantes",
          "All/Gastos/Ocio/Restaurantes",
          "All/Gastos/Extras/Peluquería",
          "All/Gastos/Ocio/Restaurantes",
          "All/Gastos/Gastos Fijos/Comunidad Propietarios",
          "All/Gastos/Gastos Fijos/Impuesto Vehiculos",
          "All/Gastos/Extras/Varios",
          "All/Gastos/Gastos Fijos/Impuesto Bienes Inmuebles (IBI)",
          "All/Gastos/Gastos Fijos/Impuesto Vehiculos",
          "All/Gastos/Supervivencia/Transporte",
          "All/Gastos/Extras/Coche",
          "All/Gastos/Gastos Fijos/Salud",
          "All/Gastos/Extras/Varios",
          "All/Gastos/Extras/Varios",
          "All/Gastos/Gastos Fijos/Plan Salud Veterinario",
          "All/Gastos/Supervivencia/Holden",
          "All/Gastos/Extras/Estudios",
          "All/Gastos/Gastos Fijos/Servicios Online",
          "All/Gastos/Extras/Varios",
          "All/Gastos/Extras/Regalos",
          "All/Gastos/Extras/Menaje Hogar",
          "All/Gastos/Cultura/Libros",
          "All/Gastos/Supervivencia/Holden",
          "All/Gastos/Extras/Electrónica",
          "All/Gastos/Extras/Regalos",
          "All/Gastos/Extras/Reparaciones",
          "All/Gastos/Extras/Multas Circulación",
          "All/Gastos/Ocio/Restaurantes",
          "All/Gastos/Extras/Estudios",
          "All/Gastos/Supervivencia/Dentista",
          "All/Gastos/Gastos Fijos/Paga",
          "All/Gastos/Ocio/Restaurantes",
          "All/Gastos/Extras/Gastos Escuela",
          "All/Gastos/Supervivencia/Alimentación",
          "All/Gastos/Supervivencia/Alimentación",
          "All/Gastos/Ocio/Restaurantes",
          "All/Gastos/Extras/Viajes",
          "All/Gastos/Ocio/Senderismo",
          "All/Gastos/Ocio/Restaurantes",
          "All/Gastos/Extras/Regalos",
          "All/Gastos/Supervivencia/Alimentación",
          "All/Gastos/Ocio/Restaurantes",
          "All/Gastos/Extras/Viajes",
          "All/Gastos/Supervivencia/Alimentación",
          "All/Gastos/Supervivencia/Alimentación",
          "All/Gastos/Extras/Viajes",
          "All/Gastos/Ocio/Restaurantes",
          "All/Gastos/Ocio/Senderismo",
          "All/Gastos/Ocio/Ropa",
          "All/Gastos/Extras/Reparaciones",
          "All/Gastos/Extras/Viajes",
          "All/Gastos/Extras/Viajes",
          "All/Gastos/Extras/Viajes",
          "All/Gastos/Gastos Fijos/Agua",
          "All/Gastos/Extras/Coche",
          "All/Gastos/Extras/Material Escolar",
          "All/Gastos/Extras/Varios",
          "All/Gastos/Extras/Casa",
          "All/Gastos/Ocio/Restaurantes",
          "All/Gastos/Gastos Fijos/Teléfono Móvil",
          "All/Gastos/Gastos Fijos/Adsl",
          "All/Gastos/Supervivencia/Alimentación",
          "All/Gastos/Extras/Donaciones",
          "All/Gastos/Extras/Casa",
          "All/Gastos/Extras/Casa Torrevieja",
          "All/Gastos/Ocio/Futbol",
          "All/Gastos/Gastos Fijos/Electricidad",
          "All/Gastos/Ocio/Restaurantes",
          "All/Gastos/Gastos Fijos/Gas Natural",
          "All/Gastos/Cultura/Teatro",
          "All/Gastos/Ocio/Restaurantes",
          "All/Gastos/Extras/Viajes",
          "All/Gastos/Extras/Viajes",
          "All/Gastos/Ocio/Ropa",
          "All/Gastos/Supervivencia/Dentista",
          "All/Gastos/Extras/Varios",
          "All/Gastos/Supervivencia/Alimentación",
          "All/Gastos/Ocio/Restaurantes",
          "All/Gastos/Gastos Fijos/Publicaciones",
          "All/Gastos/Supervivencia/Alimentación",
          "All/Gastos/Ocio/Restaurantes",
          "All/Gastos/Ocio/Ropa",
          "All/Gastos/Ocio/Restaurantes",
          "All/Gastos/Ocio/Restaurantes",
          "All/Gastos/Extras/Varios",
          "All/Gastos/Gastos Fijos/Televisión",
          "All/Gastos/Extras/Varios",
          "All/Gastos/Supervivencia/Alimentación",
          "All/Gastos/Supervivencia/Alimentación",
          "All/Gastos/Extras/Regalos",
          "All/Gastos/Extras/Cosmética",
          "All/Gastos/Gastos Fijos/Comisiones Bancarias",
          "All/Gastos/Extras/Estudios",
          "All/Gastos/Extras/Casa",
          "All/Gastos/Extras/Electrónica",
          "All/Gastos/Extras/Varios",
          "All/Gastos/Extras/Menaje Hogar",
          "All/Gastos/Supervivencia/Holden",
          "All/Gastos/Supervivencia/Holden",
          "All/Gastos/Gastos Fijos/Clases Inglés",
          "All/Gastos/Ocio/Restaurantes",
          "All/Gastos/Ocio/Restaurantes",
          "All/Gastos/Ocio/Restaurantes",
          "All/Gastos/Ocio/Bares",
          "All/Gastos/Supervivencia/Holden",
          "All/Gastos/Supervivencia/Holden",
          "All/Gastos/Extras/Coche",
          "All/Gastos/Ocio/Ropa",
          "All/Gastos/Extras/Casa",
          "All/Gastos/Ocio/Ropa",
          "All/Gastos/Ocio/Restaurantes",
          "All/Gastos/Extras/Varios",
          "All/Gastos/Ocio/Ropa",
          "All/Gastos/Extras/Regalos",
          "All/Gastos/Extras/Varios",
          "All/Gastos/Ocio/Ropa",
          "All/Gastos/Extras/Casa",
          "All/Gastos/Extras/Menaje Hogar",
          "All/Gastos/Gastos Fijos/Planes de Pensiones",
          "All/Gastos/Ocio/Restaurantes",
          "All/Gastos/Extras/Menaje Hogar",
          "All/Gastos/Ocio/Ropa",
          "All/Gastos/Supervivencia/Alimentación",
          "All/Gastos/Extras/Varios",
          "All/Gastos/Gastos Fijos/Pan",
          "All/Gastos/Ocio/Restaurantes",
          "All/Gastos/Extras/Varios",
          "All/Gastos/Gastos Fijos/Teléfono Móvil",
          "All/Gastos/Gastos Fijos/Adsl",
          "All/Gastos/Extras/Cosmética",
          "All/Gastos/Extras/Estética",
          "All/Gastos/Extras/Peluquería",
          "All/Gastos/Gastos Fijos/Alarma",
          "All/Gastos/Ocio/Restaurantes",
          "All/Gastos/Gastos Fijos/Abono Transportes",
          "All/Gastos/Supervivencia/Transporte",
          "All/Gastos/Ocio/Ropa",
          "All/Gastos/Ocio/Restaurantes",
          "All/Gastos/Ocio/Restaurantes",
          "All/Ingresos/Ingresos/Intereses Bancarios",
          "All/Gastos/Ocio/Restaurantes",
          "All/Gastos/Extras/Butano",
          "All/Gastos/Cultura/Cine",
          "All/Gastos/Extras/Varios",
          "All/Gastos/Extras/Regalos",
          "All/Gastos/Ocio/Futbol",
          "All/Gastos/Ocio/Ropa",
          "All/Gastos/Extras/Coche",
          "All/Gastos/Gastos Fijos/Comisiones Bancarias",
          "All/Gastos/Supervivencia/Transporte",
          "All/Gastos/Ocio/Restaurantes",
          "All/Gastos/Extras/Ajustes",
          "All/Gastos/Supervivencia/Holden",
          "All/Gastos/Gastos Fijos/Limpieza",
          "All/Gastos/Ocio/Restaurantes",
          "All/Gastos/Gastos Fijos/Televisión",
          "All/Gastos/Extras/Varios",
          "All/Gastos/Gastos Fijos/Planes de Pensiones",
          "All/Gastos/Gastos Fijos/Seguro coche",
          "All/Gastos/Gastos Fijos/Seguro Hogar",
          "All/Gastos/Extras/Casa",
          "All/Ingresos/Ingresos/Bonificaciones",
          "All/Gastos/Extras/Óptica",
          "All/Gastos/Gastos Fijos/Televisión",
          "All/Gastos/Extras/Coche",
          "All/Gastos/Extras/Viajes",
          "All/Gastos/Supervivencia/Alimentación",
          "All/Gastos/Ocio/Bares",
          "All/Gastos/Supervivencia/Alimentación",
          "All/Gastos/Extras/Coche",
          "All/Gastos/Ocio/Restaurantes",
          "All/Gastos/Extras/Celebraciones",
          "All/Gastos/Ocio/Ropa",
          "All/Gastos/Ocio/Taxi",
          "All/Gastos/Ocio/Restaurantes",
          "All/Gastos/Extras/Regalos",
          "All/Gastos/Ocio/Parking",
          "All/Gastos/Extras/Varios",
          "All/Gastos/Cultura/Libros",
          "All/Gastos/Supervivencia/Hijos",
          "All/Gastos/Extras/Fiesta Cumpleaños",
          "All/Gastos/Supervivencia/Farmacia",
          "All/Gastos/Extras/Estética",
          "All/Gastos/Extras/Estudios",
          "All/Ingresos/Ingresos/Despacho",
          "All/Gastos/Extras/Menaje Hogar",
          "All/Gastos/Extras/Reparaciones",
          "All/Gastos/Gastos Fijos/Servicios Online",
          "All/Gastos/Extras/Casa",
          "All/Gastos/Extras/Varios",
          "All/Gastos/Ocio/Restaurantes",
          "All/Gastos/Extras/Viajes",
          "All/Gastos/Ocio/Restaurantes",
          "All/Gastos/Ocio/Restaurantes",
          "All/Gastos/Supervivencia/Holden",
          "All/Gastos/Gastos Fijos/Universidad",
          "All/Gastos/Cultura/Museos",
          "All/Gastos/Ocio/Restaurantes",
          "All/Gastos/Extras/Regalos",
          "All/Gastos/Extras/Casa",
          "All/Gastos/Extras/Varios",
          "All/Gastos/Extras/Varios",
          "All/Gastos/Ocio/Restaurantes",
          "All/Gastos/Gastos Fijos/Thermomix",
          "All/Gastos/Gastos Fijos/Publicaciones",
          "All/Gastos/Extras/Gastos Escuela",
          "All/Gastos/Extras/Regalos",
          "All/Gastos/Extras/Regalos",
          "All/Gastos/Ocio/Restaurantes",
          "All/Ingresos/Ingresos/Bono",
          "All/Ingresos/Ingresos/Nómina",
          "All/Gastos/Extras/Casa",
          "All/Gastos/Gastos Fijos/Mantenimiento Caldera",
          "All/Gastos/Gastos Fijos/Alarma",
          "All/Gastos/Extras/Electrónica",
          "All/Gastos/Extras/Viajes",
          "All/Gastos/Extras/Coche",
          "All/Gastos/Extras/Fiesta Cumpleaños",
          "All/Gastos/Ocio/Ropa",
          "All/Gastos/Extras/Varios",
          "All/Gastos/Gastos Fijos/Clases Inglés",
          "All/Gastos/Supervivencia/Alimentación",
          "All/Gastos/Gastos Fijos/Teléfono Móvil",
          "All/Gastos/Extras/Regalos",
          "All/Gastos/Extras/Coche",
          "All/Gastos/Gastos Fijos/Música",
          "All/Gastos/Ocio/Restaurantes",
          "All/Gastos/Extras/Varios",
          "All/Gastos/Supervivencia/Alimentación",
          "All/Gastos/Ocio/Restaurantes",
          "All/Gastos/Cultura/Opera",
          "All/Gastos/Ocio/Ropa",
          "All/Gastos/Extras/Varios",
          "All/Gastos/Gastos Fijos",
          "All/Gastos/Gastos Fijos",
          "All/Gastos/Gastos Fijos",
          "All/Gastos/Extras",
          "All/Gastos/Gastos Fijos",
          "All/Gastos/Supervivencia",
          "All/Gastos/Ocio",
          "All/Ingresos/Ingresos",
          "All/Ingresos/Ingresos",
          "All/Gastos/Extras",
          "All/Gastos/Extras",
          "All/Gastos/Extras",
          "All/Gastos/Extras",
          "All/Gastos/Extras",
          "All/Gastos/Cultura",
          "All/Gastos/Gastos Fijos",
          "All/Gastos/Extras",
          "All/Gastos/Gastos Fijos",
          "All/Gastos/Gastos Fijos",
          "All/Gastos/Cultura",
          "All/Gastos/Extras",
          "All/Gastos/Supervivencia",
          "All/Ingresos/Ingresos",
          "All/Gastos/Extras",
          "All/Gastos/Gastos Fijos",
          "All/Gastos/Extras",
          "All/Gastos/Gastos Fijos",
          "All/Gastos/Extras",
          "All/Gastos/Extras",
          "All/Gastos/Supervivencia",
          "All/Gastos/Extras",
          "All/Gastos/Supervivencia",
          "All/Gastos/Ocio",
          "All/Gastos/Gastos Fijos",
          "All/Gastos/Extras",
          "All/Gastos/Supervivencia",
          "All/Gastos/Supervivencia",
          "All/Gastos/Gastos Fijos",
          "All/Gastos/Gastos Fijos",
          "All/Gastos/Gastos Fijos",
          "All/Ingresos/Ingresos",
          "All/Gastos/Extras",
          "All/Gastos/Cultura",
          "All/Gastos/Gastos Fijos",
          "All/Gastos/Gastos Fijos",
          "All/Gastos/Extras",
          "All/Gastos/Extras",
          "All/Gastos/Extras",
          "All/Gastos/Extras",
          "All/Gastos/Cultura",
          "All/Gastos/Gastos Fijos",
          "All/Ingresos/Ingresos",
          "All/Gastos/Gastos Fijos",
          "All/Ingresos/Ingresos",
          "All/Gastos/Cultura",
          "All/Gastos/Gastos Fijos",
          "All/Gastos/Gastos Fijos",
          "All/Gastos/Ocio",
          "All/Gastos/Extras",
          "All/Gastos/Gastos Fijos",
          "All/Gastos/Gastos Fijos",
          "All/Gastos/Gastos Fijos",
          "All/Gastos/Extras",
          "All/Gastos/Extras",
          "All/Gastos/Ocio",
          "All/Gastos/Ocio",
          "All/Gastos/Gastos Fijos",
          "All/Gastos/Gastos Fijos",
          "All/Gastos/Gastos Fijos",
          "All/Gastos/Ocio",
          "All/Gastos/Extras",
          "All/Gastos/Gastos Fijos",
          "All/Gastos/Gastos Fijos",
          "All/Gastos/Ocio",
          "All/Gastos/Cultura",
          "All/Gastos/Gastos Fijos",
          "All/Gastos/Gastos Fijos",
          "All/Gastos/Gastos Fijos",
          "All/Gastos/Supervivencia",
          "All/Gastos/Gastos Fijos",
          "All/Gastos/Extras",
          "All/Gastos/Extras",
          "All/Gastos/Extras",
          "All/Gastos",
          "All/Gastos",
          "All/Gastos",
          "All/Ingresos",
          "All/Gastos",
          "All/Gastos",
          "All",
          "All",
          ""
         ],
         "type": "treemap",
         "values": [
          28.2,
          237,
          25,
          39,
          13.13,
          133.29,
          4,
          377.52,
          24.99,
          49,
          21.03,
          327.71999999999997,
          165.9,
          1,
          24.97,
          42.849999999999994,
          101.5,
          354,
          55.63,
          55,
          60,
          199,
          90.15,
          18.990000000000002,
          2.35,
          746.8,
          18.91,
          299.93,
          31.979999999999997,
          73.94,
          6.1,
          68.94,
          30.25,
          230.07999999999998,
          8.99,
          336.28999999999996,
          175.51,
          38.7,
          14.95,
          206.45,
          29.590000000000003,
          46,
          369.39,
          14.99,
          485.87,
          53.26,
          360.62,
          29.99,
          46.85,
          59.900000000000006,
          59.4,
          281,
          45,
          17.99,
          541.17,
          10,
          24.99,
          83.98,
          19.94,
          10,
          73,
          42,
          105,
          122.42,
          56,
          9,
          23,
          60,
          16.8,
          2.5,
          10.08,
          142.5,
          142,
          8,
          20.4,
          43.1,
          226.95,
          9.21,
          0.7,
          20,
          30.4,
          387,
          41.5,
          1150,
          20,
          3.63,
          332.74,
          66.93,
          16.2,
          85,
          87.89,
          72.72000000000003,
          0.55,
          217,
          304.11,
          10,
          9.99,
          411.24,
          445.03,
          70.64999999999999,
          65.35,
          94.16,
          13.97,
          53,
          3.97,
          45,
          25.7,
          167.77,
          3190,
          859.72,
          71,
          75,
          95.55,
          111.9,
          123.9,
          1226.21,
          30.799999999999997,
          205.6,
          72,
          827.48,
          100.3,
          22,
          118.31,
          78.8,
          627.45,
          48,
          6.9,
          19.9,
          16.5,
          414.87,
          1094.83,
          414.35,
          258.01,
          43,
          22.99,
          4.6,
          5850.11,
          21,
          284.23,
          76.4,
          264.48,
          4.62,
          15.86,
          744.76,
          40,
          1186.73,
          152.7,
          1417.8,
          124,
          63.2,
          651.7,
          442,
          67.24,
          91,
          8,
          9.35,
          87.3,
          49.85,
          1404.35,
          25.8,
          16.15,
          36.5,
          55,
          9.89,
          44.900000000000006,
          8,
          34.94,
          3.95,
          32,
          6.98,
          75,
          11.12,
          21,
          0,
          15,
          103.5,
          70,
          178,
          620,
          12.5,
          5,
          20.49,
          13.7,
          18.94,
          114.63,
          52,
          9.99,
          10.95,
          55.99,
          25,
          3.75,
          151.87,
          67,
          34.32,
          323.65,
          6,
          1.2,
          1000,
          42.3,
          85.35,
          77.1,
          3,
          5.99,
          214.1,
          4.4,
          84.7,
          307.19,
          601.36,
          39.96,
          51.17999999999999,
          19.33,
          7.93,
          18,
          20,
          338.5,
          8,
          27.35,
          26.6,
          47.02,
          12.5,
          24,
          26,
          6,
          119.55,
          910,
          19.99,
          244.9,
          5.37,
          2.35,
          10,
          220.19000000000003,
          122.65,
          1425,
          85.5,
          179.89999999999998,
          1.89,
          3734.02,
          895.19,
          842.19,
          180,
          8.97,
          618,
          8,
          675,
          476.05,
          18.9,
          13.2,
          44,
          2,
          267.35,
          177,
          69,
          33.8,
          39.8,
          200.07,
          19,
          184.93,
          79.7,
          9,
          25,
          82.75,
          160,
          131.6,
          24255.9,
          40,
          85,
          25.6,
          2,
          11.5,
          4.3,
          1413.8600000000001,
          95,
          8,
          9.98,
          4897.860000000001,
          1.5,
          15.8,
          7,
          138,
          19.990000000000002,
          122.26,
          23.029999999999998,
          48,
          40,
          215.56,
          26.29,
          90,
          45.49,
          4255.01,
          31183,
          352.32,
          130.72,
          574.13,
          66.91,
          290.28000000000003,
          3.05,
          7.68,
          20,
          4.39,
          224,
          71.14,
          37.39,
          14.94,
          826.01,
          9.99,
          17.5,
          5.98,
          150.88,
          138.57999999999998,
          338.4,
          15,
          18.16,
          20,
          677.76,
          258.01,
          220.19000000000003,
          582.06,
          5339.08,
          26.9,
          8.97,
          4255.01,
          24,
          49,
          7337.16,
          769.75,
          177,
          26,
          844,
          2053.38,
          80.37,
          1150,
          281,
          46.94,
          3281,
          24255.9,
          4.62,
          1186.73,
          80.88,
          59.900000000000006,
          320.49,
          266.18,
          156.67000000000002,
          32.68,
          105,
          950,
          1417.8,
          290.56,
          9,
          1398.34,
          332.74,
          86.93,
          2.35,
          47.02,
          369.39,
          206.81,
          1425,
          130.72,
          73.94,
          51.92,
          300.7,
          45,
          1.5,
          9.99,
          31183,
          175.51,
          336.28999999999996,
          338.4,
          1096.72,
          214.1,
          19,
          479.33,
          217,
          4734.02,
          289.85,
          1788.45,
          128.47,
          2613.54,
          1539.69,
          87.89,
          842.19,
          895.19,
          37.699999999999996,
          24.97,
          134.19,
          30.25,
          33.8,
          124,
          301.74,
          628.8100000000001,
          48,
          357.05,
          4897.860000000001,
          1225.97,
          7494.22,
          618,
          977.71,
          24273.19,
          22857.68,
          60086.19,
          5220.63,
          10646.14,
          63975.35,
          60086.19,
          124061.54000000001
         ]
        }
       ],
       "layout": {
        "autosize": true,
        "legend": {
         "tracegroupgap": 0
        },
        "template": {
         "data": {
          "bar": [
           {
            "error_x": {
             "color": "#2a3f5f"
            },
            "error_y": {
             "color": "#2a3f5f"
            },
            "marker": {
             "line": {
              "color": "#E5ECF6",
              "width": 0.5
             },
             "pattern": {
              "fillmode": "overlay",
              "size": 10,
              "solidity": 0.2
             }
            },
            "type": "bar"
           }
          ],
          "barpolar": [
           {
            "marker": {
             "line": {
              "color": "#E5ECF6",
              "width": 0.5
             },
             "pattern": {
              "fillmode": "overlay",
              "size": 10,
              "solidity": 0.2
             }
            },
            "type": "barpolar"
           }
          ],
          "carpet": [
           {
            "aaxis": {
             "endlinecolor": "#2a3f5f",
             "gridcolor": "white",
             "linecolor": "white",
             "minorgridcolor": "white",
             "startlinecolor": "#2a3f5f"
            },
            "baxis": {
             "endlinecolor": "#2a3f5f",
             "gridcolor": "white",
             "linecolor": "white",
             "minorgridcolor": "white",
             "startlinecolor": "#2a3f5f"
            },
            "type": "carpet"
           }
          ],
          "choropleth": [
           {
            "colorbar": {
             "outlinewidth": 0,
             "ticks": ""
            },
            "type": "choropleth"
           }
          ],
          "contour": [
           {
            "colorbar": {
             "outlinewidth": 0,
             "ticks": ""
            },
            "colorscale": [
             [
              0,
              "#0d0887"
             ],
             [
              0.1111111111111111,
              "#46039f"
             ],
             [
              0.2222222222222222,
              "#7201a8"
             ],
             [
              0.3333333333333333,
              "#9c179e"
             ],
             [
              0.4444444444444444,
              "#bd3786"
             ],
             [
              0.5555555555555556,
              "#d8576b"
             ],
             [
              0.6666666666666666,
              "#ed7953"
             ],
             [
              0.7777777777777778,
              "#fb9f3a"
             ],
             [
              0.8888888888888888,
              "#fdca26"
             ],
             [
              1,
              "#f0f921"
             ]
            ],
            "type": "contour"
           }
          ],
          "contourcarpet": [
           {
            "colorbar": {
             "outlinewidth": 0,
             "ticks": ""
            },
            "type": "contourcarpet"
           }
          ],
          "heatmap": [
           {
            "colorbar": {
             "outlinewidth": 0,
             "ticks": ""
            },
            "colorscale": [
             [
              0,
              "#0d0887"
             ],
             [
              0.1111111111111111,
              "#46039f"
             ],
             [
              0.2222222222222222,
              "#7201a8"
             ],
             [
              0.3333333333333333,
              "#9c179e"
             ],
             [
              0.4444444444444444,
              "#bd3786"
             ],
             [
              0.5555555555555556,
              "#d8576b"
             ],
             [
              0.6666666666666666,
              "#ed7953"
             ],
             [
              0.7777777777777778,
              "#fb9f3a"
             ],
             [
              0.8888888888888888,
              "#fdca26"
             ],
             [
              1,
              "#f0f921"
             ]
            ],
            "type": "heatmap"
           }
          ],
          "heatmapgl": [
           {
            "colorbar": {
             "outlinewidth": 0,
             "ticks": ""
            },
            "colorscale": [
             [
              0,
              "#0d0887"
             ],
             [
              0.1111111111111111,
              "#46039f"
             ],
             [
              0.2222222222222222,
              "#7201a8"
             ],
             [
              0.3333333333333333,
              "#9c179e"
             ],
             [
              0.4444444444444444,
              "#bd3786"
             ],
             [
              0.5555555555555556,
              "#d8576b"
             ],
             [
              0.6666666666666666,
              "#ed7953"
             ],
             [
              0.7777777777777778,
              "#fb9f3a"
             ],
             [
              0.8888888888888888,
              "#fdca26"
             ],
             [
              1,
              "#f0f921"
             ]
            ],
            "type": "heatmapgl"
           }
          ],
          "histogram": [
           {
            "marker": {
             "pattern": {
              "fillmode": "overlay",
              "size": 10,
              "solidity": 0.2
             }
            },
            "type": "histogram"
           }
          ],
          "histogram2d": [
           {
            "colorbar": {
             "outlinewidth": 0,
             "ticks": ""
            },
            "colorscale": [
             [
              0,
              "#0d0887"
             ],
             [
              0.1111111111111111,
              "#46039f"
             ],
             [
              0.2222222222222222,
              "#7201a8"
             ],
             [
              0.3333333333333333,
              "#9c179e"
             ],
             [
              0.4444444444444444,
              "#bd3786"
             ],
             [
              0.5555555555555556,
              "#d8576b"
             ],
             [
              0.6666666666666666,
              "#ed7953"
             ],
             [
              0.7777777777777778,
              "#fb9f3a"
             ],
             [
              0.8888888888888888,
              "#fdca26"
             ],
             [
              1,
              "#f0f921"
             ]
            ],
            "type": "histogram2d"
           }
          ],
          "histogram2dcontour": [
           {
            "colorbar": {
             "outlinewidth": 0,
             "ticks": ""
            },
            "colorscale": [
             [
              0,
              "#0d0887"
             ],
             [
              0.1111111111111111,
              "#46039f"
             ],
             [
              0.2222222222222222,
              "#7201a8"
             ],
             [
              0.3333333333333333,
              "#9c179e"
             ],
             [
              0.4444444444444444,
              "#bd3786"
             ],
             [
              0.5555555555555556,
              "#d8576b"
             ],
             [
              0.6666666666666666,
              "#ed7953"
             ],
             [
              0.7777777777777778,
              "#fb9f3a"
             ],
             [
              0.8888888888888888,
              "#fdca26"
             ],
             [
              1,
              "#f0f921"
             ]
            ],
            "type": "histogram2dcontour"
           }
          ],
          "mesh3d": [
           {
            "colorbar": {
             "outlinewidth": 0,
             "ticks": ""
            },
            "type": "mesh3d"
           }
          ],
          "parcoords": [
           {
            "line": {
             "colorbar": {
              "outlinewidth": 0,
              "ticks": ""
             }
            },
            "type": "parcoords"
           }
          ],
          "pie": [
           {
            "automargin": true,
            "type": "pie"
           }
          ],
          "scatter": [
           {
            "fillpattern": {
             "fillmode": "overlay",
             "size": 10,
             "solidity": 0.2
            },
            "type": "scatter"
           }
          ],
          "scatter3d": [
           {
            "line": {
             "colorbar": {
              "outlinewidth": 0,
              "ticks": ""
             }
            },
            "marker": {
             "colorbar": {
              "outlinewidth": 0,
              "ticks": ""
             }
            },
            "type": "scatter3d"
           }
          ],
          "scattercarpet": [
           {
            "marker": {
             "colorbar": {
              "outlinewidth": 0,
              "ticks": ""
             }
            },
            "type": "scattercarpet"
           }
          ],
          "scattergeo": [
           {
            "marker": {
             "colorbar": {
              "outlinewidth": 0,
              "ticks": ""
             }
            },
            "type": "scattergeo"
           }
          ],
          "scattergl": [
           {
            "marker": {
             "colorbar": {
              "outlinewidth": 0,
              "ticks": ""
             }
            },
            "type": "scattergl"
           }
          ],
          "scattermapbox": [
           {
            "marker": {
             "colorbar": {
              "outlinewidth": 0,
              "ticks": ""
             }
            },
            "type": "scattermapbox"
           }
          ],
          "scatterpolar": [
           {
            "marker": {
             "colorbar": {
              "outlinewidth": 0,
              "ticks": ""
             }
            },
            "type": "scatterpolar"
           }
          ],
          "scatterpolargl": [
           {
            "marker": {
             "colorbar": {
              "outlinewidth": 0,
              "ticks": ""
             }
            },
            "type": "scatterpolargl"
           }
          ],
          "scatterternary": [
           {
            "marker": {
             "colorbar": {
              "outlinewidth": 0,
              "ticks": ""
             }
            },
            "type": "scatterternary"
           }
          ],
          "surface": [
           {
            "colorbar": {
             "outlinewidth": 0,
             "ticks": ""
            },
            "colorscale": [
             [
              0,
              "#0d0887"
             ],
             [
              0.1111111111111111,
              "#46039f"
             ],
             [
              0.2222222222222222,
              "#7201a8"
             ],
             [
              0.3333333333333333,
              "#9c179e"
             ],
             [
              0.4444444444444444,
              "#bd3786"
             ],
             [
              0.5555555555555556,
              "#d8576b"
             ],
             [
              0.6666666666666666,
              "#ed7953"
             ],
             [
              0.7777777777777778,
              "#fb9f3a"
             ],
             [
              0.8888888888888888,
              "#fdca26"
             ],
             [
              1,
              "#f0f921"
             ]
            ],
            "type": "surface"
           }
          ],
          "table": [
           {
            "cells": {
             "fill": {
              "color": "#EBF0F8"
             },
             "line": {
              "color": "white"
             }
            },
            "header": {
             "fill": {
              "color": "#C8D4E3"
             },
             "line": {
              "color": "white"
             }
            },
            "type": "table"
           }
          ]
         },
         "layout": {
          "annotationdefaults": {
           "arrowcolor": "#2a3f5f",
           "arrowhead": 0,
           "arrowwidth": 1
          },
          "autotypenumbers": "strict",
          "coloraxis": {
           "colorbar": {
            "outlinewidth": 0,
            "ticks": ""
           }
          },
          "colorscale": {
           "diverging": [
            [
             0,
             "#8e0152"
            ],
            [
             0.1,
             "#c51b7d"
            ],
            [
             0.2,
             "#de77ae"
            ],
            [
             0.3,
             "#f1b6da"
            ],
            [
             0.4,
             "#fde0ef"
            ],
            [
             0.5,
             "#f7f7f7"
            ],
            [
             0.6,
             "#e6f5d0"
            ],
            [
             0.7,
             "#b8e186"
            ],
            [
             0.8,
             "#7fbc41"
            ],
            [
             0.9,
             "#4d9221"
            ],
            [
             1,
             "#276419"
            ]
           ],
           "sequential": [
            [
             0,
             "#0d0887"
            ],
            [
             0.1111111111111111,
             "#46039f"
            ],
            [
             0.2222222222222222,
             "#7201a8"
            ],
            [
             0.3333333333333333,
             "#9c179e"
            ],
            [
             0.4444444444444444,
             "#bd3786"
            ],
            [
             0.5555555555555556,
             "#d8576b"
            ],
            [
             0.6666666666666666,
             "#ed7953"
            ],
            [
             0.7777777777777778,
             "#fb9f3a"
            ],
            [
             0.8888888888888888,
             "#fdca26"
            ],
            [
             1,
             "#f0f921"
            ]
           ],
           "sequentialminus": [
            [
             0,
             "#0d0887"
            ],
            [
             0.1111111111111111,
             "#46039f"
            ],
            [
             0.2222222222222222,
             "#7201a8"
            ],
            [
             0.3333333333333333,
             "#9c179e"
            ],
            [
             0.4444444444444444,
             "#bd3786"
            ],
            [
             0.5555555555555556,
             "#d8576b"
            ],
            [
             0.6666666666666666,
             "#ed7953"
            ],
            [
             0.7777777777777778,
             "#fb9f3a"
            ],
            [
             0.8888888888888888,
             "#fdca26"
            ],
            [
             1,
             "#f0f921"
            ]
           ]
          },
          "colorway": [
           "#636efa",
           "#EF553B",
           "#00cc96",
           "#ab63fa",
           "#FFA15A",
           "#19d3f3",
           "#FF6692",
           "#B6E880",
           "#FF97FF",
           "#FECB52"
          ],
          "font": {
           "color": "#2a3f5f"
          },
          "geo": {
           "bgcolor": "white",
           "lakecolor": "white",
           "landcolor": "#E5ECF6",
           "showlakes": true,
           "showland": true,
           "subunitcolor": "white"
          },
          "hoverlabel": {
           "align": "left"
          },
          "hovermode": "closest",
          "mapbox": {
           "style": "light"
          },
          "paper_bgcolor": "white",
          "plot_bgcolor": "#E5ECF6",
          "polar": {
           "angularaxis": {
            "gridcolor": "white",
            "linecolor": "white",
            "ticks": ""
           },
           "bgcolor": "#E5ECF6",
           "radialaxis": {
            "gridcolor": "white",
            "linecolor": "white",
            "ticks": ""
           }
          },
          "scene": {
           "xaxis": {
            "backgroundcolor": "#E5ECF6",
            "gridcolor": "white",
            "gridwidth": 2,
            "linecolor": "white",
            "showbackground": true,
            "ticks": "",
            "zerolinecolor": "white"
           },
           "yaxis": {
            "backgroundcolor": "#E5ECF6",
            "gridcolor": "white",
            "gridwidth": 2,
            "linecolor": "white",
            "showbackground": true,
            "ticks": "",
            "zerolinecolor": "white"
           },
           "zaxis": {
            "backgroundcolor": "#E5ECF6",
            "gridcolor": "white",
            "gridwidth": 2,
            "linecolor": "white",
            "showbackground": true,
            "ticks": "",
            "zerolinecolor": "white"
           }
          },
          "shapedefaults": {
           "line": {
            "color": "#2a3f5f"
           }
          },
          "ternary": {
           "aaxis": {
            "gridcolor": "white",
            "linecolor": "white",
            "ticks": ""
           },
           "baxis": {
            "gridcolor": "white",
            "linecolor": "white",
            "ticks": ""
           },
           "bgcolor": "#E5ECF6",
           "caxis": {
            "gridcolor": "white",
            "linecolor": "white",
            "ticks": ""
           }
          },
          "title": {
           "x": 0.05
          },
          "xaxis": {
           "automargin": true,
           "gridcolor": "white",
           "linecolor": "white",
           "ticks": "",
           "title": {
            "standoff": 15
           },
           "zerolinecolor": "white",
           "zerolinewidth": 2
          },
          "yaxis": {
           "automargin": true,
           "gridcolor": "white",
           "linecolor": "white",
           "ticks": "",
           "title": {
            "standoff": 15
           },
           "zerolinecolor": "white",
           "zerolinewidth": 2
          }
         }
        },
        "title": {
         "font": {
          "family": "Arial",
          "size": 42
         },
         "text": "Gastos / Ingresos por Categoria"
        }
       }
      },
      "image/png": "[encoded data removed]",
      "text/html": [
       "<div>                            <div id=\"778faa4d-355d-463f-aca0-a426cec0a1df\" class=\"plotly-graph-div\" style=\"height:525px; width:100%;\"></div>            <script type=\"text/javascript\">                require([\"plotly\"], function(Plotly) {                    window.PLOTLYENV=window.PLOTLYENV || {};                                    if (document.getElementById(\"778faa4d-355d-463f-aca0-a426cec0a1df\")) {                    Plotly.newPlot(                        \"778faa4d-355d-463f-aca0-a426cec0a1df\",                        [{\"branchvalues\":\"total\",\"customdata\":[[\"Ocio\"],[\"Gastos Fijos\"],[\"Extras\"],[\"Extras\"],[\"Supervivencia\"],[\"Supervivencia\"],[\"Supervivencia\"],[\"Extras\"],[\"Extras\"],[\"Extras\"],[\"Supervivencia\"],[\"Extras\"],[\"Ocio\"],[\"Gastos Fijos\"],[\"Extras\"],[\"Cultura\"],[\"Ocio\"],[\"Extras\"],[\"Extras\"],[\"Extras\"],[\"Extras\"],[\"Gastos Fijos\"],[\"Ocio\"],[\"Extras\"],[\"Gastos Fijos\"],[\"Supervivencia\"],[\"Cultura\"],[\"Ocio\"],[\"Extras\"],[\"Extras\"],[\"Extras\"],[\"Gastos Fijos\"],[\"Gastos Fijos\"],[\"Supervivencia\"],[\"Extras\"],[\"Ingresos\"],[\"Gastos Fijos\"],[\"Extras\"],[\"Supervivencia\"],[\"Ocio\"],[\"Supervivencia\"],[\"Ocio\"],[\"Extras\"],[\"Ocio\"],[\"Supervivencia\"],[\"Extras\"],[\"Extras\"],[\"Gastos Fijos\"],[\"Ocio\"],[\"Gastos Fijos\"],[\"Gastos Fijos\"],[\"Cultura\"],[\"Ocio\"],[\"Ocio\"],[\"Supervivencia\"],[\"Extras\"],[\"Extras\"],[\"Extras\"],[\"Extras\"],[\"Extras\"],[\"Extras\"],[\"Ocio\"],[\"Supervivencia\"],[\"Extras\"],[\"Extras\"],[\"Extras\"],[\"Extras\"],[\"Extras\"],[\"Supervivencia\"],[\"Supervivencia\"],[\"Supervivencia\"],[\"Supervivencia\"],[\"Ocio\"],[\"Extras\"],[\"Extras\"],[\"Supervivencia\"],[\"Supervivencia\"],[\"Gastos Fijos\"],[\"Extras\"],[\"Ocio\"],[\"Ocio\"],[\"Extras\"],[\"Ocio\"],[\"Gastos Fijos\"],[\"Gastos Fijos\"],[\"Extras\"],[\"Gastos Fijos\"],[\"Gastos Fijos\"],[\"Supervivencia\"],[\"Extras\"],[\"Gastos Fijos\"],[\"Extras\"],[\"Extras\"],[\"Gastos Fijos\"],[\"Supervivencia\"],[\"Extras\"],[\"Gastos Fijos\"],[\"Extras\"],[\"Extras\"],[\"Extras\"],[\"Cultura\"],[\"Supervivencia\"],[\"Extras\"],[\"Extras\"],[\"Extras\"],[\"Extras\"],[\"Ocio\"],[\"Extras\"],[\"Supervivencia\"],[\"Gastos Fijos\"],[\"Ocio\"],[\"Extras\"],[\"Supervivencia\"],[\"Supervivencia\"],[\"Ocio\"],[\"Extras\"],[\"Ocio\"],[\"Ocio\"],[\"Extras\"],[\"Supervivencia\"],[\"Ocio\"],[\"Extras\"],[\"Supervivencia\"],[\"Supervivencia\"],[\"Extras\"],[\"Ocio\"],[\"Ocio\"],[\"Ocio\"],[\"Extras\"],[\"Extras\"],[\"Extras\"],[\"Extras\"],[\"Gastos Fijos\"],[\"Extras\"],[\"Extras\"],[\"Extras\"],[\"Extras\"],[\"Ocio\"],[\"Gastos Fijos\"],[\"Gastos Fijos\"],[\"Supervivencia\"],[\"Extras\"],[\"Extras\"],[\"Extras\"],[\"Ocio\"],[\"Gastos Fijos\"],[\"Ocio\"],[\"Gastos Fijos\"],[\"Cultura\"],[\"Ocio\"],[\"Extras\"],[\"Extras\"],[\"Ocio\"],[\"Supervivencia\"],[\"Extras\"],[\"Supervivencia\"],[\"Ocio\"],[\"Gastos Fijos\"],[\"Supervivencia\"],[\"Ocio\"],[\"Ocio\"],[\"Ocio\"],[\"Ocio\"],[\"Extras\"],[\"Gastos Fijos\"],[\"Extras\"],[\"Supervivencia\"],[\"Supervivencia\"],[\"Extras\"],[\"Extras\"],[\"Gastos Fijos\"],[\"Extras\"],[\"Extras\"],[\"Extras\"],[\"Extras\"],[\"Extras\"],[\"Supervivencia\"],[\"Supervivencia\"],[\"Gastos Fijos\"],[\"Ocio\"],[\"Ocio\"],[\"Ocio\"],[\"Ocio\"],[\"Supervivencia\"],[\"Supervivencia\"],[\"Extras\"],[\"Ocio\"],[\"Extras\"],[\"Ocio\"],[\"Ocio\"],[\"Extras\"],[\"Ocio\"],[\"Extras\"],[\"Extras\"],[\"Ocio\"],[\"Extras\"],[\"Extras\"],[\"Gastos Fijos\"],[\"Ocio\"],[\"Extras\"],[\"Ocio\"],[\"Supervivencia\"],[\"Extras\"],[\"Gastos Fijos\"],[\"Ocio\"],[\"Extras\"],[\"Gastos Fijos\"],[\"Gastos Fijos\"],[\"Extras\"],[\"Extras\"],[\"Extras\"],[\"Gastos Fijos\"],[\"Ocio\"],[\"Gastos Fijos\"],[\"Supervivencia\"],[\"Ocio\"],[\"Ocio\"],[\"Ocio\"],[\"Ingresos\"],[\"Ocio\"],[\"Extras\"],[\"Cultura\"],[\"Extras\"],[\"Extras\"],[\"Ocio\"],[\"Ocio\"],[\"Extras\"],[\"Gastos Fijos\"],[\"Supervivencia\"],[\"Ocio\"],[\"Extras\"],[\"Supervivencia\"],[\"Gastos Fijos\"],[\"Ocio\"],[\"Gastos Fijos\"],[\"Extras\"],[\"Gastos Fijos\"],[\"Gastos Fijos\"],[\"Gastos Fijos\"],[\"Extras\"],[\"Ingresos\"],[\"Extras\"],[\"Gastos Fijos\"],[\"Extras\"],[\"Extras\"],[\"Supervivencia\"],[\"Ocio\"],[\"Supervivencia\"],[\"Extras\"],[\"Ocio\"],[\"Extras\"],[\"Ocio\"],[\"Ocio\"],[\"Ocio\"],[\"Extras\"],[\"Ocio\"],[\"Extras\"],[\"Cultura\"],[\"Supervivencia\"],[\"Extras\"],[\"Supervivencia\"],[\"Extras\"],[\"Extras\"],[\"Ingresos\"],[\"Extras\"],[\"Extras\"],[\"Gastos Fijos\"],[\"Extras\"],[\"Extras\"],[\"Ocio\"],[\"Extras\"],[\"Ocio\"],[\"Ocio\"],[\"Supervivencia\"],[\"Gastos Fijos\"],[\"Cultura\"],[\"Ocio\"],[\"Extras\"],[\"Extras\"],[\"Extras\"],[\"Extras\"],[\"Ocio\"],[\"Gastos Fijos\"],[\"Gastos Fijos\"],[\"Extras\"],[\"Extras\"],[\"Extras\"],[\"Ocio\"],[\"Ingresos\"],[\"Ingresos\"],[\"Extras\"],[\"Gastos Fijos\"],[\"Gastos Fijos\"],[\"Extras\"],[\"Extras\"],[\"Extras\"],[\"Extras\"],[\"Ocio\"],[\"Extras\"],[\"Gastos Fijos\"],[\"Supervivencia\"],[\"Gastos Fijos\"],[\"Extras\"],[\"Extras\"],[\"Gastos Fijos\"],[\"Ocio\"],[\"Extras\"],[\"Supervivencia\"],[\"Ocio\"],[\"Cultura\"],[\"Ocio\"],[\"Extras\"],[\"Gastos Fijos\"],[\"Gastos Fijos\"],[\"Gastos Fijos\"],[\"Extras\"],[\"Gastos Fijos\"],[\"Supervivencia\"],[\"Ocio\"],[\"Ingresos\"],[\"Ingresos\"],[\"Extras\"],[\"Extras\"],[\"Extras\"],[\"Extras\"],[\"Extras\"],[\"Cultura\"],[\"Gastos Fijos\"],[\"Extras\"],[\"Gastos Fijos\"],[\"Gastos Fijos\"],[\"Cultura\"],[\"Extras\"],[\"Supervivencia\"],[\"Ingresos\"],[\"Extras\"],[\"Gastos Fijos\"],[\"Extras\"],[\"Gastos Fijos\"],[\"Extras\"],[\"Extras\"],[\"Supervivencia\"],[\"Extras\"],[\"Supervivencia\"],[\"Ocio\"],[\"Gastos Fijos\"],[\"Extras\"],[\"Supervivencia\"],[\"Supervivencia\"],[\"Gastos Fijos\"],[\"Gastos Fijos\"],[\"Gastos Fijos\"],[\"Ingresos\"],[\"Extras\"],[\"Cultura\"],[\"Gastos Fijos\"],[\"Gastos Fijos\"],[\"Extras\"],[\"Extras\"],[\"Extras\"],[\"Extras\"],[\"Cultura\"],[\"Gastos Fijos\"],[\"Ingresos\"],[\"Gastos Fijos\"],[\"Ingresos\"],[\"Cultura\"],[\"Gastos Fijos\"],[\"Gastos Fijos\"],[\"Ocio\"],[\"Extras\"],[\"Gastos Fijos\"],[\"Gastos Fijos\"],[\"Gastos Fijos\"],[\"Extras\"],[\"Extras\"],[\"Ocio\"],[\"Ocio\"],[\"Gastos Fijos\"],[\"Gastos Fijos\"],[\"Gastos Fijos\"],[\"Ocio\"],[\"Extras\"],[\"Gastos Fijos\"],[\"Gastos Fijos\"],[\"Ocio\"],[\"Cultura\"],[\"Gastos Fijos\"],[\"Gastos Fijos\"],[\"Gastos Fijos\"],[\"Supervivencia\"],[\"Gastos Fijos\"],[\"Extras\"],[\"Extras\"],[\"Extras\"],[\"Cultura\"],[\"Extras\"],[\"Gastos Fijos\"],[\"Ingresos\"],[\"Ocio\"],[\"Supervivencia\"],[\"(?)\"],[\"Ingresos\"],[\"(?)\"]],\"domain\":{\"x\":[0.0,1.0],\"y\":[0.0,1.0]},\"hovertemplate\":\"labels=%{label}<br>AbsoluteImporte=%{value}<br>parent=%{parent}<br>id=%{id}<br>Categoria=%{customdata[0]}<extra></extra>\",\"ids\":[\"All/Gastos/Ocio/Restaurantes/5 DE TIRSO\",\"All/Gastos/Gastos Fijos/Paga/AIMAR\",\"All/Gastos/Extras/Varios/AIMAR\",\"All/Gastos/Extras/Regalos/ALADINIA NETWORKS\",\"All/Gastos/Supervivencia/Alimentaci\\u00f3n/ALCAMPO\",\"All/Gastos/Supervivencia/Alimentaci\\u00f3n/ALDI\",\"All/Gastos/Supervivencia/Alimentaci\\u00f3n/ALIMENTACION BAZAR\",\"All/Gastos/Extras/Casa/AMAZON\",\"All/Gastos/Extras/Casa Torrevieja/AMAZON\",\"All/Gastos/Extras/Carnet de Conducir/DRIVO\",\"All/Gastos/Supervivencia/Alimentaci\\u00f3n/EL CORTE INGL\\u00c9S\",\"All/Gastos/Extras/Regalos/EL CORTE INGL\\u00c9S\",\"All/Gastos/Ocio/Ropa/EL CORTE INGL\\u00c9S\",\"All/Gastos/Gastos Fijos/Publicaciones/EL MUNDO\",\"All/Gastos/Extras/Servicios Online/EL MUNDO\",\"All/Gastos/Cultura/Libros/ESPASA CALPE\",\"All/Gastos/Ocio/Restaurantes/EL RINCON DEL TAPEO\",\"All/Gastos/Extras/Casa/ELECTRO DEPOT\",\"All/Gastos/Extras/Regalos/DOSFARMA\",\"All/Gastos/Extras/Est\\u00e9tica/EST\\u00c9TICA ARROYO CULEBRO\",\"All/Gastos/Extras/Viajes/EXCURSION NIEVE\",\"All/Gastos/Gastos Fijos/Publicaciones/EL PAIS\",\"All/Gastos/Ocio/Restaurantes/DOMINOS PIZZA\",\"All/Gastos/Extras/Varios/DECLATHON\",\"All/Gastos/Gastos Fijos/Impuestos/DIPUTACION CIUDAD REAL\",\"All/Gastos/Supervivencia/Alimentaci\\u00f3n/DIA\",\"All/Gastos/Cultura/Libros/FABULA\",\"All/Gastos/Ocio/Ropa/DECLATHON\",\"All/Gastos/Extras/Regalos/DECLATHON\",\"All/Gastos/Extras/Material Deportivo/DECLATHON\",\"All/Gastos/Extras/Varios/DEALZ\",\"All/Gastos/Gastos Fijos/Televisi\\u00f3n/DAZN\",\"All/Gastos/Gastos Fijos/Supermercados/COSTCO\",\"All/Gastos/Supervivencia/Alimentaci\\u00f3n/COSTCO\",\"All/Gastos/Extras/Material Escolar/CORTE INGLES\",\"All/Ingresos/Ingresos/Olivas/COOPERATIVA SAN BARTOLOME APOSTOL\",\"All/Gastos/Gastos Fijos/Olivas/COOPERATIVA SAN BARTOLOME APOSTOL\",\"All/Gastos/Extras/Varios/DISCAM\",\"All/Gastos/Supervivencia/Farmacia/FARMACIA ALCORCON\",\"All/Gastos/Ocio/Restaurantes/FENG\",\"All/Gastos/Supervivencia/Farmacia/FARMACIA PUERTA DEL SUR\",\"All/Gastos/Ocio/Restaurantes/HAMBURGUESA NOSTRA\",\"All/Gastos/Extras/Irpf/HACIENDA\",\"All/Gastos/Ocio/Ropa/H&M\",\"All/Gastos/Supervivencia/Holden/GUAO&CAT\",\"All/Gastos/Extras/Regalos/GRUPOS MEDIA\",\"All/Gastos/Extras/Viajes/GRANADA\",\"All/Gastos/Gastos Fijos/Servicios Online/GOOGLE\",\"All/Gastos/Ocio/Restaurantes/GLOVO\",\"All/Gastos/Gastos Fijos/Entrega a Domicilio/GLOVO\",\"All/Gastos/Gastos Fijos/Servicios Online/GITKRAKEN\",\"All/Gastos/Cultura/Conciertos/GIGSBERG\",\"All/Gastos/Ocio/Ropa/GENERACI\\u00d3N 40\",\"All/Gastos/Ocio/Ropa/FUENCARRAL 70\",\"All/Gastos/Supervivencia/Alimentaci\\u00f3n/FRUTERIA ALCORCON\",\"All/Gastos/Extras/Varios/FOTOPREDIS\",\"All/Gastos/Extras/Varios/FNAC\",\"All/Gastos/Extras/Regalos/FNAC\",\"All/Gastos/Extras/Material Escolar/FNAC\",\"All/Gastos/Extras/Regalos/FLORISTERIA LEGANES\",\"All/Gastos/Extras/Peluquer\\u00eda/FLAVIA GASTON PELUQUEROS\",\"All/Gastos/Ocio/Restaurantes/FIVE GUYS\",\"All/Gastos/Supervivencia/Fisio/FISIO ALCORCON\",\"All/Gastos/Extras/Coche/FEU VERT\",\"All/Gastos/Extras/Varios/FERRETERIA LEGANORTE\",\"All/Gastos/Extras/Casa/FERRETERIA LEGANORTE\",\"All/Gastos/Extras/Reparaciones/FERRETERIA LAS MURALLAS\",\"All/Gastos/Extras/Regalos/CONVERSE\",\"All/Gastos/Supervivencia/Farmacia/FARMACIA TORREVIEJA\",\"All/Gastos/Supervivencia/Farmacia/FARMACIA REYES\",\"All/Gastos/Supervivencia/Farmacia/FARMACIA LEGANES\",\"All/Gastos/Supervivencia/Alimentaci\\u00f3n/CONSERVERA CASTRE\\u00d1A\",\"All/Gastos/Ocio/Ropa/DAMA DE COPAS\",\"All/Gastos/Extras/Varios/COMUNIDAD MADRID\",\"All/Gastos/Extras/Casa/BRICOMART\",\"All/Gastos/Supervivencia/Alimentaci\\u00f3n/BOFROST \",\"All/Gastos/Supervivencia/Alimentaci\\u00f3n/BOFROST\",\"All/Gastos/Gastos Fijos/Servicios Online/BITWARDEN\",\"All/Gastos/Extras/Varios/BAZAR PLAZA NUEVA\",\"All/Gastos/Ocio/Restaurantes/BAR BERNABEU\",\"All/Gastos/Ocio/Restaurantes/BAR AVENIDA\",\"All/Gastos/Extras/Peluquer\\u00eda/BAMBINA\",\"All/Gastos/Ocio/Restaurantes/BAHIANA CLUB\",\"All/Gastos/Gastos Fijos/Comunidad Propietarios/COMUNIDAD PROPIETARIOS GOYA ZURBARAN\",\"All/Gastos/Gastos Fijos/Impuesto Vehiculos/AYUNTAMIENTO DE MADRID\",\"All/Gastos/Extras/Varios/AYUNTAMIENTO DE LEGANES\",\"All/Gastos/Gastos Fijos/Impuesto Bienes Inmuebles (IBI)/AYUNTAMIENTO DE LEGANES\",\"All/Gastos/Gastos Fijos/Impuesto Vehiculos/AYUNTAMIENTO DE ALCOCON\",\"All/Gastos/Supervivencia/Transporte/AUTOBUSES\",\"All/Gastos/Extras/Coche/AUTO-LAVADO\",\"All/Gastos/Gastos Fijos/Salud/ASISA DENTAL\",\"All/Gastos/Extras/Varios/APPLE\",\"All/Gastos/Extras/Varios/APARCAMIENTO ESTACION SUR\",\"All/Gastos/Gastos Fijos/Plan Salud Veterinario/ANIMAL KINGDOM\",\"All/Gastos/Supervivencia/Holden/ANIMAL KINGDOM\",\"All/Gastos/Extras/Estudios/AMPA IES LOS CASTILLOS\",\"All/Gastos/Gastos Fijos/Servicios Online/AMAZON MUSIC\",\"All/Gastos/Extras/Varios/AMAZON\",\"All/Gastos/Extras/Regalos/AMAZON\",\"All/Gastos/Extras/Menaje Hogar/AMAZON\",\"All/Gastos/Cultura/Libros/AMAZON\",\"All/Gastos/Supervivencia/Holden/AMAZON\",\"All/Gastos/Extras/Electr\\u00f3nica/AMAZON\",\"All/Gastos/Extras/Regalos/BRICOMART\",\"All/Gastos/Extras/Reparaciones/BRICOMART\",\"All/Gastos/Extras/Multas Circulaci\\u00f3n/AYUNTAMIENTO DE MADRID\",\"All/Gastos/Ocio/Restaurantes/BRUTAL BURRITO\",\"All/Gastos/Extras/Estudios/COMUNIDAD MADRID\",\"All/Gastos/Supervivencia/Dentista/CLINICA HERNADENT\",\"All/Gastos/Gastos Fijos/Paga/CLAUDIA\",\"All/Gastos/Ocio/Restaurantes/BRINDIS MIRAFLORES\",\"All/Gastos/Extras/Gastos Escuela/CIRCULO CONSULTOR\",\"All/Gastos/Supervivencia/Alimentaci\\u00f3n/CHURRERIA ALCORCON\",\"All/Gastos/Supervivencia/Alimentaci\\u00f3n/CHINO\",\"All/Gastos/Ocio/Restaurantes/CHANGO\",\"All/Gastos/Extras/Viajes/CASTRO URDIALES\",\"All/Gastos/Ocio/Senderismo/CASA TORERO\",\"All/Gastos/Ocio/Restaurantes/CASA ANGEL\",\"All/Gastos/Extras/Regalos/CARREFOUR\",\"All/Gastos/Supervivencia/Alimentaci\\u00f3n/CARREFOUR\",\"All/Gastos/Ocio/Restaurantes/CARPE DIEM\",\"All/Gastos/Extras/Viajes/CIUDAD REAL\",\"All/Gastos/Supervivencia/Alimentaci\\u00f3n/CARNICERIA ASTURIAS\",\"All/Gastos/Supervivencia/Alimentaci\\u00f3n/CARNICERIA CRISTIAN\",\"All/Gastos/Extras/Viajes/BUDAPEST\",\"All/Gastos/Ocio/Restaurantes/BULEVAR 45\",\"All/Gastos/Ocio/Senderismo/CAFETERIA PARQUE POLVORNCA\",\"All/Gastos/Ocio/Ropa/CALCEDONIA\",\"All/Gastos/Extras/Reparaciones/CALZADOS NACHO\",\"All/Gastos/Extras/Viajes/CADIZ\",\"All/Gastos/Extras/Viajes/CAMINO SANTIAGO FRANCES\",\"All/Gastos/Extras/Viajes/CAMINO SANTIAGO OURENSE\",\"All/Gastos/Gastos Fijos/Agua/CANAL ISABEL II\",\"All/Gastos/Extras/Coche/CAR WASH ALCORCON\",\"All/Gastos/Extras/Material Escolar/CARLIN\",\"All/Gastos/Extras/Varios/CALZADOS NACHO\",\"All/Gastos/Extras/Casa/CARLOS ORTIZ DEL GALLO\",\"All/Gastos/Ocio/Restaurantes/LATERAL CASTELLANA\",\"All/Gastos/Gastos Fijos/Tel\\u00e9fono M\\u00f3vil/LOWI\",\"All/Gastos/Gastos Fijos/Adsl/LOWI\",\"All/Gastos/Supervivencia/Alimentaci\\u00f3n/LIDL\",\"All/Gastos/Extras/Donaciones/LIBREOFFICE\",\"All/Gastos/Extras/Casa/LEROY MERLIN\",\"All/Gastos/Extras/Casa Torrevieja/LEROY MERLIN\",\"All/Gastos/Ocio/Futbol/LEGANES\",\"All/Gastos/Gastos Fijos/Electricidad/LUCERA\",\"All/Gastos/Ocio/Restaurantes/LIBANES\",\"All/Gastos/Gastos Fijos/Gas Natural/LUCERA\",\"All/Gastos/Cultura/Teatro/MARQUITE SL\",\"All/Gastos/Ocio/Restaurantes/MADRID ROOFT\",\"All/Gastos/Extras/Viajes/MALAGA\",\"All/Gastos/Extras/Viajes/MALLORCA\",\"All/Gastos/Ocio/Ropa/MANGO\",\"All/Gastos/Supervivencia/Dentista/MARIA DEL CARMEN BENITO\",\"All/Gastos/Extras/Varios/MARMAR PLAZA NUEVA\",\"All/Gastos/Supervivencia/Alimentaci\\u00f3n/MAS Y MENOS\",\"All/Gastos/Ocio/Restaurantes/MCDONALDS\",\"All/Gastos/Gastos Fijos/Publicaciones/MEDIUM\",\"All/Gastos/Supervivencia/Alimentaci\\u00f3n/MERCADONA\",\"All/Gastos/Ocio/Restaurantes/LA CHOPERA\",\"All/Gastos/Ocio/Ropa/LUSH\",\"All/Gastos/Ocio/Restaurantes/LA CASONA DE LUIS\",\"All/Gastos/Ocio/Restaurantes/KECHUA\",\"All/Gastos/Extras/Varios/KIWOKO\",\"All/Gastos/Gastos Fijos/Televisi\\u00f3n/HBO\",\"All/Gastos/Extras/Varios/HEMA\",\"All/Gastos/Supervivencia/Alimentaci\\u00f3n/HIBER\",\"All/Gastos/Supervivencia/Alimentaci\\u00f3n/HIPER PLUS\",\"All/Gastos/Extras/Regalos/HOTEL RICH\",\"All/Gastos/Extras/Cosm\\u00e9tica/HUGUET\",\"All/Gastos/Gastos Fijos/Comisiones Bancarias/IBERCAJA\",\"All/Gastos/Extras/Estudios/IES LOS CASTILLOS\",\"All/Gastos/Extras/Casa/IKEA\",\"All/Gastos/Extras/Electr\\u00f3nica/IKEA\",\"All/Gastos/Extras/Varios/IKEA\",\"All/Gastos/Extras/Menaje Hogar/IKEA\",\"All/Gastos/Supervivencia/Holden/IVAN GARCIA - ETOLOGO\",\"All/Gastos/Supervivencia/Holden/JADOG\",\"All/Gastos/Gastos Fijos/Clases Ingl\\u00e9s/JOE\",\"All/Gastos/Ocio/Restaurantes/KEBAB HUT\",\"All/Gastos/Ocio/Restaurantes/KEBAB LEGANES\",\"All/Gastos/Ocio/Restaurantes/KFC\",\"All/Gastos/Ocio/Bares/KIOSKO KAURA\",\"All/Gastos/Supervivencia/Holden/KIOSKO KAURA\",\"All/Gastos/Supervivencia/Holden/KIWOKO\",\"All/Gastos/Extras/Coche/ITV ALCORCON\",\"All/Gastos/Ocio/Ropa/KLASSE\",\"All/Gastos/Extras/Casa/VYSUAL MARKETING\",\"All/Gastos/Ocio/Ropa/ZAPSHOP\",\"All/Gastos/Ocio/Restaurantes/YAREY\",\"All/Gastos/Extras/Varios/XURI HAOMAI\",\"All/Gastos/Ocio/Ropa/ZARA\",\"All/Gastos/Extras/Regalos/ZARA\",\"All/Gastos/Extras/Varios/MONTIEL\",\"All/Gastos/Ocio/Ropa/PRIMARK\",\"All/Gastos/Extras/Casa/PRADA A TOPE\",\"All/Gastos/Extras/Menaje Hogar/PLAZA FORTUNA\",\"All/Gastos/Gastos Fijos/Planes de Pensiones/PLAN RENTA FIJA EUROPEA\",\"All/Gastos/Ocio/Restaurantes/PIZZERIA COR&COR\",\"All/Gastos/Extras/Menaje Hogar/PINTURAS VALDERAS\",\"All/Gastos/Ocio/Ropa/MICHAEL KARS\",\"All/Gastos/Supervivencia/Alimentaci\\u00f3n/PASTELERIA\",\"All/Gastos/Extras/Varios/PARFOIS\",\"All/Gastos/Gastos Fijos/Pan/PAN Y MAS\",\"All/Gastos/Ocio/Restaurantes/PAES BAKERY\",\"All/Gastos/Extras/Varios/ORANGE\",\"All/Gastos/Gastos Fijos/Tel\\u00e9fono M\\u00f3vil/ORANGE\",\"All/Gastos/Gastos Fijos/Adsl/ORANGE\",\"All/Gastos/Extras/Cosm\\u00e9tica/PRIMOR\",\"All/Gastos/Extras/Est\\u00e9tica/PRIMOR\",\"All/Gastos/Extras/Peluquer\\u00eda/PRIMOR\",\"All/Gastos/Gastos Fijos/Alarma/PROSEGUR ALARMAS\",\"All/Gastos/Ocio/Restaurantes/MESON O RIO MINO\",\"All/Gastos/Gastos Fijos/Abono Transportes/METRO\",\"All/Gastos/Supervivencia/Transporte/METRO\",\"All/Gastos/Ocio/Ropa/ROJA'S\",\"All/Gastos/Ocio/Restaurantes/RODILLA\",\"All/Gastos/Ocio/Restaurantes/RESTAURANTE RIO MI\\u00d1O\",\"All/Ingresos/Ingresos/Intereses Bancarios/OPENBANK\",\"All/Gastos/Ocio/Restaurantes/RESTAURANTE EL CORTE INGL\\u00c9S\",\"All/Gastos/Extras/Butano/REPSOL\",\"All/Gastos/Cultura/Cine/RENOIR\",\"All/Gastos/Extras/Varios/MIMIUS LOVISS\",\"All/Gastos/Extras/Regalos/REAL MADRID\",\"All/Gastos/Ocio/Futbol/REAL MADRID\",\"All/Gastos/Ocio/Ropa/PULL AND BEAR\",\"All/Gastos/Extras/Coche/REPSOL\",\"All/Gastos/Gastos Fijos/Comisiones Bancarias/OPENBANK\",\"All/Gastos/Supervivencia/Transporte/RENFE\",\"All/Gastos/Ocio/Restaurantes/O PULPI\\u00d1O\",\"All/Gastos/Extras/Ajustes/No Definido\",\"All/Gastos/Supervivencia/Holden/NORIV\",\"All/Gastos/Gastos Fijos/Limpieza/NICO\",\"All/Gastos/Ocio/Restaurantes/NEW YORK BURGER\",\"All/Gastos/Gastos Fijos/Televisi\\u00f3n/NETFLIX\",\"All/Gastos/Extras/Varios/NAMECHEAP\",\"All/Gastos/Gastos Fijos/Planes de Pensiones/MUTUALIDAD ABOGACIA\",\"All/Gastos/Gastos Fijos/Seguro coche/MUTUAL MADRILE\\u00d1A\",\"All/Gastos/Gastos Fijos/Seguro Hogar/MUTUAL MADRILE\\u00d1A\",\"All/Gastos/Extras/Casa/MUTUAL MADRILE\\u00d1A\",\"All/Ingresos/Ingresos/Bonificaciones/OPENBANK\",\"All/Gastos/Extras/\\u00d3ptica/MULTIOPTICAS ALCORCON\",\"All/Gastos/Gastos Fijos/Televisi\\u00f3n/MOVISTAR\",\"All/Gastos/Extras/Coche/MOTOR LOS CASTILLOS\",\"All/Gastos/Extras/Viajes/MONTIEL\",\"All/Gastos/Supervivencia/Alimentaci\\u00f3n/No Definido\",\"All/Gastos/Ocio/Bares/No Definido\",\"All/Gastos/Supervivencia/Alimentaci\\u00f3n/PESCADERIA ALCORCON\",\"All/Gastos/Extras/Coche/No Definido\",\"All/Gastos/Ocio/Restaurantes/No Definido\",\"All/Gastos/Extras/Celebraciones/No Definido\",\"All/Gastos/Ocio/Ropa/No Definido\",\"All/Gastos/Ocio/Taxi/No Definido\",\"All/Gastos/Ocio/Restaurantes/O CASTELLO\",\"All/Gastos/Extras/Regalos/No Definido\",\"All/Gastos/Ocio/Parking/No Definido\",\"All/Gastos/Extras/Varios/No Definido\",\"All/Gastos/Cultura/Libros/No Definido\",\"All/Gastos/Supervivencia/Hijos/No Definido\",\"All/Gastos/Extras/Fiesta Cumplea\\u00f1os/No Definido\",\"All/Gastos/Supervivencia/Farmacia/No Definido\",\"All/Gastos/Extras/Est\\u00e9tica/No Definido\",\"All/Gastos/Extras/Estudios/No Definido\",\"All/Ingresos/Ingresos/Despacho/No Definido\",\"All/Gastos/Extras/Menaje Hogar/No Definido\",\"All/Gastos/Extras/Reparaciones/TRAVIESO BIKE\",\"All/Gastos/Gastos Fijos/Servicios Online/TICKTICK\",\"All/Gastos/Extras/Casa/TIGER\",\"All/Gastos/Extras/Varios/TIGER\",\"All/Gastos/Ocio/Restaurantes/TOPKAPI\",\"All/Gastos/Extras/Viajes/TORREVIEJA\",\"All/Gastos/Ocio/Restaurantes/TOTAL BURRITO\",\"All/Gastos/Ocio/Restaurantes/TRIPLEXY MADRIDX\",\"All/Gastos/Supervivencia/Holden/VERDECORA\",\"All/Gastos/Gastos Fijos/Universidad/UNIVERSIDAD EUROPEA\",\"All/Gastos/Cultura/Museos/UTE MADRID MERCHANDANSING\",\"All/Gastos/Ocio/Restaurantes/VAGALUME\",\"All/Gastos/Extras/Regalos/VANS\",\"All/Gastos/Extras/Casa/VERDECORA\",\"All/Gastos/Extras/Varios/THE PURE WINERY\",\"All/Gastos/Extras/Varios/VERDECORA\",\"All/Gastos/Ocio/Restaurantes/VIPS\",\"All/Gastos/Gastos Fijos/Thermomix/VORWERK\",\"All/Gastos/Gastos Fijos/Publicaciones/UN PERRO EN LA CIUDAD\",\"All/Gastos/Extras/Gastos Escuela/TGSS\",\"All/Gastos/Extras/Regalos/STRADIVARIOUS\",\"All/Gastos/Extras/Regalos/TEATRO REAL\",\"All/Gastos/Ocio/Restaurantes/SANTANDER ABELIAS\",\"All/Ingresos/Ingresos/Bono/SANTANDER TECNOLOGIA\",\"All/Ingresos/Ingresos/N\\u00f3mina/SANTANDER TECNOLOGIA\",\"All/Gastos/Extras/Casa/SATEC\",\"All/Gastos/Gastos Fijos/Mantenimiento Caldera/SATEC\",\"All/Gastos/Gastos Fijos/Alarma/SECURITAS DIRECT\",\"All/Gastos/Extras/Electr\\u00f3nica/SECURITAS DIRECT\",\"All/Gastos/Extras/Viajes/SEGOVIA\",\"All/Gastos/Extras/Coche/SEITT\",\"All/Gastos/Extras/Fiesta Cumplea\\u00f1os/SHEIN.COM\",\"All/Gastos/Ocio/Ropa/SHEIN.COM\",\"All/Gastos/Extras/Varios/SHELL\",\"All/Gastos/Gastos Fijos/Clases Ingl\\u00e9s/SHIRA COHEN\",\"All/Gastos/Supervivencia/Alimentaci\\u00f3n/SIMPLY\",\"All/Gastos/Gastos Fijos/Tel\\u00e9fono M\\u00f3vil/SIMYO\",\"All/Gastos/Extras/Regalos/SKLUM\",\"All/Gastos/Extras/Coche/SOLNER\",\"All/Gastos/Gastos Fijos/M\\u00fasica/SPOTIFY\",\"All/Gastos/Ocio/Restaurantes/STARBUCKS\",\"All/Gastos/Extras/Varios/STYLE FOREVER\",\"All/Gastos/Supervivencia/Alimentaci\\u00f3n/SUPECO\",\"All/Gastos/Ocio/Restaurantes/TACO BELL\",\"All/Gastos/Cultura/Opera/TEATRO REAL\",\"All/Gastos/Ocio/Ropa/TEZENIS\",\"All/Gastos/Extras/Varios/SHEIN.COM\",\"All/Gastos/Gastos Fijos/Abono Transportes\",\"All/Gastos/Gastos Fijos/Adsl\",\"All/Gastos/Gastos Fijos/Agua\",\"All/Gastos/Extras/Ajustes\",\"All/Gastos/Gastos Fijos/Alarma\",\"All/Gastos/Supervivencia/Alimentaci\\u00f3n\",\"All/Gastos/Ocio/Bares\",\"All/Ingresos/Ingresos/Bonificaciones\",\"All/Ingresos/Ingresos/Bono\",\"All/Gastos/Extras/Butano\",\"All/Gastos/Extras/Carnet de Conducir\",\"All/Gastos/Extras/Casa\",\"All/Gastos/Extras/Casa Torrevieja\",\"All/Gastos/Extras/Celebraciones\",\"All/Gastos/Cultura/Cine\",\"All/Gastos/Gastos Fijos/Clases Ingl\\u00e9s\",\"All/Gastos/Extras/Coche\",\"All/Gastos/Gastos Fijos/Comisiones Bancarias\",\"All/Gastos/Gastos Fijos/Comunidad Propietarios\",\"All/Gastos/Cultura/Conciertos\",\"All/Gastos/Extras/Cosm\\u00e9tica\",\"All/Gastos/Supervivencia/Dentista\",\"All/Ingresos/Ingresos/Despacho\",\"All/Gastos/Extras/Donaciones\",\"All/Gastos/Gastos Fijos/Electricidad\",\"All/Gastos/Extras/Electr\\u00f3nica\",\"All/Gastos/Gastos Fijos/Entrega a Domicilio\",\"All/Gastos/Extras/Estudios\",\"All/Gastos/Extras/Est\\u00e9tica\",\"All/Gastos/Supervivencia/Farmacia\",\"All/Gastos/Extras/Fiesta Cumplea\\u00f1os\",\"All/Gastos/Supervivencia/Fisio\",\"All/Gastos/Ocio/Futbol\",\"All/Gastos/Gastos Fijos/Gas Natural\",\"All/Gastos/Extras/Gastos Escuela\",\"All/Gastos/Supervivencia/Hijos\",\"All/Gastos/Supervivencia/Holden\",\"All/Gastos/Gastos Fijos/Impuesto Bienes Inmuebles (IBI)\",\"All/Gastos/Gastos Fijos/Impuesto Vehiculos\",\"All/Gastos/Gastos Fijos/Impuestos\",\"All/Ingresos/Ingresos/Intereses Bancarios\",\"All/Gastos/Extras/Irpf\",\"All/Gastos/Cultura/Libros\",\"All/Gastos/Gastos Fijos/Limpieza\",\"All/Gastos/Gastos Fijos/Mantenimiento Caldera\",\"All/Gastos/Extras/Material Deportivo\",\"All/Gastos/Extras/Material Escolar\",\"All/Gastos/Extras/Menaje Hogar\",\"All/Gastos/Extras/Multas Circulaci\\u00f3n\",\"All/Gastos/Cultura/Museos\",\"All/Gastos/Gastos Fijos/M\\u00fasica\",\"All/Ingresos/Ingresos/N\\u00f3mina\",\"All/Gastos/Gastos Fijos/Olivas\",\"All/Ingresos/Ingresos/Olivas\",\"All/Gastos/Cultura/Opera\",\"All/Gastos/Gastos Fijos/Paga\",\"All/Gastos/Gastos Fijos/Pan\",\"All/Gastos/Ocio/Parking\",\"All/Gastos/Extras/Peluquer\\u00eda\",\"All/Gastos/Gastos Fijos/Plan Salud Veterinario\",\"All/Gastos/Gastos Fijos/Planes de Pensiones\",\"All/Gastos/Gastos Fijos/Publicaciones\",\"All/Gastos/Extras/Regalos\",\"All/Gastos/Extras/Reparaciones\",\"All/Gastos/Ocio/Restaurantes\",\"All/Gastos/Ocio/Ropa\",\"All/Gastos/Gastos Fijos/Salud\",\"All/Gastos/Gastos Fijos/Seguro Hogar\",\"All/Gastos/Gastos Fijos/Seguro coche\",\"All/Gastos/Ocio/Senderismo\",\"All/Gastos/Extras/Servicios Online\",\"All/Gastos/Gastos Fijos/Servicios Online\",\"All/Gastos/Gastos Fijos/Supermercados\",\"All/Gastos/Ocio/Taxi\",\"All/Gastos/Cultura/Teatro\",\"All/Gastos/Gastos Fijos/Televisi\\u00f3n\",\"All/Gastos/Gastos Fijos/Tel\\u00e9fono M\\u00f3vil\",\"All/Gastos/Gastos Fijos/Thermomix\",\"All/Gastos/Supervivencia/Transporte\",\"All/Gastos/Gastos Fijos/Universidad\",\"All/Gastos/Extras/Varios\",\"All/Gastos/Extras/Viajes\",\"All/Gastos/Extras/\\u00d3ptica\",\"All/Gastos/Cultura\",\"All/Gastos/Extras\",\"All/Gastos/Gastos Fijos\",\"All/Ingresos/Ingresos\",\"All/Gastos/Ocio\",\"All/Gastos/Supervivencia\",\"All/Gastos\",\"All/Ingresos\",\"All\"],\"labels\":[\"5 DE TIRSO\",\"AIMAR\",\"AIMAR\",\"ALADINIA NETWORKS\",\"ALCAMPO\",\"ALDI\",\"ALIMENTACION BAZAR\",\"AMAZON\",\"AMAZON\",\"DRIVO\",\"EL CORTE INGL\\u00c9S\",\"EL CORTE INGL\\u00c9S\",\"EL CORTE INGL\\u00c9S\",\"EL MUNDO\",\"EL MUNDO\",\"ESPASA CALPE\",\"EL RINCON DEL TAPEO\",\"ELECTRO DEPOT\",\"DOSFARMA\",\"EST\\u00c9TICA ARROYO CULEBRO\",\"EXCURSION NIEVE\",\"EL PAIS\",\"DOMINOS PIZZA\",\"DECLATHON\",\"DIPUTACION CIUDAD REAL\",\"DIA\",\"FABULA\",\"DECLATHON\",\"DECLATHON\",\"DECLATHON\",\"DEALZ\",\"DAZN\",\"COSTCO\",\"COSTCO\",\"CORTE INGLES\",\"COOPERATIVA SAN BARTOLOME APOSTOL\",\"COOPERATIVA SAN BARTOLOME APOSTOL\",\"DISCAM\",\"FARMACIA ALCORCON\",\"FENG\",\"FARMACIA PUERTA DEL SUR\",\"HAMBURGUESA NOSTRA\",\"HACIENDA\",\"H&M\",\"GUAO&CAT\",\"GRUPOS MEDIA\",\"GRANADA\",\"GOOGLE\",\"GLOVO\",\"GLOVO\",\"GITKRAKEN\",\"GIGSBERG\",\"GENERACI\\u00d3N 40\",\"FUENCARRAL 70\",\"FRUTERIA ALCORCON\",\"FOTOPREDIS\",\"FNAC\",\"FNAC\",\"FNAC\",\"FLORISTERIA LEGANES\",\"FLAVIA GASTON PELUQUEROS\",\"FIVE GUYS\",\"FISIO ALCORCON\",\"FEU VERT\",\"FERRETERIA LEGANORTE\",\"FERRETERIA LEGANORTE\",\"FERRETERIA LAS MURALLAS\",\"CONVERSE\",\"FARMACIA TORREVIEJA\",\"FARMACIA REYES\",\"FARMACIA LEGANES\",\"CONSERVERA CASTRE\\u00d1A\",\"DAMA DE COPAS\",\"COMUNIDAD MADRID\",\"BRICOMART\",\"BOFROST \",\"BOFROST\",\"BITWARDEN\",\"BAZAR PLAZA NUEVA\",\"BAR BERNABEU\",\"BAR AVENIDA\",\"BAMBINA\",\"BAHIANA CLUB\",\"COMUNIDAD PROPIETARIOS GOYA ZURBARAN\",\"AYUNTAMIENTO DE MADRID\",\"AYUNTAMIENTO DE LEGANES\",\"AYUNTAMIENTO DE LEGANES\",\"AYUNTAMIENTO DE ALCOCON\",\"AUTOBUSES\",\"AUTO-LAVADO\",\"ASISA DENTAL\",\"APPLE\",\"APARCAMIENTO ESTACION SUR\",\"ANIMAL KINGDOM\",\"ANIMAL KINGDOM\",\"AMPA IES LOS CASTILLOS\",\"AMAZON MUSIC\",\"AMAZON\",\"AMAZON\",\"AMAZON\",\"AMAZON\",\"AMAZON\",\"AMAZON\",\"BRICOMART\",\"BRICOMART\",\"AYUNTAMIENTO DE MADRID\",\"BRUTAL BURRITO\",\"COMUNIDAD MADRID\",\"CLINICA HERNADENT\",\"CLAUDIA\",\"BRINDIS MIRAFLORES\",\"CIRCULO CONSULTOR\",\"CHURRERIA ALCORCON\",\"CHINO\",\"CHANGO\",\"CASTRO URDIALES\",\"CASA TORERO\",\"CASA ANGEL\",\"CARREFOUR\",\"CARREFOUR\",\"CARPE DIEM\",\"CIUDAD REAL\",\"CARNICERIA ASTURIAS\",\"CARNICERIA CRISTIAN\",\"BUDAPEST\",\"BULEVAR 45\",\"CAFETERIA PARQUE POLVORNCA\",\"CALCEDONIA\",\"CALZADOS NACHO\",\"CADIZ\",\"CAMINO SANTIAGO FRANCES\",\"CAMINO SANTIAGO OURENSE\",\"CANAL ISABEL II\",\"CAR WASH ALCORCON\",\"CARLIN\",\"CALZADOS NACHO\",\"CARLOS ORTIZ DEL GALLO\",\"LATERAL CASTELLANA\",\"LOWI\",\"LOWI\",\"LIDL\",\"LIBREOFFICE\",\"LEROY MERLIN\",\"LEROY MERLIN\",\"LEGANES\",\"LUCERA\",\"LIBANES\",\"LUCERA\",\"MARQUITE SL\",\"MADRID ROOFT\",\"MALAGA\",\"MALLORCA\",\"MANGO\",\"MARIA DEL CARMEN BENITO\",\"MARMAR PLAZA NUEVA\",\"MAS Y MENOS\",\"MCDONALDS\",\"MEDIUM\",\"MERCADONA\",\"LA CHOPERA\",\"LUSH\",\"LA CASONA DE LUIS\",\"KECHUA\",\"KIWOKO\",\"HBO\",\"HEMA\",\"HIBER\",\"HIPER PLUS\",\"HOTEL RICH\",\"HUGUET\",\"IBERCAJA\",\"IES LOS CASTILLOS\",\"IKEA\",\"IKEA\",\"IKEA\",\"IKEA\",\"IVAN GARCIA - ETOLOGO\",\"JADOG\",\"JOE\",\"KEBAB HUT\",\"KEBAB LEGANES\",\"KFC\",\"KIOSKO KAURA\",\"KIOSKO KAURA\",\"KIWOKO\",\"ITV ALCORCON\",\"KLASSE\",\"VYSUAL MARKETING\",\"ZAPSHOP\",\"YAREY\",\"XURI HAOMAI\",\"ZARA\",\"ZARA\",\"MONTIEL\",\"PRIMARK\",\"PRADA A TOPE\",\"PLAZA FORTUNA\",\"PLAN RENTA FIJA EUROPEA\",\"PIZZERIA COR&COR\",\"PINTURAS VALDERAS\",\"MICHAEL KARS\",\"PASTELERIA\",\"PARFOIS\",\"PAN Y MAS\",\"PAES BAKERY\",\"ORANGE\",\"ORANGE\",\"ORANGE\",\"PRIMOR\",\"PRIMOR\",\"PRIMOR\",\"PROSEGUR ALARMAS\",\"MESON O RIO MINO\",\"METRO\",\"METRO\",\"ROJA'S\",\"RODILLA\",\"RESTAURANTE RIO MI\\u00d1O\",\"OPENBANK\",\"RESTAURANTE EL CORTE INGL\\u00c9S\",\"REPSOL\",\"RENOIR\",\"MIMIUS LOVISS\",\"REAL MADRID\",\"REAL MADRID\",\"PULL AND BEAR\",\"REPSOL\",\"OPENBANK\",\"RENFE\",\"O PULPI\\u00d1O\",\"No Definido\",\"NORIV\",\"NICO\",\"NEW YORK BURGER\",\"NETFLIX\",\"NAMECHEAP\",\"MUTUALIDAD ABOGACIA\",\"MUTUAL MADRILE\\u00d1A\",\"MUTUAL MADRILE\\u00d1A\",\"MUTUAL MADRILE\\u00d1A\",\"OPENBANK\",\"MULTIOPTICAS ALCORCON\",\"MOVISTAR\",\"MOTOR LOS CASTILLOS\",\"MONTIEL\",\"No Definido\",\"No Definido\",\"PESCADERIA ALCORCON\",\"No Definido\",\"No Definido\",\"No Definido\",\"No Definido\",\"No Definido\",\"O CASTELLO\",\"No Definido\",\"No Definido\",\"No Definido\",\"No Definido\",\"No Definido\",\"No Definido\",\"No Definido\",\"No Definido\",\"No Definido\",\"No Definido\",\"No Definido\",\"TRAVIESO BIKE\",\"TICKTICK\",\"TIGER\",\"TIGER\",\"TOPKAPI\",\"TORREVIEJA\",\"TOTAL BURRITO\",\"TRIPLEXY MADRIDX\",\"VERDECORA\",\"UNIVERSIDAD EUROPEA\",\"UTE MADRID MERCHANDANSING\",\"VAGALUME\",\"VANS\",\"VERDECORA\",\"THE PURE WINERY\",\"VERDECORA\",\"VIPS\",\"VORWERK\",\"UN PERRO EN LA CIUDAD\",\"TGSS\",\"STRADIVARIOUS\",\"TEATRO REAL\",\"SANTANDER ABELIAS\",\"SANTANDER TECNOLOGIA\",\"SANTANDER TECNOLOGIA\",\"SATEC\",\"SATEC\",\"SECURITAS DIRECT\",\"SECURITAS DIRECT\",\"SEGOVIA\",\"SEITT\",\"SHEIN.COM\",\"SHEIN.COM\",\"SHELL\",\"SHIRA COHEN\",\"SIMPLY\",\"SIMYO\",\"SKLUM\",\"SOLNER\",\"SPOTIFY\",\"STARBUCKS\",\"STYLE FOREVER\",\"SUPECO\",\"TACO BELL\",\"TEATRO REAL\",\"TEZENIS\",\"SHEIN.COM\",\"Abono Transportes\",\"Adsl\",\"Agua\",\"Ajustes\",\"Alarma\",\"Alimentaci\\u00f3n\",\"Bares\",\"Bonificaciones\",\"Bono\",\"Butano\",\"Carnet de Conducir\",\"Casa\",\"Casa Torrevieja\",\"Celebraciones\",\"Cine\",\"Clases Ingl\\u00e9s\",\"Coche\",\"Comisiones Bancarias\",\"Comunidad Propietarios\",\"Conciertos\",\"Cosm\\u00e9tica\",\"Dentista\",\"Despacho\",\"Donaciones\",\"Electricidad\",\"Electr\\u00f3nica\",\"Entrega a Domicilio\",\"Estudios\",\"Est\\u00e9tica\",\"Farmacia\",\"Fiesta Cumplea\\u00f1os\",\"Fisio\",\"Futbol\",\"Gas Natural\",\"Gastos Escuela\",\"Hijos\",\"Holden\",\"Impuesto Bienes Inmuebles (IBI)\",\"Impuesto Vehiculos\",\"Impuestos\",\"Intereses Bancarios\",\"Irpf\",\"Libros\",\"Limpieza\",\"Mantenimiento Caldera\",\"Material Deportivo\",\"Material Escolar\",\"Menaje Hogar\",\"Multas Circulaci\\u00f3n\",\"Museos\",\"M\\u00fasica\",\"N\\u00f3mina\",\"Olivas\",\"Olivas\",\"Opera\",\"Paga\",\"Pan\",\"Parking\",\"Peluquer\\u00eda\",\"Plan Salud Veterinario\",\"Planes de Pensiones\",\"Publicaciones\",\"Regalos\",\"Reparaciones\",\"Restaurantes\",\"Ropa\",\"Salud\",\"Seguro Hogar\",\"Seguro coche\",\"Senderismo\",\"Servicios Online\",\"Servicios Online\",\"Supermercados\",\"Taxi\",\"Teatro\",\"Televisi\\u00f3n\",\"Tel\\u00e9fono M\\u00f3vil\",\"Thermomix\",\"Transporte\",\"Universidad\",\"Varios\",\"Viajes\",\"\\u00d3ptica\",\"Cultura\",\"Extras\",\"Gastos Fijos\",\"Ingresos\",\"Ocio\",\"Supervivencia\",\"Gastos\",\"Ingresos\",\"All\"],\"marker\":{\"colors\":[\"#636efa\",\"#EF553B\",\"#00cc96\",\"#00cc96\",\"#ab63fa\",\"#ab63fa\",\"#ab63fa\",\"#00cc96\",\"#00cc96\",\"#00cc96\",\"#ab63fa\",\"#00cc96\",\"#636efa\",\"#EF553B\",\"#00cc96\",\"#FFA15A\",\"#636efa\",\"#00cc96\",\"#00cc96\",\"#00cc96\",\"#00cc96\",\"#EF553B\",\"#636efa\",\"#00cc96\",\"#EF553B\",\"#ab63fa\",\"#FFA15A\",\"#636efa\",\"#00cc96\",\"#00cc96\",\"#00cc96\",\"#EF553B\",\"#EF553B\",\"#ab63fa\",\"#00cc96\",\"#19d3f3\",\"#EF553B\",\"#00cc96\",\"#ab63fa\",\"#636efa\",\"#ab63fa\",\"#636efa\",\"#00cc96\",\"#636efa\",\"#ab63fa\",\"#00cc96\",\"#00cc96\",\"#EF553B\",\"#636efa\",\"#EF553B\",\"#EF553B\",\"#FFA15A\",\"#636efa\",\"#636efa\",\"#ab63fa\",\"#00cc96\",\"#00cc96\",\"#00cc96\",\"#00cc96\",\"#00cc96\",\"#00cc96\",\"#636efa\",\"#ab63fa\",\"#00cc96\",\"#00cc96\",\"#00cc96\",\"#00cc96\",\"#00cc96\",\"#ab63fa\",\"#ab63fa\",\"#ab63fa\",\"#ab63fa\",\"#636efa\",\"#00cc96\",\"#00cc96\",\"#ab63fa\",\"#ab63fa\",\"#EF553B\",\"#00cc96\",\"#636efa\",\"#636efa\",\"#00cc96\",\"#636efa\",\"#EF553B\",\"#EF553B\",\"#00cc96\",\"#EF553B\",\"#EF553B\",\"#ab63fa\",\"#00cc96\",\"#EF553B\",\"#00cc96\",\"#00cc96\",\"#EF553B\",\"#ab63fa\",\"#00cc96\",\"#EF553B\",\"#00cc96\",\"#00cc96\",\"#00cc96\",\"#FFA15A\",\"#ab63fa\",\"#00cc96\",\"#00cc96\",\"#00cc96\",\"#00cc96\",\"#636efa\",\"#00cc96\",\"#ab63fa\",\"#EF553B\",\"#636efa\",\"#00cc96\",\"#ab63fa\",\"#ab63fa\",\"#636efa\",\"#00cc96\",\"#636efa\",\"#636efa\",\"#00cc96\",\"#ab63fa\",\"#636efa\",\"#00cc96\",\"#ab63fa\",\"#ab63fa\",\"#00cc96\",\"#636efa\",\"#636efa\",\"#636efa\",\"#00cc96\",\"#00cc96\",\"#00cc96\",\"#00cc96\",\"#EF553B\",\"#00cc96\",\"#00cc96\",\"#00cc96\",\"#00cc96\",\"#636efa\",\"#EF553B\",\"#EF553B\",\"#ab63fa\",\"#00cc96\",\"#00cc96\",\"#00cc96\",\"#636efa\",\"#EF553B\",\"#636efa\",\"#EF553B\",\"#FFA15A\",\"#636efa\",\"#00cc96\",\"#00cc96\",\"#636efa\",\"#ab63fa\",\"#00cc96\",\"#ab63fa\",\"#636efa\",\"#EF553B\",\"#ab63fa\",\"#636efa\",\"#636efa\",\"#636efa\",\"#636efa\",\"#00cc96\",\"#EF553B\",\"#00cc96\",\"#ab63fa\",\"#ab63fa\",\"#00cc96\",\"#00cc96\",\"#EF553B\",\"#00cc96\",\"#00cc96\",\"#00cc96\",\"#00cc96\",\"#00cc96\",\"#ab63fa\",\"#ab63fa\",\"#EF553B\",\"#636efa\",\"#636efa\",\"#636efa\",\"#636efa\",\"#ab63fa\",\"#ab63fa\",\"#00cc96\",\"#636efa\",\"#00cc96\",\"#636efa\",\"#636efa\",\"#00cc96\",\"#636efa\",\"#00cc96\",\"#00cc96\",\"#636efa\",\"#00cc96\",\"#00cc96\",\"#EF553B\",\"#636efa\",\"#00cc96\",\"#636efa\",\"#ab63fa\",\"#00cc96\",\"#EF553B\",\"#636efa\",\"#00cc96\",\"#EF553B\",\"#EF553B\",\"#00cc96\",\"#00cc96\",\"#00cc96\",\"#EF553B\",\"#636efa\",\"#EF553B\",\"#ab63fa\",\"#636efa\",\"#636efa\",\"#636efa\",\"#19d3f3\",\"#636efa\",\"#00cc96\",\"#FFA15A\",\"#00cc96\",\"#00cc96\",\"#636efa\",\"#636efa\",\"#00cc96\",\"#EF553B\",\"#ab63fa\",\"#636efa\",\"#00cc96\",\"#ab63fa\",\"#EF553B\",\"#636efa\",\"#EF553B\",\"#00cc96\",\"#EF553B\",\"#EF553B\",\"#EF553B\",\"#00cc96\",\"#19d3f3\",\"#00cc96\",\"#EF553B\",\"#00cc96\",\"#00cc96\",\"#ab63fa\",\"#636efa\",\"#ab63fa\",\"#00cc96\",\"#636efa\",\"#00cc96\",\"#636efa\",\"#636efa\",\"#636efa\",\"#00cc96\",\"#636efa\",\"#00cc96\",\"#FFA15A\",\"#ab63fa\",\"#00cc96\",\"#ab63fa\",\"#00cc96\",\"#00cc96\",\"#19d3f3\",\"#00cc96\",\"#00cc96\",\"#EF553B\",\"#00cc96\",\"#00cc96\",\"#636efa\",\"#00cc96\",\"#636efa\",\"#636efa\",\"#ab63fa\",\"#EF553B\",\"#FFA15A\",\"#636efa\",\"#00cc96\",\"#00cc96\",\"#00cc96\",\"#00cc96\",\"#636efa\",\"#EF553B\",\"#EF553B\",\"#00cc96\",\"#00cc96\",\"#00cc96\",\"#636efa\",\"#19d3f3\",\"#19d3f3\",\"#00cc96\",\"#EF553B\",\"#EF553B\",\"#00cc96\",\"#00cc96\",\"#00cc96\",\"#00cc96\",\"#636efa\",\"#00cc96\",\"#EF553B\",\"#ab63fa\",\"#EF553B\",\"#00cc96\",\"#00cc96\",\"#EF553B\",\"#636efa\",\"#00cc96\",\"#ab63fa\",\"#636efa\",\"#FFA15A\",\"#636efa\",\"#00cc96\",\"#EF553B\",\"#EF553B\",\"#EF553B\",\"#00cc96\",\"#EF553B\",\"#ab63fa\",\"#636efa\",\"#19d3f3\",\"#19d3f3\",\"#00cc96\",\"#00cc96\",\"#00cc96\",\"#00cc96\",\"#00cc96\",\"#FFA15A\",\"#EF553B\",\"#00cc96\",\"#EF553B\",\"#EF553B\",\"#FFA15A\",\"#00cc96\",\"#ab63fa\",\"#19d3f3\",\"#00cc96\",\"#EF553B\",\"#00cc96\",\"#EF553B\",\"#00cc96\",\"#00cc96\",\"#ab63fa\",\"#00cc96\",\"#ab63fa\",\"#636efa\",\"#EF553B\",\"#00cc96\",\"#ab63fa\",\"#ab63fa\",\"#EF553B\",\"#EF553B\",\"#EF553B\",\"#19d3f3\",\"#00cc96\",\"#FFA15A\",\"#EF553B\",\"#EF553B\",\"#00cc96\",\"#00cc96\",\"#00cc96\",\"#00cc96\",\"#FFA15A\",\"#EF553B\",\"#19d3f3\",\"#EF553B\",\"#19d3f3\",\"#FFA15A\",\"#EF553B\",\"#EF553B\",\"#636efa\",\"#00cc96\",\"#EF553B\",\"#EF553B\",\"#EF553B\",\"#00cc96\",\"#00cc96\",\"#636efa\",\"#636efa\",\"#EF553B\",\"#EF553B\",\"#EF553B\",\"#636efa\",\"#00cc96\",\"#EF553B\",\"#EF553B\",\"#636efa\",\"#FFA15A\",\"#EF553B\",\"#EF553B\",\"#EF553B\",\"#ab63fa\",\"#EF553B\",\"#00cc96\",\"#00cc96\",\"#00cc96\",\"#FFA15A\",\"#00cc96\",\"#EF553B\",\"#19d3f3\",\"#636efa\",\"#ab63fa\",\"#FF6692\",\"#19d3f3\",\"#FF6692\"]},\"name\":\"\",\"parents\":[\"All/Gastos/Ocio/Restaurantes\",\"All/Gastos/Gastos Fijos/Paga\",\"All/Gastos/Extras/Varios\",\"All/Gastos/Extras/Regalos\",\"All/Gastos/Supervivencia/Alimentaci\\u00f3n\",\"All/Gastos/Supervivencia/Alimentaci\\u00f3n\",\"All/Gastos/Supervivencia/Alimentaci\\u00f3n\",\"All/Gastos/Extras/Casa\",\"All/Gastos/Extras/Casa Torrevieja\",\"All/Gastos/Extras/Carnet de Conducir\",\"All/Gastos/Supervivencia/Alimentaci\\u00f3n\",\"All/Gastos/Extras/Regalos\",\"All/Gastos/Ocio/Ropa\",\"All/Gastos/Gastos Fijos/Publicaciones\",\"All/Gastos/Extras/Servicios Online\",\"All/Gastos/Cultura/Libros\",\"All/Gastos/Ocio/Restaurantes\",\"All/Gastos/Extras/Casa\",\"All/Gastos/Extras/Regalos\",\"All/Gastos/Extras/Est\\u00e9tica\",\"All/Gastos/Extras/Viajes\",\"All/Gastos/Gastos Fijos/Publicaciones\",\"All/Gastos/Ocio/Restaurantes\",\"All/Gastos/Extras/Varios\",\"All/Gastos/Gastos Fijos/Impuestos\",\"All/Gastos/Supervivencia/Alimentaci\\u00f3n\",\"All/Gastos/Cultura/Libros\",\"All/Gastos/Ocio/Ropa\",\"All/Gastos/Extras/Regalos\",\"All/Gastos/Extras/Material Deportivo\",\"All/Gastos/Extras/Varios\",\"All/Gastos/Gastos Fijos/Televisi\\u00f3n\",\"All/Gastos/Gastos Fijos/Supermercados\",\"All/Gastos/Supervivencia/Alimentaci\\u00f3n\",\"All/Gastos/Extras/Material Escolar\",\"All/Ingresos/Ingresos/Olivas\",\"All/Gastos/Gastos Fijos/Olivas\",\"All/Gastos/Extras/Varios\",\"All/Gastos/Supervivencia/Farmacia\",\"All/Gastos/Ocio/Restaurantes\",\"All/Gastos/Supervivencia/Farmacia\",\"All/Gastos/Ocio/Restaurantes\",\"All/Gastos/Extras/Irpf\",\"All/Gastos/Ocio/Ropa\",\"All/Gastos/Supervivencia/Holden\",\"All/Gastos/Extras/Regalos\",\"All/Gastos/Extras/Viajes\",\"All/Gastos/Gastos Fijos/Servicios Online\",\"All/Gastos/Ocio/Restaurantes\",\"All/Gastos/Gastos Fijos/Entrega a Domicilio\",\"All/Gastos/Gastos Fijos/Servicios Online\",\"All/Gastos/Cultura/Conciertos\",\"All/Gastos/Ocio/Ropa\",\"All/Gastos/Ocio/Ropa\",\"All/Gastos/Supervivencia/Alimentaci\\u00f3n\",\"All/Gastos/Extras/Varios\",\"All/Gastos/Extras/Varios\",\"All/Gastos/Extras/Regalos\",\"All/Gastos/Extras/Material Escolar\",\"All/Gastos/Extras/Regalos\",\"All/Gastos/Extras/Peluquer\\u00eda\",\"All/Gastos/Ocio/Restaurantes\",\"All/Gastos/Supervivencia/Fisio\",\"All/Gastos/Extras/Coche\",\"All/Gastos/Extras/Varios\",\"All/Gastos/Extras/Casa\",\"All/Gastos/Extras/Reparaciones\",\"All/Gastos/Extras/Regalos\",\"All/Gastos/Supervivencia/Farmacia\",\"All/Gastos/Supervivencia/Farmacia\",\"All/Gastos/Supervivencia/Farmacia\",\"All/Gastos/Supervivencia/Alimentaci\\u00f3n\",\"All/Gastos/Ocio/Ropa\",\"All/Gastos/Extras/Varios\",\"All/Gastos/Extras/Casa\",\"All/Gastos/Supervivencia/Alimentaci\\u00f3n\",\"All/Gastos/Supervivencia/Alimentaci\\u00f3n\",\"All/Gastos/Gastos Fijos/Servicios Online\",\"All/Gastos/Extras/Varios\",\"All/Gastos/Ocio/Restaurantes\",\"All/Gastos/Ocio/Restaurantes\",\"All/Gastos/Extras/Peluquer\\u00eda\",\"All/Gastos/Ocio/Restaurantes\",\"All/Gastos/Gastos Fijos/Comunidad Propietarios\",\"All/Gastos/Gastos Fijos/Impuesto Vehiculos\",\"All/Gastos/Extras/Varios\",\"All/Gastos/Gastos Fijos/Impuesto Bienes Inmuebles (IBI)\",\"All/Gastos/Gastos Fijos/Impuesto Vehiculos\",\"All/Gastos/Supervivencia/Transporte\",\"All/Gastos/Extras/Coche\",\"All/Gastos/Gastos Fijos/Salud\",\"All/Gastos/Extras/Varios\",\"All/Gastos/Extras/Varios\",\"All/Gastos/Gastos Fijos/Plan Salud Veterinario\",\"All/Gastos/Supervivencia/Holden\",\"All/Gastos/Extras/Estudios\",\"All/Gastos/Gastos Fijos/Servicios Online\",\"All/Gastos/Extras/Varios\",\"All/Gastos/Extras/Regalos\",\"All/Gastos/Extras/Menaje Hogar\",\"All/Gastos/Cultura/Libros\",\"All/Gastos/Supervivencia/Holden\",\"All/Gastos/Extras/Electr\\u00f3nica\",\"All/Gastos/Extras/Regalos\",\"All/Gastos/Extras/Reparaciones\",\"All/Gastos/Extras/Multas Circulaci\\u00f3n\",\"All/Gastos/Ocio/Restaurantes\",\"All/Gastos/Extras/Estudios\",\"All/Gastos/Supervivencia/Dentista\",\"All/Gastos/Gastos Fijos/Paga\",\"All/Gastos/Ocio/Restaurantes\",\"All/Gastos/Extras/Gastos Escuela\",\"All/Gastos/Supervivencia/Alimentaci\\u00f3n\",\"All/Gastos/Supervivencia/Alimentaci\\u00f3n\",\"All/Gastos/Ocio/Restaurantes\",\"All/Gastos/Extras/Viajes\",\"All/Gastos/Ocio/Senderismo\",\"All/Gastos/Ocio/Restaurantes\",\"All/Gastos/Extras/Regalos\",\"All/Gastos/Supervivencia/Alimentaci\\u00f3n\",\"All/Gastos/Ocio/Restaurantes\",\"All/Gastos/Extras/Viajes\",\"All/Gastos/Supervivencia/Alimentaci\\u00f3n\",\"All/Gastos/Supervivencia/Alimentaci\\u00f3n\",\"All/Gastos/Extras/Viajes\",\"All/Gastos/Ocio/Restaurantes\",\"All/Gastos/Ocio/Senderismo\",\"All/Gastos/Ocio/Ropa\",\"All/Gastos/Extras/Reparaciones\",\"All/Gastos/Extras/Viajes\",\"All/Gastos/Extras/Viajes\",\"All/Gastos/Extras/Viajes\",\"All/Gastos/Gastos Fijos/Agua\",\"All/Gastos/Extras/Coche\",\"All/Gastos/Extras/Material Escolar\",\"All/Gastos/Extras/Varios\",\"All/Gastos/Extras/Casa\",\"All/Gastos/Ocio/Restaurantes\",\"All/Gastos/Gastos Fijos/Tel\\u00e9fono M\\u00f3vil\",\"All/Gastos/Gastos Fijos/Adsl\",\"All/Gastos/Supervivencia/Alimentaci\\u00f3n\",\"All/Gastos/Extras/Donaciones\",\"All/Gastos/Extras/Casa\",\"All/Gastos/Extras/Casa Torrevieja\",\"All/Gastos/Ocio/Futbol\",\"All/Gastos/Gastos Fijos/Electricidad\",\"All/Gastos/Ocio/Restaurantes\",\"All/Gastos/Gastos Fijos/Gas Natural\",\"All/Gastos/Cultura/Teatro\",\"All/Gastos/Ocio/Restaurantes\",\"All/Gastos/Extras/Viajes\",\"All/Gastos/Extras/Viajes\",\"All/Gastos/Ocio/Ropa\",\"All/Gastos/Supervivencia/Dentista\",\"All/Gastos/Extras/Varios\",\"All/Gastos/Supervivencia/Alimentaci\\u00f3n\",\"All/Gastos/Ocio/Restaurantes\",\"All/Gastos/Gastos Fijos/Publicaciones\",\"All/Gastos/Supervivencia/Alimentaci\\u00f3n\",\"All/Gastos/Ocio/Restaurantes\",\"All/Gastos/Ocio/Ropa\",\"All/Gastos/Ocio/Restaurantes\",\"All/Gastos/Ocio/Restaurantes\",\"All/Gastos/Extras/Varios\",\"All/Gastos/Gastos Fijos/Televisi\\u00f3n\",\"All/Gastos/Extras/Varios\",\"All/Gastos/Supervivencia/Alimentaci\\u00f3n\",\"All/Gastos/Supervivencia/Alimentaci\\u00f3n\",\"All/Gastos/Extras/Regalos\",\"All/Gastos/Extras/Cosm\\u00e9tica\",\"All/Gastos/Gastos Fijos/Comisiones Bancarias\",\"All/Gastos/Extras/Estudios\",\"All/Gastos/Extras/Casa\",\"All/Gastos/Extras/Electr\\u00f3nica\",\"All/Gastos/Extras/Varios\",\"All/Gastos/Extras/Menaje Hogar\",\"All/Gastos/Supervivencia/Holden\",\"All/Gastos/Supervivencia/Holden\",\"All/Gastos/Gastos Fijos/Clases Ingl\\u00e9s\",\"All/Gastos/Ocio/Restaurantes\",\"All/Gastos/Ocio/Restaurantes\",\"All/Gastos/Ocio/Restaurantes\",\"All/Gastos/Ocio/Bares\",\"All/Gastos/Supervivencia/Holden\",\"All/Gastos/Supervivencia/Holden\",\"All/Gastos/Extras/Coche\",\"All/Gastos/Ocio/Ropa\",\"All/Gastos/Extras/Casa\",\"All/Gastos/Ocio/Ropa\",\"All/Gastos/Ocio/Restaurantes\",\"All/Gastos/Extras/Varios\",\"All/Gastos/Ocio/Ropa\",\"All/Gastos/Extras/Regalos\",\"All/Gastos/Extras/Varios\",\"All/Gastos/Ocio/Ropa\",\"All/Gastos/Extras/Casa\",\"All/Gastos/Extras/Menaje Hogar\",\"All/Gastos/Gastos Fijos/Planes de Pensiones\",\"All/Gastos/Ocio/Restaurantes\",\"All/Gastos/Extras/Menaje Hogar\",\"All/Gastos/Ocio/Ropa\",\"All/Gastos/Supervivencia/Alimentaci\\u00f3n\",\"All/Gastos/Extras/Varios\",\"All/Gastos/Gastos Fijos/Pan\",\"All/Gastos/Ocio/Restaurantes\",\"All/Gastos/Extras/Varios\",\"All/Gastos/Gastos Fijos/Tel\\u00e9fono M\\u00f3vil\",\"All/Gastos/Gastos Fijos/Adsl\",\"All/Gastos/Extras/Cosm\\u00e9tica\",\"All/Gastos/Extras/Est\\u00e9tica\",\"All/Gastos/Extras/Peluquer\\u00eda\",\"All/Gastos/Gastos Fijos/Alarma\",\"All/Gastos/Ocio/Restaurantes\",\"All/Gastos/Gastos Fijos/Abono Transportes\",\"All/Gastos/Supervivencia/Transporte\",\"All/Gastos/Ocio/Ropa\",\"All/Gastos/Ocio/Restaurantes\",\"All/Gastos/Ocio/Restaurantes\",\"All/Ingresos/Ingresos/Intereses Bancarios\",\"All/Gastos/Ocio/Restaurantes\",\"All/Gastos/Extras/Butano\",\"All/Gastos/Cultura/Cine\",\"All/Gastos/Extras/Varios\",\"All/Gastos/Extras/Regalos\",\"All/Gastos/Ocio/Futbol\",\"All/Gastos/Ocio/Ropa\",\"All/Gastos/Extras/Coche\",\"All/Gastos/Gastos Fijos/Comisiones Bancarias\",\"All/Gastos/Supervivencia/Transporte\",\"All/Gastos/Ocio/Restaurantes\",\"All/Gastos/Extras/Ajustes\",\"All/Gastos/Supervivencia/Holden\",\"All/Gastos/Gastos Fijos/Limpieza\",\"All/Gastos/Ocio/Restaurantes\",\"All/Gastos/Gastos Fijos/Televisi\\u00f3n\",\"All/Gastos/Extras/Varios\",\"All/Gastos/Gastos Fijos/Planes de Pensiones\",\"All/Gastos/Gastos Fijos/Seguro coche\",\"All/Gastos/Gastos Fijos/Seguro Hogar\",\"All/Gastos/Extras/Casa\",\"All/Ingresos/Ingresos/Bonificaciones\",\"All/Gastos/Extras/\\u00d3ptica\",\"All/Gastos/Gastos Fijos/Televisi\\u00f3n\",\"All/Gastos/Extras/Coche\",\"All/Gastos/Extras/Viajes\",\"All/Gastos/Supervivencia/Alimentaci\\u00f3n\",\"All/Gastos/Ocio/Bares\",\"All/Gastos/Supervivencia/Alimentaci\\u00f3n\",\"All/Gastos/Extras/Coche\",\"All/Gastos/Ocio/Restaurantes\",\"All/Gastos/Extras/Celebraciones\",\"All/Gastos/Ocio/Ropa\",\"All/Gastos/Ocio/Taxi\",\"All/Gastos/Ocio/Restaurantes\",\"All/Gastos/Extras/Regalos\",\"All/Gastos/Ocio/Parking\",\"All/Gastos/Extras/Varios\",\"All/Gastos/Cultura/Libros\",\"All/Gastos/Supervivencia/Hijos\",\"All/Gastos/Extras/Fiesta Cumplea\\u00f1os\",\"All/Gastos/Supervivencia/Farmacia\",\"All/Gastos/Extras/Est\\u00e9tica\",\"All/Gastos/Extras/Estudios\",\"All/Ingresos/Ingresos/Despacho\",\"All/Gastos/Extras/Menaje Hogar\",\"All/Gastos/Extras/Reparaciones\",\"All/Gastos/Gastos Fijos/Servicios Online\",\"All/Gastos/Extras/Casa\",\"All/Gastos/Extras/Varios\",\"All/Gastos/Ocio/Restaurantes\",\"All/Gastos/Extras/Viajes\",\"All/Gastos/Ocio/Restaurantes\",\"All/Gastos/Ocio/Restaurantes\",\"All/Gastos/Supervivencia/Holden\",\"All/Gastos/Gastos Fijos/Universidad\",\"All/Gastos/Cultura/Museos\",\"All/Gastos/Ocio/Restaurantes\",\"All/Gastos/Extras/Regalos\",\"All/Gastos/Extras/Casa\",\"All/Gastos/Extras/Varios\",\"All/Gastos/Extras/Varios\",\"All/Gastos/Ocio/Restaurantes\",\"All/Gastos/Gastos Fijos/Thermomix\",\"All/Gastos/Gastos Fijos/Publicaciones\",\"All/Gastos/Extras/Gastos Escuela\",\"All/Gastos/Extras/Regalos\",\"All/Gastos/Extras/Regalos\",\"All/Gastos/Ocio/Restaurantes\",\"All/Ingresos/Ingresos/Bono\",\"All/Ingresos/Ingresos/N\\u00f3mina\",\"All/Gastos/Extras/Casa\",\"All/Gastos/Gastos Fijos/Mantenimiento Caldera\",\"All/Gastos/Gastos Fijos/Alarma\",\"All/Gastos/Extras/Electr\\u00f3nica\",\"All/Gastos/Extras/Viajes\",\"All/Gastos/Extras/Coche\",\"All/Gastos/Extras/Fiesta Cumplea\\u00f1os\",\"All/Gastos/Ocio/Ropa\",\"All/Gastos/Extras/Varios\",\"All/Gastos/Gastos Fijos/Clases Ingl\\u00e9s\",\"All/Gastos/Supervivencia/Alimentaci\\u00f3n\",\"All/Gastos/Gastos Fijos/Tel\\u00e9fono M\\u00f3vil\",\"All/Gastos/Extras/Regalos\",\"All/Gastos/Extras/Coche\",\"All/Gastos/Gastos Fijos/M\\u00fasica\",\"All/Gastos/Ocio/Restaurantes\",\"All/Gastos/Extras/Varios\",\"All/Gastos/Supervivencia/Alimentaci\\u00f3n\",\"All/Gastos/Ocio/Restaurantes\",\"All/Gastos/Cultura/Opera\",\"All/Gastos/Ocio/Ropa\",\"All/Gastos/Extras/Varios\",\"All/Gastos/Gastos Fijos\",\"All/Gastos/Gastos Fijos\",\"All/Gastos/Gastos Fijos\",\"All/Gastos/Extras\",\"All/Gastos/Gastos Fijos\",\"All/Gastos/Supervivencia\",\"All/Gastos/Ocio\",\"All/Ingresos/Ingresos\",\"All/Ingresos/Ingresos\",\"All/Gastos/Extras\",\"All/Gastos/Extras\",\"All/Gastos/Extras\",\"All/Gastos/Extras\",\"All/Gastos/Extras\",\"All/Gastos/Cultura\",\"All/Gastos/Gastos Fijos\",\"All/Gastos/Extras\",\"All/Gastos/Gastos Fijos\",\"All/Gastos/Gastos Fijos\",\"All/Gastos/Cultura\",\"All/Gastos/Extras\",\"All/Gastos/Supervivencia\",\"All/Ingresos/Ingresos\",\"All/Gastos/Extras\",\"All/Gastos/Gastos Fijos\",\"All/Gastos/Extras\",\"All/Gastos/Gastos Fijos\",\"All/Gastos/Extras\",\"All/Gastos/Extras\",\"All/Gastos/Supervivencia\",\"All/Gastos/Extras\",\"All/Gastos/Supervivencia\",\"All/Gastos/Ocio\",\"All/Gastos/Gastos Fijos\",\"All/Gastos/Extras\",\"All/Gastos/Supervivencia\",\"All/Gastos/Supervivencia\",\"All/Gastos/Gastos Fijos\",\"All/Gastos/Gastos Fijos\",\"All/Gastos/Gastos Fijos\",\"All/Ingresos/Ingresos\",\"All/Gastos/Extras\",\"All/Gastos/Cultura\",\"All/Gastos/Gastos Fijos\",\"All/Gastos/Gastos Fijos\",\"All/Gastos/Extras\",\"All/Gastos/Extras\",\"All/Gastos/Extras\",\"All/Gastos/Extras\",\"All/Gastos/Cultura\",\"All/Gastos/Gastos Fijos\",\"All/Ingresos/Ingresos\",\"All/Gastos/Gastos Fijos\",\"All/Ingresos/Ingresos\",\"All/Gastos/Cultura\",\"All/Gastos/Gastos Fijos\",\"All/Gastos/Gastos Fijos\",\"All/Gastos/Ocio\",\"All/Gastos/Extras\",\"All/Gastos/Gastos Fijos\",\"All/Gastos/Gastos Fijos\",\"All/Gastos/Gastos Fijos\",\"All/Gastos/Extras\",\"All/Gastos/Extras\",\"All/Gastos/Ocio\",\"All/Gastos/Ocio\",\"All/Gastos/Gastos Fijos\",\"All/Gastos/Gastos Fijos\",\"All/Gastos/Gastos Fijos\",\"All/Gastos/Ocio\",\"All/Gastos/Extras\",\"All/Gastos/Gastos Fijos\",\"All/Gastos/Gastos Fijos\",\"All/Gastos/Ocio\",\"All/Gastos/Cultura\",\"All/Gastos/Gastos Fijos\",\"All/Gastos/Gastos Fijos\",\"All/Gastos/Gastos Fijos\",\"All/Gastos/Supervivencia\",\"All/Gastos/Gastos Fijos\",\"All/Gastos/Extras\",\"All/Gastos/Extras\",\"All/Gastos/Extras\",\"All/Gastos\",\"All/Gastos\",\"All/Gastos\",\"All/Ingresos\",\"All/Gastos\",\"All/Gastos\",\"All\",\"All\",\"\"],\"values\":[28.2,237.0,25.0,39.0,13.13,133.29,4.0,377.52,24.99,49.0,21.03,327.71999999999997,165.9,1.0,24.97,42.849999999999994,101.5,354.0,55.63,55.0,60.0,199.0,90.15,18.990000000000002,2.35,746.8,18.91,299.93,31.979999999999997,73.94,6.1,68.94,30.25,230.07999999999998,8.99,336.28999999999996,175.51,38.7,14.95,206.45,29.590000000000003,46.0,369.39,14.99,485.87,53.26,360.62,29.99,46.85,59.900000000000006,59.4,281.0,45.0,17.99,541.17,10.0,24.99,83.98,19.94,10.0,73.0,42.0,105.0,122.42,56.0,9.0,23.0,60.0,16.8,2.5,10.08,142.5,142.0,8.0,20.4,43.1,226.95,9.21,0.7,20.0,30.4,387.0,41.5,1150.0,20.0,3.63,332.74,66.93,16.2,85.0,87.89,72.72000000000003,0.55,217.0,304.11,10.0,9.99,411.24,445.03,70.64999999999999,65.35,94.16,13.97,53.0,3.97,45.0,25.7,167.77,3190.0,859.72,71.0,75.0,95.55,111.9,123.9,1226.21,30.799999999999997,205.6,72.0,827.48,100.3,22.0,118.31,78.8,627.45,48.0,6.9,19.9,16.5,414.87,1094.83,414.35,258.01,43.0,22.99,4.6,5850.11,21.0,284.23,76.4,264.48,4.62,15.86,744.76,40.0,1186.73,152.7,1417.8,124.0,63.2,651.7,442.0,67.24,91.0,8.0,9.35,87.3,49.85,1404.35,25.8,16.15,36.5,55.0,9.89,44.900000000000006,8.0,34.94,3.95,32.0,6.98,75.0,11.12,21.0,0.0,15.0,103.5,70.0,178.0,620.0,12.5,5.0,20.49,13.7,18.94,114.63,52.0,9.99,10.95,55.99,25.0,3.75,151.87,67.0,34.32,323.65,6.0,1.2,1000.0,42.3,85.35,77.1,3.0,5.99,214.1,4.4,84.7,307.19,601.36,39.96,51.17999999999999,19.33,7.93,18.0,20.0,338.5,8.0,27.35,26.6,47.02,12.5,24.0,26.0,6.0,119.55,910.0,19.99,244.9,5.37,2.35,10.0,220.19000000000003,122.65,1425.0,85.5,179.89999999999998,1.89,3734.02,895.19,842.19,180.0,8.97,618.0,8.0,675.0,476.05,18.9,13.2,44.0,2.0,267.35,177.0,69.0,33.8,39.8,200.07,19.0,184.93,79.7,9.0,25.0,82.75,160.0,131.6,24255.9,40.0,85.0,25.6,2.0,11.5,4.3,1413.8600000000001,95.0,8.0,9.98,4897.860000000001,1.5,15.8,7.0,138.0,19.990000000000002,122.26,23.029999999999998,48.0,40.0,215.56,26.29,90.0,45.49,4255.01,31183.0,352.32,130.72,574.13,66.91,290.28000000000003,3.05,7.68,20.0,4.39,224.0,71.14,37.39,14.94,826.01,9.99,17.5,5.98,150.88,138.57999999999998,338.4,15.0,18.16,20.0,677.76,258.01,220.19000000000003,582.06,5339.08,26.9,8.97,4255.01,24.0,49.0,7337.16,769.75,177.0,26.0,844.0,2053.38,80.37,1150.0,281.0,46.94,3281.0,24255.9,4.62,1186.73,80.88,59.900000000000006,320.49,266.18,156.67000000000002,32.68,105.0,950.0,1417.8,290.56,9.0,1398.34,332.74,86.93,2.35,47.02,369.39,206.81,1425.0,130.72,73.94,51.92,300.7,45.0,1.5,9.99,31183.0,175.51,336.28999999999996,338.4,1096.72,214.1,19.0,479.33,217.0,4734.02,289.85,1788.45,128.47,2613.54,1539.69,87.89,842.19,895.19,37.699999999999996,24.97,134.19,30.25,33.8,124.0,301.74,628.8100000000001,48.0,357.05,4897.860000000001,1225.97,7494.22,618.0,977.71,24273.19,22857.68,60086.19,5220.63,10646.14,63975.35,60086.19,124061.54000000001],\"type\":\"treemap\"}],                        {\"template\":{\"data\":{\"histogram2dcontour\":[{\"type\":\"histogram2dcontour\",\"colorbar\":{\"outlinewidth\":0,\"ticks\":\"\"},\"colorscale\":[[0.0,\"#0d0887\"],[0.1111111111111111,\"#46039f\"],[0.2222222222222222,\"#7201a8\"],[0.3333333333333333,\"#9c179e\"],[0.4444444444444444,\"#bd3786\"],[0.5555555555555556,\"#d8576b\"],[0.6666666666666666,\"#ed7953\"],[0.7777777777777778,\"#fb9f3a\"],[0.8888888888888888,\"#fdca26\"],[1.0,\"#f0f921\"]]}],\"choropleth\":[{\"type\":\"choropleth\",\"colorbar\":{\"outlinewidth\":0,\"ticks\":\"\"}}],\"histogram2d\":[{\"type\":\"histogram2d\",\"colorbar\":{\"outlinewidth\":0,\"ticks\":\"\"},\"colorscale\":[[0.0,\"#0d0887\"],[0.1111111111111111,\"#46039f\"],[0.2222222222222222,\"#7201a8\"],[0.3333333333333333,\"#9c179e\"],[0.4444444444444444,\"#bd3786\"],[0.5555555555555556,\"#d8576b\"],[0.6666666666666666,\"#ed7953\"],[0.7777777777777778,\"#fb9f3a\"],[0.8888888888888888,\"#fdca26\"],[1.0,\"#f0f921\"]]}],\"heatmap\":[{\"type\":\"heatmap\",\"colorbar\":{\"outlinewidth\":0,\"ticks\":\"\"},\"colorscale\":[[0.0,\"#0d0887\"],[0.1111111111111111,\"#46039f\"],[0.2222222222222222,\"#7201a8\"],[0.3333333333333333,\"#9c179e\"],[0.4444444444444444,\"#bd3786\"],[0.5555555555555556,\"#d8576b\"],[0.6666666666666666,\"#ed7953\"],[0.7777777777777778,\"#fb9f3a\"],[0.8888888888888888,\"#fdca26\"],[1.0,\"#f0f921\"]]}],\"heatmapgl\":[{\"type\":\"heatmapgl\",\"colorbar\":{\"outlinewidth\":0,\"ticks\":\"\"},\"colorscale\":[[0.0,\"#0d0887\"],[0.1111111111111111,\"#46039f\"],[0.2222222222222222,\"#7201a8\"],[0.3333333333333333,\"#9c179e\"],[0.4444444444444444,\"#bd3786\"],[0.5555555555555556,\"#d8576b\"],[0.6666666666666666,\"#ed7953\"],[0.7777777777777778,\"#fb9f3a\"],[0.8888888888888888,\"#fdca26\"],[1.0,\"#f0f921\"]]}],\"contourcarpet\":[{\"type\":\"contourcarpet\",\"colorbar\":{\"outlinewidth\":0,\"ticks\":\"\"}}],\"contour\":[{\"type\":\"contour\",\"colorbar\":{\"outlinewidth\":0,\"ticks\":\"\"},\"colorscale\":[[0.0,\"#0d0887\"],[0.1111111111111111,\"#46039f\"],[0.2222222222222222,\"#7201a8\"],[0.3333333333333333,\"#9c179e\"],[0.4444444444444444,\"#bd3786\"],[0.5555555555555556,\"#d8576b\"],[0.6666666666666666,\"#ed7953\"],[0.7777777777777778,\"#fb9f3a\"],[0.8888888888888888,\"#fdca26\"],[1.0,\"#f0f921\"]]}],\"surface\":[{\"type\":\"surface\",\"colorbar\":{\"outlinewidth\":0,\"ticks\":\"\"},\"colorscale\":[[0.0,\"#0d0887\"],[0.1111111111111111,\"#46039f\"],[0.2222222222222222,\"#7201a8\"],[0.3333333333333333,\"#9c179e\"],[0.4444444444444444,\"#bd3786\"],[0.5555555555555556,\"#d8576b\"],[0.6666666666666666,\"#ed7953\"],[0.7777777777777778,\"#fb9f3a\"],[0.8888888888888888,\"#fdca26\"],[1.0,\"#f0f921\"]]}],\"mesh3d\":[{\"type\":\"mesh3d\",\"colorbar\":{\"outlinewidth\":0,\"ticks\":\"\"}}],\"scatter\":[{\"fillpattern\":{\"fillmode\":\"overlay\",\"size\":10,\"solidity\":0.2},\"type\":\"scatter\"}],\"parcoords\":[{\"type\":\"parcoords\",\"line\":{\"colorbar\":{\"outlinewidth\":0,\"ticks\":\"\"}}}],\"scatterpolargl\":[{\"type\":\"scatterpolargl\",\"marker\":{\"colorbar\":{\"outlinewidth\":0,\"ticks\":\"\"}}}],\"bar\":[{\"error_x\":{\"color\":\"#2a3f5f\"},\"error_y\":{\"color\":\"#2a3f5f\"},\"marker\":{\"line\":{\"color\":\"#E5ECF6\",\"width\":0.5},\"pattern\":{\"fillmode\":\"overlay\",\"size\":10,\"solidity\":0.2}},\"type\":\"bar\"}],\"scattergeo\":[{\"type\":\"scattergeo\",\"marker\":{\"colorbar\":{\"outlinewidth\":0,\"ticks\":\"\"}}}],\"scatterpolar\":[{\"type\":\"scatterpolar\",\"marker\":{\"colorbar\":{\"outlinewidth\":0,\"ticks\":\"\"}}}],\"histogram\":[{\"marker\":{\"pattern\":{\"fillmode\":\"overlay\",\"size\":10,\"solidity\":0.2}},\"type\":\"histogram\"}],\"scattergl\":[{\"type\":\"scattergl\",\"marker\":{\"colorbar\":{\"outlinewidth\":0,\"ticks\":\"\"}}}],\"scatter3d\":[{\"type\":\"scatter3d\",\"line\":{\"colorbar\":{\"outlinewidth\":0,\"ticks\":\"\"}},\"marker\":{\"colorbar\":{\"outlinewidth\":0,\"ticks\":\"\"}}}],\"scattermapbox\":[{\"type\":\"scattermapbox\",\"marker\":{\"colorbar\":{\"outlinewidth\":0,\"ticks\":\"\"}}}],\"scatterternary\":[{\"type\":\"scatterternary\",\"marker\":{\"colorbar\":{\"outlinewidth\":0,\"ticks\":\"\"}}}],\"scattercarpet\":[{\"type\":\"scattercarpet\",\"marker\":{\"colorbar\":{\"outlinewidth\":0,\"ticks\":\"\"}}}],\"carpet\":[{\"aaxis\":{\"endlinecolor\":\"#2a3f5f\",\"gridcolor\":\"white\",\"linecolor\":\"white\",\"minorgridcolor\":\"white\",\"startlinecolor\":\"#2a3f5f\"},\"baxis\":{\"endlinecolor\":\"#2a3f5f\",\"gridcolor\":\"white\",\"linecolor\":\"white\",\"minorgridcolor\":\"white\",\"startlinecolor\":\"#2a3f5f\"},\"type\":\"carpet\"}],\"table\":[{\"cells\":{\"fill\":{\"color\":\"#EBF0F8\"},\"line\":{\"color\":\"white\"}},\"header\":{\"fill\":{\"color\":\"#C8D4E3\"},\"line\":{\"color\":\"white\"}},\"type\":\"table\"}],\"barpolar\":[{\"marker\":{\"line\":{\"color\":\"#E5ECF6\",\"width\":0.5},\"pattern\":{\"fillmode\":\"overlay\",\"size\":10,\"solidity\":0.2}},\"type\":\"barpolar\"}],\"pie\":[{\"automargin\":true,\"type\":\"pie\"}]},\"layout\":{\"autotypenumbers\":\"strict\",\"colorway\":[\"#636efa\",\"#EF553B\",\"#00cc96\",\"#ab63fa\",\"#FFA15A\",\"#19d3f3\",\"#FF6692\",\"#B6E880\",\"#FF97FF\",\"#FECB52\"],\"font\":{\"color\":\"#2a3f5f\"},\"hovermode\":\"closest\",\"hoverlabel\":{\"align\":\"left\"},\"paper_bgcolor\":\"white\",\"plot_bgcolor\":\"#E5ECF6\",\"polar\":{\"bgcolor\":\"#E5ECF6\",\"angularaxis\":{\"gridcolor\":\"white\",\"linecolor\":\"white\",\"ticks\":\"\"},\"radialaxis\":{\"gridcolor\":\"white\",\"linecolor\":\"white\",\"ticks\":\"\"}},\"ternary\":{\"bgcolor\":\"#E5ECF6\",\"aaxis\":{\"gridcolor\":\"white\",\"linecolor\":\"white\",\"ticks\":\"\"},\"baxis\":{\"gridcolor\":\"white\",\"linecolor\":\"white\",\"ticks\":\"\"},\"caxis\":{\"gridcolor\":\"white\",\"linecolor\":\"white\",\"ticks\":\"\"}},\"coloraxis\":{\"colorbar\":{\"outlinewidth\":0,\"ticks\":\"\"}},\"colorscale\":{\"sequential\":[[0.0,\"#0d0887\"],[0.1111111111111111,\"#46039f\"],[0.2222222222222222,\"#7201a8\"],[0.3333333333333333,\"#9c179e\"],[0.4444444444444444,\"#bd3786\"],[0.5555555555555556,\"#d8576b\"],[0.6666666666666666,\"#ed7953\"],[0.7777777777777778,\"#fb9f3a\"],[0.8888888888888888,\"#fdca26\"],[1.0,\"#f0f921\"]],\"sequentialminus\":[[0.0,\"#0d0887\"],[0.1111111111111111,\"#46039f\"],[0.2222222222222222,\"#7201a8\"],[0.3333333333333333,\"#9c179e\"],[0.4444444444444444,\"#bd3786\"],[0.5555555555555556,\"#d8576b\"],[0.6666666666666666,\"#ed7953\"],[0.7777777777777778,\"#fb9f3a\"],[0.8888888888888888,\"#fdca26\"],[1.0,\"#f0f921\"]],\"diverging\":[[0,\"#8e0152\"],[0.1,\"#c51b7d\"],[0.2,\"#de77ae\"],[0.3,\"#f1b6da\"],[0.4,\"#fde0ef\"],[0.5,\"#f7f7f7\"],[0.6,\"#e6f5d0\"],[0.7,\"#b8e186\"],[0.8,\"#7fbc41\"],[0.9,\"#4d9221\"],[1,\"#276419\"]]},\"xaxis\":{\"gridcolor\":\"white\",\"linecolor\":\"white\",\"ticks\":\"\",\"title\":{\"standoff\":15},\"zerolinecolor\":\"white\",\"automargin\":true,\"zerolinewidth\":2},\"yaxis\":{\"gridcolor\":\"white\",\"linecolor\":\"white\",\"ticks\":\"\",\"title\":{\"standoff\":15},\"zerolinecolor\":\"white\",\"automargin\":true,\"zerolinewidth\":2},\"scene\":{\"xaxis\":{\"backgroundcolor\":\"#E5ECF6\",\"gridcolor\":\"white\",\"linecolor\":\"white\",\"showbackground\":true,\"ticks\":\"\",\"zerolinecolor\":\"white\",\"gridwidth\":2},\"yaxis\":{\"backgroundcolor\":\"#E5ECF6\",\"gridcolor\":\"white\",\"linecolor\":\"white\",\"showbackground\":true,\"ticks\":\"\",\"zerolinecolor\":\"white\",\"gridwidth\":2},\"zaxis\":{\"backgroundcolor\":\"#E5ECF6\",\"gridcolor\":\"white\",\"linecolor\":\"white\",\"showbackground\":true,\"ticks\":\"\",\"zerolinecolor\":\"white\",\"gridwidth\":2}},\"shapedefaults\":{\"line\":{\"color\":\"#2a3f5f\"}},\"annotationdefaults\":{\"arrowcolor\":\"#2a3f5f\",\"arrowhead\":0,\"arrowwidth\":1},\"geo\":{\"bgcolor\":\"white\",\"landcolor\":\"#E5ECF6\",\"subunitcolor\":\"white\",\"showland\":true,\"showlakes\":true,\"lakecolor\":\"white\"},\"title\":{\"x\":0.05},\"mapbox\":{\"style\":\"light\"}}},\"legend\":{\"tracegroupgap\":0},\"title\":{\"text\":\"Gastos / Ingresos por Categoria\",\"font\":{\"size\":42,\"family\":\"Arial\"}}},                        {\"responsive\": true}                    ).then(function(){\n",
       "                            \n",
       "var gd = document.getElementById('778faa4d-355d-463f-aca0-a426cec0a1df');\n",
       "var x = new MutationObserver(function (mutations, observer) {{\n",
       "        var display = window.getComputedStyle(gd).display;\n",
       "        if (!display || display === 'none') {{\n",
       "            console.log([gd, 'removed!']);\n",
       "            Plotly.purge(gd);\n",
       "            observer.disconnect();\n",
       "        }}\n",
       "}});\n",
       "\n",
       "// Listen for the removal of the full notebook cells\n",
       "var notebookContainer = gd.closest('#notebook-container');\n",
       "if (notebookContainer) {{\n",
       "    x.observe(notebookContainer, {childList: true});\n",
       "}}\n",
       "\n",
       "// Listen for the clearing of the current output cell\n",
       "var outputEl = gd.closest('.output');\n",
       "if (outputEl) {{\n",
       "    x.observe(outputEl, {childList: true});\n",
       "}}\n",
       "\n",
       "                        })                };                });            </script>        </div>"
      ]
     },
     "metadata": {},
     "output_type": "display_data"
    }
   ],
   "source": [
    "fig = px.treemap(df,\n",
    "            path=[px.Constant('All'), 'Tipo', 'Categoria', 'Subcategoria', 'Beneficiario'],\n",
    "            values = \"AbsoluteImporte\",\n",
    "            color = \"Categoria\",\n",
    "            title=\"Gastos / Ingresos por Categoria\"\n",
    ")\n",
    "# fig.update_traces(root_color=\"lightgrey\")\n",
    "fig.update_layout(\n",
    "        title_font_size=42,\n",
    "        title_font_family=\"Arial\"\n",
    "    )"
   ]
  },
  {
   "cell_type": "code",
   "execution_count": null,
   "id": "ee224486-0ee7-4b06-bef5-5d756a726bc6",
   "metadata": {},
   "outputs": [],
   "source": []
  },
  {
   "cell_type": "code",
   "execution_count": null,
   "id": "9f0b11a7-4cc6-4e62-a915-350855e4497e",
   "metadata": {},
   "outputs": [],
   "source": []
  }
 ],
 "metadata": {
  "kernelspec": {
   "display_name": "Python 3 (ipykernel)",
   "language": "python",
   "name": "python3"
  },
  "language_info": {
   "codemirror_mode": {
    "name": "ipython",
    "version": 3
   },
   "file_extension": ".py",
   "mimetype": "text/x-python",
   "name": "python",
   "nbconvert_exporter": "python",
   "pygments_lexer": "ipython3",
   "version": "3.9.12"
  }
 },
 "nbformat": 4,
 "nbformat_minor": 5
}
